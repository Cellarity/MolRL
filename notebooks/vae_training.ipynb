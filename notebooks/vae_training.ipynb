{
 "cells": [
  {
   "cell_type": "markdown",
   "id": "29e760fc-d29c-4af4-b374-b204c2abb184",
   "metadata": {},
   "source": [
    "# VAE with cyclical annealing training"
   ]
  },
  {
   "cell_type": "code",
   "execution_count": 1,
   "id": "f4bdba2d-50b2-48b2-8e61-d7ea9ce0b879",
   "metadata": {
    "execution": {
     "iopub.execute_input": "2025-06-12T15:03:27.009086Z",
     "iopub.status.busy": "2025-06-12T15:03:27.008929Z",
     "iopub.status.idle": "2025-06-12T15:03:27.044298Z",
     "shell.execute_reply": "2025-06-12T15:03:27.043742Z",
     "shell.execute_reply.started": "2025-06-12T15:03:27.009070Z"
    }
   },
   "outputs": [],
   "source": [
    "%load_ext autoreload\n",
    "%autoreload 2"
   ]
  },
  {
   "cell_type": "code",
   "execution_count": 20,
   "id": "968dca36-e290-468d-9b1e-ad409ed40b64",
   "metadata": {
    "execution": {
     "iopub.execute_input": "2025-06-12T16:32:06.059744Z",
     "iopub.status.busy": "2025-06-12T16:32:06.059210Z",
     "iopub.status.idle": "2025-06-12T16:32:06.107093Z",
     "shell.execute_reply": "2025-06-12T16:32:06.106622Z",
     "shell.execute_reply.started": "2025-06-12T16:32:06.059727Z"
    }
   },
   "outputs": [],
   "source": [
    "import pandas as pd\n",
    "import datamol as dm\n",
    "import torch\n",
    "import pytorch_lightning as pl\n",
    "from molrl import SMILESVAERNNCAT, Vocab, SMILESVAEDataset \n",
    "from torch.utils.data import DataLoader"
   ]
  },
  {
   "cell_type": "markdown",
   "id": "dadf0818-fe2e-4d6b-b898-5ea99ae1ac1f",
   "metadata": {},
   "source": [
    "## Download a sample dataset"
   ]
  },
  {
   "cell_type": "code",
   "execution_count": null,
   "id": "f9baffe4-0267-47e6-967c-0f90b64848c7",
   "metadata": {
    "execution": {
     "iopub.execute_input": "2025-06-12T14:19:33.004768Z",
     "iopub.status.busy": "2025-06-12T14:19:33.004295Z",
     "iopub.status.idle": "2025-06-12T14:19:34.856043Z",
     "shell.execute_reply": "2025-06-12T14:19:34.855498Z",
     "shell.execute_reply.started": "2025-06-12T14:19:33.004752Z"
    }
   },
   "outputs": [],
   "source": [
    "!wget https://media.githubusercontent.com/media/molecularsets/moses/refs/heads/master/data/train.csv\n",
    "!wget https://media.githubusercontent.com/media/molecularsets/moses/refs/heads/master/data/test.csv"
   ]
  },
  {
   "cell_type": "markdown",
   "id": "af4fffeb-4841-45ee-8327-5f8bd0de80e4",
   "metadata": {},
   "source": [
    "## Dataset & Vocab"
   ]
  },
  {
   "cell_type": "code",
   "execution_count": 3,
   "id": "2c957433-66ec-4677-a826-ee307bc684d1",
   "metadata": {
    "execution": {
     "iopub.execute_input": "2025-06-12T15:03:31.384531Z",
     "iopub.status.busy": "2025-06-12T15:03:31.383501Z",
     "iopub.status.idle": "2025-06-12T15:03:32.513213Z",
     "shell.execute_reply": "2025-06-12T15:03:32.512603Z",
     "shell.execute_reply.started": "2025-06-12T15:03:31.384516Z"
    }
   },
   "outputs": [],
   "source": [
    "train_df = pd.read_csv('train.csv')\n",
    "test_df = pd.read_csv('test.csv')"
   ]
  },
  {
   "cell_type": "code",
   "execution_count": 4,
   "id": "bd1079bc-0843-4493-b518-686ae20fabea",
   "metadata": {
    "execution": {
     "iopub.execute_input": "2025-06-12T15:03:32.514068Z",
     "iopub.status.busy": "2025-06-12T15:03:32.513793Z",
     "iopub.status.idle": "2025-06-12T15:03:35.234318Z",
     "shell.execute_reply": "2025-06-12T15:03:35.233758Z",
     "shell.execute_reply.started": "2025-06-12T15:03:32.514054Z"
    }
   },
   "outputs": [
    {
     "name": "stdout",
     "output_type": "stream",
     "text": [
      "extracting charset..\n"
     ]
    },
    {
     "name": "stderr",
     "output_type": "stream",
     "text": [
      "100%|██████████| 1584663/1584663 [00:02<00:00, 690500.15it/s]\n"
     ]
    }
   ],
   "source": [
    "vocab = Vocab(train_df, smiles_col='SMILES')"
   ]
  },
  {
   "cell_type": "markdown",
   "id": "78b03afa-244e-4f6b-8769-0fb36c0dd9b0",
   "metadata": {},
   "source": [
    "## Train & Val Datasets"
   ]
  },
  {
   "cell_type": "code",
   "execution_count": 5,
   "id": "826dd9a3-8186-4008-97c8-8b6be14b24ce",
   "metadata": {
    "execution": {
     "iopub.execute_input": "2025-06-12T15:03:35.235132Z",
     "iopub.status.busy": "2025-06-12T15:03:35.234870Z",
     "iopub.status.idle": "2025-06-12T15:03:40.900500Z",
     "shell.execute_reply": "2025-06-12T15:03:40.899942Z",
     "shell.execute_reply.started": "2025-06-12T15:03:35.235117Z"
    }
   },
   "outputs": [
    {
     "name": "stdout",
     "output_type": "stream",
     "text": [
      "tokenizing..\n",
      "done..\n",
      "tokenizing..\n",
      "done..\n"
     ]
    }
   ],
   "source": [
    "train_ds = SMILESVAEDataset(train_df, smiles_col='SMILES', vocab=vocab)\n",
    "val_ds = SMILESVAEDataset(test_df, smiles_col='SMILES', vocab=vocab)"
   ]
  },
  {
   "cell_type": "code",
   "execution_count": 6,
   "id": "12f2f163-876f-4782-bc97-1f073e9ebc21",
   "metadata": {
    "execution": {
     "iopub.execute_input": "2025-06-12T15:03:40.901208Z",
     "iopub.status.busy": "2025-06-12T15:03:40.901059Z",
     "iopub.status.idle": "2025-06-12T15:03:40.945268Z",
     "shell.execute_reply": "2025-06-12T15:03:40.944744Z",
     "shell.execute_reply.started": "2025-06-12T15:03:40.901194Z"
    }
   },
   "outputs": [],
   "source": [
    "train_loader = DataLoader(\n",
    "    train_ds,\n",
    "    batch_size=256,\n",
    "    shuffle=True,\n",
    "    collate_fn=train_ds.collate,\n",
    "    num_workers=4,\n",
    ")\n",
    "\n",
    "val_loader = DataLoader(\n",
    "    val_ds, batch_size=256, shuffle=False, collate_fn=train_ds.collate, num_workers=4\n",
    ")"
   ]
  },
  {
   "cell_type": "markdown",
   "id": "e3eadb45-895e-47e2-b9a6-78db02b653a9",
   "metadata": {},
   "source": [
    "## Checkpoint"
   ]
  },
  {
   "cell_type": "code",
   "execution_count": 7,
   "id": "8d1cff75-296a-4e91-a48e-ac4653ac2ceb",
   "metadata": {
    "execution": {
     "iopub.execute_input": "2025-06-12T15:03:40.947996Z",
     "iopub.status.busy": "2025-06-12T15:03:40.947814Z",
     "iopub.status.idle": "2025-06-12T15:03:41.014266Z",
     "shell.execute_reply": "2025-06-12T15:03:41.013759Z",
     "shell.execute_reply.started": "2025-06-12T15:03:40.947982Z"
    }
   },
   "outputs": [],
   "source": [
    "checkpoint = pl.callbacks.ModelCheckpoint(\n",
    "    dirpath=f'./vae-cyc/',\n",
    "    filename='vae-rnn-{epoch}',\n",
    "    monitor='val_loss',\n",
    "    save_top_k=5,\n",
    "    save_last=True,\n",
    ")\n",
    "# early stopping on val reconstruction loss\n",
    "es = pl.callbacks.EarlyStopping(monitor='val_r_loss', patience=30)"
   ]
  },
  {
   "cell_type": "markdown",
   "id": "e16654c5-7a6b-4c77-b285-bcda0b00facc",
   "metadata": {},
   "source": [
    "## Define model"
   ]
  },
  {
   "cell_type": "code",
   "execution_count": 8,
   "id": "eb9b83de-3bff-4421-ae34-ada5907b5c98",
   "metadata": {
    "execution": {
     "iopub.execute_input": "2025-06-12T15:03:41.015118Z",
     "iopub.status.busy": "2025-06-12T15:03:41.014854Z",
     "iopub.status.idle": "2025-06-12T15:03:41.158494Z",
     "shell.execute_reply": "2025-06-12T15:03:41.157940Z",
     "shell.execute_reply.started": "2025-06-12T15:03:41.015103Z"
    }
   },
   "outputs": [
    {
     "name": "stdout",
     "output_type": "stream",
     "text": [
      "annealing: cyclical\n"
     ]
    }
   ],
   "source": [
    "model = SMILESVAERNNCAT(\n",
    "            latent_size=64,\n",
    "            hidden_dim=512,\n",
    "            num_layers=2, \n",
    "            enc_num_layers=2,\n",
    "            word_dropout=0.2,\n",
    "            lr=0.0001,\n",
    "            vocab=vocab,\n",
    "            dropout=0.1,\n",
    "            t_kl_weight=1,\n",
    "            c_step=20000,\n",
    "            annealing='cyclical', #cyclical annealing\n",
    "            max_kl_weight=0.6,\n",
    "        )"
   ]
  },
  {
   "cell_type": "markdown",
   "id": "41495782-212e-414d-8936-717073c7deaa",
   "metadata": {},
   "source": [
    "## Model training"
   ]
  },
  {
   "cell_type": "code",
   "execution_count": 9,
   "id": "cb40a0cd-1959-4ef5-b53c-e0d8c42b6a80",
   "metadata": {
    "execution": {
     "iopub.execute_input": "2025-06-12T15:03:41.159296Z",
     "iopub.status.busy": "2025-06-12T15:03:41.159037Z",
     "iopub.status.idle": "2025-06-12T15:03:41.203611Z",
     "shell.execute_reply": "2025-06-12T15:03:41.203110Z",
     "shell.execute_reply.started": "2025-06-12T15:03:41.159282Z"
    }
   },
   "outputs": [],
   "source": [
    "wandb_logger = pl.loggers.WandbLogger(project='vae-cyc', name='example-pretraining-1')"
   ]
  },
  {
   "cell_type": "code",
   "execution_count": 10,
   "id": "583055b2-0ca4-4ee1-a55b-399415d05664",
   "metadata": {
    "execution": {
     "iopub.execute_input": "2025-06-12T15:03:45.321246Z",
     "iopub.status.busy": "2025-06-12T15:03:45.320862Z",
     "iopub.status.idle": "2025-06-12T15:03:45.452891Z",
     "shell.execute_reply": "2025-06-12T15:03:45.452440Z",
     "shell.execute_reply.started": "2025-06-12T15:03:45.321231Z"
    }
   },
   "outputs": [
    {
     "name": "stderr",
     "output_type": "stream",
     "text": [
      "GPU available: True (cuda), used: True\n",
      "TPU available: False, using: 0 TPU cores\n",
      "HPU available: False, using: 0 HPUs\n"
     ]
    }
   ],
   "source": [
    "trainer = pl.Trainer(\n",
    "    max_epochs=300,\n",
    "    callbacks=[es, checkpoint],\n",
    "    accelerator='gpu',\n",
    "    devices=[2],\n",
    "    logger=wandb_logger,\n",
    "    gradient_clip_val=5.0,\n",
    ")"
   ]
  },
  {
   "cell_type": "code",
   "execution_count": null,
   "id": "9b9c6658-2bb4-4977-bd6c-86a1cb3b76f6",
   "metadata": {},
   "outputs": [],
   "source": [
    "trainer.fit(model, train_loader, val_loader)"
   ]
  },
  {
   "cell_type": "markdown",
   "id": "3209e784-17de-465d-9a40-d551154fa389",
   "metadata": {},
   "source": [
    "## Load model"
   ]
  },
  {
   "cell_type": "code",
   "execution_count": 12,
   "id": "d0a0aaa4-9dab-436f-8d26-a6e64c956234",
   "metadata": {
    "execution": {
     "iopub.execute_input": "2025-06-12T16:23:17.399960Z",
     "iopub.status.busy": "2025-06-12T16:23:17.399565Z",
     "iopub.status.idle": "2025-06-12T16:23:17.634196Z",
     "shell.execute_reply": "2025-06-12T16:23:17.633673Z",
     "shell.execute_reply.started": "2025-06-12T16:23:17.399936Z"
    }
   },
   "outputs": [
    {
     "name": "stdout",
     "output_type": "stream",
     "text": [
      "annealing: cyclical\n"
     ]
    }
   ],
   "source": [
    "trained_model = SMILESVAERNNCAT.load_from_checkpoint('./vae-cyc/last-v2.ckpt').eval()"
   ]
  },
  {
   "cell_type": "markdown",
   "id": "82976017-4c8b-4dfa-a297-3f4620ba64fb",
   "metadata": {},
   "source": [
    "## SMILES to embedding"
   ]
  },
  {
   "cell_type": "code",
   "execution_count": 23,
   "id": "d44c8ad6-b7e7-4a35-8ed8-c9f200c9de7d",
   "metadata": {
    "execution": {
     "iopub.execute_input": "2025-06-12T16:32:33.961182Z",
     "iopub.status.busy": "2025-06-12T16:32:33.960751Z",
     "iopub.status.idle": "2025-06-12T16:32:34.273511Z",
     "shell.execute_reply": "2025-06-12T16:32:34.273019Z",
     "shell.execute_reply.started": "2025-06-12T16:32:33.961165Z"
    }
   },
   "outputs": [
    {
     "name": "stderr",
     "output_type": "stream",
     "text": [
      "\n",
      "100%|██████████| 2/2 [00:00<00:00, 14388.69it/s]\n",
      "\n",
      "  0%|          | 0/1 [00:00<?, ?it/s]\u001b[A\n",
      "100%|██████████| 1/1 [00:00<00:00,  6.62it/s]\u001b[A\n",
      "                                             \u001b[A"
     ]
    }
   ],
   "source": [
    "smis = [\"CCC1NC(=O)c2cc(S(N)(=O)=O)c(Cl)cc2N1\", \"CC1Oc2ccc(Cl)cc2N(CC(O)CO)C1=O\"]\n",
    "embeds = trained_model.smiles_to_latent(smis)"
   ]
  },
  {
   "cell_type": "code",
   "execution_count": 24,
   "id": "19b3dbf9-551a-45a1-8534-c6d54fd6d314",
   "metadata": {
    "execution": {
     "iopub.execute_input": "2025-06-12T16:32:34.698843Z",
     "iopub.status.busy": "2025-06-12T16:32:34.698457Z",
     "iopub.status.idle": "2025-06-12T16:32:34.758795Z",
     "shell.execute_reply": "2025-06-12T16:32:34.758350Z",
     "shell.execute_reply.started": "2025-06-12T16:32:34.698823Z"
    }
   },
   "outputs": [
    {
     "data": {
      "image/svg+xml": [
       "<svg xmlns=\"http://www.w3.org/2000/svg\" xmlns:rdkit=\"http://www.rdkit.org/xml\" xmlns:xlink=\"http://www.w3.org/1999/xlink\" version=\"1.1\" baseProfile=\"full\" xml:space=\"preserve\" width=\"600px\" height=\"300px\" viewBox=\"0 0 600 300\">\n",
       "<!-- END OF HEADER -->\n",
       "<rect style=\"opacity:1.0;fill:#FFFFFF;stroke:none\" width=\"300.0\" height=\"300.0\" x=\"0.0\" y=\"0.0\"> </rect>\n",
       "<path class=\"bond-0 atom-0 atom-1\" d=\"M 15.0,155.9 L 41.4,178.6\" style=\"fill:none;fill-rule:evenodd;stroke:#000000;stroke-width:2.0px;stroke-linecap:butt;stroke-linejoin:miter;stroke-opacity:1\"/>\n",
       "<path class=\"bond-1 atom-1 atom-2\" d=\"M 41.4,178.6 L 74.3,167.1\" style=\"fill:none;fill-rule:evenodd;stroke:#000000;stroke-width:2.0px;stroke-linecap:butt;stroke-linejoin:miter;stroke-opacity:1\"/>\n",
       "<path class=\"bond-2 atom-2 atom-3\" d=\"M 74.3,167.1 L 77.0,153.1\" style=\"fill:none;fill-rule:evenodd;stroke:#000000;stroke-width:2.0px;stroke-linecap:butt;stroke-linejoin:miter;stroke-opacity:1\"/>\n",
       "<path class=\"bond-2 atom-2 atom-3\" d=\"M 77.0,153.1 L 79.7,139.0\" style=\"fill:none;fill-rule:evenodd;stroke:#0000FF;stroke-width:2.0px;stroke-linecap:butt;stroke-linejoin:miter;stroke-opacity:1\"/>\n",
       "<path class=\"bond-3 atom-3 atom-4\" d=\"M 85.7,131.2 L 99.7,126.3\" style=\"fill:none;fill-rule:evenodd;stroke:#0000FF;stroke-width:2.0px;stroke-linecap:butt;stroke-linejoin:miter;stroke-opacity:1\"/>\n",
       "<path class=\"bond-3 atom-3 atom-4\" d=\"M 99.7,126.3 L 113.8,121.4\" style=\"fill:none;fill-rule:evenodd;stroke:#000000;stroke-width:2.0px;stroke-linecap:butt;stroke-linejoin:miter;stroke-opacity:1\"/>\n",
       "<path class=\"bond-4 atom-4 atom-5\" d=\"M 116.0,123.4 L 118.8,108.6\" style=\"fill:none;fill-rule:evenodd;stroke:#000000;stroke-width:2.0px;stroke-linecap:butt;stroke-linejoin:miter;stroke-opacity:1\"/>\n",
       "<path class=\"bond-4 atom-4 atom-5\" d=\"M 118.8,108.6 L 121.6,93.9\" style=\"fill:none;fill-rule:evenodd;stroke:#FF0000;stroke-width:2.0px;stroke-linecap:butt;stroke-linejoin:miter;stroke-opacity:1\"/>\n",
       "<path class=\"bond-4 atom-4 atom-5\" d=\"M 110.9,122.4 L 113.7,107.7\" style=\"fill:none;fill-rule:evenodd;stroke:#000000;stroke-width:2.0px;stroke-linecap:butt;stroke-linejoin:miter;stroke-opacity:1\"/>\n",
       "<path class=\"bond-4 atom-4 atom-5\" d=\"M 113.7,107.7 L 116.5,92.9\" style=\"fill:none;fill-rule:evenodd;stroke:#FF0000;stroke-width:2.0px;stroke-linecap:butt;stroke-linejoin:miter;stroke-opacity:1\"/>\n",
       "<path class=\"bond-5 atom-4 atom-6\" d=\"M 113.8,121.4 L 140.2,144.2\" style=\"fill:none;fill-rule:evenodd;stroke:#000000;stroke-width:2.0px;stroke-linecap:butt;stroke-linejoin:miter;stroke-opacity:1\"/>\n",
       "<path class=\"bond-6 atom-6 atom-7\" d=\"M 140.2,144.2 L 173.1,132.7\" style=\"fill:none;fill-rule:evenodd;stroke:#000000;stroke-width:2.0px;stroke-linecap:butt;stroke-linejoin:miter;stroke-opacity:1\"/>\n",
       "<path class=\"bond-6 atom-6 atom-7\" d=\"M 144.7,148.1 L 172.0,138.6\" style=\"fill:none;fill-rule:evenodd;stroke:#000000;stroke-width:2.0px;stroke-linecap:butt;stroke-linejoin:miter;stroke-opacity:1\"/>\n",
       "<path class=\"bond-7 atom-7 atom-8\" d=\"M 173.1,132.7 L 199.5,155.4\" style=\"fill:none;fill-rule:evenodd;stroke:#000000;stroke-width:2.0px;stroke-linecap:butt;stroke-linejoin:miter;stroke-opacity:1\"/>\n",
       "<path class=\"bond-8 atom-8 atom-9\" d=\"M 199.5,155.4 L 213.8,150.4\" style=\"fill:none;fill-rule:evenodd;stroke:#000000;stroke-width:2.0px;stroke-linecap:butt;stroke-linejoin:miter;stroke-opacity:1\"/>\n",
       "<path class=\"bond-8 atom-8 atom-9\" d=\"M 213.8,150.4 L 228.1,145.4\" style=\"fill:none;fill-rule:evenodd;stroke:#CCCC00;stroke-width:2.0px;stroke-linecap:butt;stroke-linejoin:miter;stroke-opacity:1\"/>\n",
       "<path class=\"bond-9 atom-9 atom-10\" d=\"M 236.7,142.4 L 248.6,138.3\" style=\"fill:none;fill-rule:evenodd;stroke:#CCCC00;stroke-width:2.0px;stroke-linecap:butt;stroke-linejoin:miter;stroke-opacity:1\"/>\n",
       "<path class=\"bond-9 atom-9 atom-10\" d=\"M 248.6,138.3 L 260.4,134.1\" style=\"fill:none;fill-rule:evenodd;stroke:#0000FF;stroke-width:2.0px;stroke-linecap:butt;stroke-linejoin:miter;stroke-opacity:1\"/>\n",
       "<path class=\"bond-10 atom-9 atom-11\" d=\"M 232.2,151.1 L 235.7,161.3\" style=\"fill:none;fill-rule:evenodd;stroke:#CCCC00;stroke-width:2.0px;stroke-linecap:butt;stroke-linejoin:miter;stroke-opacity:1\"/>\n",
       "<path class=\"bond-10 atom-9 atom-11\" d=\"M 235.7,161.3 L 239.3,171.6\" style=\"fill:none;fill-rule:evenodd;stroke:#FF0000;stroke-width:2.0px;stroke-linecap:butt;stroke-linejoin:miter;stroke-opacity:1\"/>\n",
       "<path class=\"bond-10 atom-9 atom-11\" d=\"M 237.1,149.4 L 240.7,159.6\" style=\"fill:none;fill-rule:evenodd;stroke:#CCCC00;stroke-width:2.0px;stroke-linecap:butt;stroke-linejoin:miter;stroke-opacity:1\"/>\n",
       "<path class=\"bond-10 atom-9 atom-11\" d=\"M 240.7,159.6 L 244.2,169.8\" style=\"fill:none;fill-rule:evenodd;stroke:#FF0000;stroke-width:2.0px;stroke-linecap:butt;stroke-linejoin:miter;stroke-opacity:1\"/>\n",
       "<path class=\"bond-11 atom-9 atom-12\" d=\"M 232.8,137.0 L 229.2,126.7\" style=\"fill:none;fill-rule:evenodd;stroke:#CCCC00;stroke-width:2.0px;stroke-linecap:butt;stroke-linejoin:miter;stroke-opacity:1\"/>\n",
       "<path class=\"bond-11 atom-9 atom-12\" d=\"M 229.2,126.7 L 225.6,116.4\" style=\"fill:none;fill-rule:evenodd;stroke:#FF0000;stroke-width:2.0px;stroke-linecap:butt;stroke-linejoin:miter;stroke-opacity:1\"/>\n",
       "<path class=\"bond-11 atom-9 atom-12\" d=\"M 227.8,138.7 L 224.2,128.4\" style=\"fill:none;fill-rule:evenodd;stroke:#CCCC00;stroke-width:2.0px;stroke-linecap:butt;stroke-linejoin:miter;stroke-opacity:1\"/>\n",
       "<path class=\"bond-11 atom-9 atom-12\" d=\"M 224.2,128.4 L 220.7,118.2\" style=\"fill:none;fill-rule:evenodd;stroke:#FF0000;stroke-width:2.0px;stroke-linecap:butt;stroke-linejoin:miter;stroke-opacity:1\"/>\n",
       "<path class=\"bond-12 atom-8 atom-13\" d=\"M 199.5,155.4 L 193.0,189.7\" style=\"fill:none;fill-rule:evenodd;stroke:#000000;stroke-width:2.0px;stroke-linecap:butt;stroke-linejoin:miter;stroke-opacity:1\"/>\n",
       "<path class=\"bond-12 atom-8 atom-13\" d=\"M 193.8,157.4 L 188.4,185.7\" style=\"fill:none;fill-rule:evenodd;stroke:#000000;stroke-width:2.0px;stroke-linecap:butt;stroke-linejoin:miter;stroke-opacity:1\"/>\n",
       "<path class=\"bond-13 atom-13 atom-14\" d=\"M 193.0,189.7 L 203.7,198.9\" style=\"fill:none;fill-rule:evenodd;stroke:#000000;stroke-width:2.0px;stroke-linecap:butt;stroke-linejoin:miter;stroke-opacity:1\"/>\n",
       "<path class=\"bond-13 atom-13 atom-14\" d=\"M 203.7,198.9 L 214.4,208.2\" style=\"fill:none;fill-rule:evenodd;stroke:#00CC00;stroke-width:2.0px;stroke-linecap:butt;stroke-linejoin:miter;stroke-opacity:1\"/>\n",
       "<path class=\"bond-14 atom-13 atom-15\" d=\"M 193.0,189.7 L 160.1,201.2\" style=\"fill:none;fill-rule:evenodd;stroke:#000000;stroke-width:2.0px;stroke-linecap:butt;stroke-linejoin:miter;stroke-opacity:1\"/>\n",
       "<path class=\"bond-15 atom-15 atom-16\" d=\"M 160.1,201.2 L 133.7,178.4\" style=\"fill:none;fill-rule:evenodd;stroke:#000000;stroke-width:2.0px;stroke-linecap:butt;stroke-linejoin:miter;stroke-opacity:1\"/>\n",
       "<path class=\"bond-15 atom-15 atom-16\" d=\"M 161.2,195.2 L 139.4,176.4\" style=\"fill:none;fill-rule:evenodd;stroke:#000000;stroke-width:2.0px;stroke-linecap:butt;stroke-linejoin:miter;stroke-opacity:1\"/>\n",
       "<path class=\"bond-16 atom-16 atom-17\" d=\"M 133.7,178.4 L 119.7,183.3\" style=\"fill:none;fill-rule:evenodd;stroke:#000000;stroke-width:2.0px;stroke-linecap:butt;stroke-linejoin:miter;stroke-opacity:1\"/>\n",
       "<path class=\"bond-16 atom-16 atom-17\" d=\"M 119.7,183.3 L 105.6,188.2\" style=\"fill:none;fill-rule:evenodd;stroke:#0000FF;stroke-width:2.0px;stroke-linecap:butt;stroke-linejoin:miter;stroke-opacity:1\"/>\n",
       "<path class=\"bond-17 atom-17 atom-2\" d=\"M 95.8,185.7 L 85.1,176.4\" style=\"fill:none;fill-rule:evenodd;stroke:#0000FF;stroke-width:2.0px;stroke-linecap:butt;stroke-linejoin:miter;stroke-opacity:1\"/>\n",
       "<path class=\"bond-17 atom-17 atom-2\" d=\"M 85.1,176.4 L 74.3,167.1\" style=\"fill:none;fill-rule:evenodd;stroke:#000000;stroke-width:2.0px;stroke-linecap:butt;stroke-linejoin:miter;stroke-opacity:1\"/>\n",
       "<path class=\"bond-18 atom-16 atom-6\" d=\"M 133.7,178.4 L 140.2,144.2\" style=\"fill:none;fill-rule:evenodd;stroke:#000000;stroke-width:2.0px;stroke-linecap:butt;stroke-linejoin:miter;stroke-opacity:1\"/>\n",
       "<path d=\"M 40.1,177.5 L 41.4,178.6 L 43.1,178.1\" style=\"fill:none;stroke:#000000;stroke-width:2.0px;stroke-linecap:butt;stroke-linejoin:miter;stroke-miterlimit:10;stroke-opacity:1;\"/>\n",
       "<path d=\"M 113.1,121.6 L 113.8,121.4 L 115.1,122.5\" style=\"fill:none;stroke:#000000;stroke-width:2.0px;stroke-linecap:butt;stroke-linejoin:miter;stroke-miterlimit:10;stroke-opacity:1;\"/>\n",
       "<path d=\"M 171.4,133.2 L 173.1,132.7 L 174.4,133.8\" style=\"fill:none;stroke:#000000;stroke-width:2.0px;stroke-linecap:butt;stroke-linejoin:miter;stroke-miterlimit:10;stroke-opacity:1;\"/>\n",
       "<path d=\"M 161.7,200.6 L 160.1,201.2 L 158.8,200.0\" style=\"fill:none;stroke:#000000;stroke-width:2.0px;stroke-linecap:butt;stroke-linejoin:miter;stroke-miterlimit:10;stroke-opacity:1;\"/>\n",
       "<path class=\"atom-3\" d=\"M 67.4 127.9 L 68.8 127.9 L 68.8 132.1 L 73.8 132.1 L 73.8 127.9 L 75.1 127.9 L 75.1 137.8 L 73.8 137.8 L 73.8 133.3 L 68.8 133.3 L 68.8 137.8 L 67.4 137.8 L 67.4 127.9 \" fill=\"#0000FF\"/>\n",
       "<path class=\"atom-3\" d=\"M 78.7 127.9 L 81.9 133.2 Q 82.2 133.7, 82.7 134.6 Q 83.2 135.6, 83.3 135.6 L 83.3 127.9 L 84.6 127.9 L 84.6 137.8 L 83.2 137.8 L 79.8 132.1 Q 79.4 131.4, 78.9 130.7 Q 78.5 129.9, 78.4 129.7 L 78.4 137.8 L 77.1 137.8 L 77.1 127.9 L 78.7 127.9 \" fill=\"#0000FF\"/>\n",
       "<path class=\"atom-5\" d=\"M 115.7 87.2 Q 115.7 84.8, 116.9 83.5 Q 118.1 82.1, 120.3 82.1 Q 122.5 82.1, 123.6 83.5 Q 124.8 84.8, 124.8 87.2 Q 124.8 89.6, 123.6 90.9 Q 122.4 92.3, 120.3 92.3 Q 118.1 92.3, 116.9 90.9 Q 115.7 89.6, 115.7 87.2 M 120.3 91.2 Q 121.8 91.2, 122.6 90.2 Q 123.4 89.1, 123.4 87.2 Q 123.4 85.2, 122.6 84.2 Q 121.8 83.3, 120.3 83.3 Q 118.8 83.3, 117.9 84.2 Q 117.1 85.2, 117.1 87.2 Q 117.1 89.2, 117.9 90.2 Q 118.8 91.2, 120.3 91.2 \" fill=\"#FF0000\"/>\n",
       "<path class=\"atom-9\" d=\"M 229.6 147.3 Q 229.7 147.4, 230.2 147.6 Q 230.7 147.7, 231.2 147.9 Q 231.7 148.0, 232.2 148.0 Q 233.1 148.0, 233.7 147.5 Q 234.2 147.1, 234.2 146.3 Q 234.2 145.7, 233.9 145.4 Q 233.7 145.1, 233.2 144.9 Q 232.8 144.7, 232.1 144.5 Q 231.2 144.2, 230.7 144.0 Q 230.2 143.7, 229.8 143.2 Q 229.5 142.7, 229.5 141.8 Q 229.5 140.5, 230.3 139.8 Q 231.1 139.0, 232.8 139.0 Q 234.0 139.0, 235.3 139.5 L 234.9 140.6 Q 233.8 140.1, 232.9 140.1 Q 231.9 140.1, 231.4 140.5 Q 230.8 140.9, 230.9 141.6 Q 230.9 142.1, 231.1 142.5 Q 231.4 142.8, 231.8 143.0 Q 232.2 143.1, 232.9 143.4 Q 233.8 143.6, 234.3 143.9 Q 234.8 144.2, 235.2 144.8 Q 235.6 145.3, 235.6 146.3 Q 235.6 147.7, 234.7 148.4 Q 233.8 149.1, 232.2 149.1 Q 231.4 149.1, 230.7 148.9 Q 230.0 148.7, 229.3 148.4 L 229.6 147.3 \" fill=\"#CCCC00\"/>\n",
       "<path class=\"atom-10\" d=\"M 263.2 127.5 L 266.4 132.7 Q 266.7 133.2, 267.2 134.2 Q 267.7 135.1, 267.8 135.2 L 267.8 127.5 L 269.1 127.5 L 269.1 137.4 L 267.7 137.4 L 264.3 131.7 Q 263.9 131.0, 263.4 130.2 Q 263.0 129.5, 262.9 129.2 L 262.9 137.4 L 261.6 137.4 L 261.6 127.5 L 263.2 127.5 \" fill=\"#0000FF\"/>\n",
       "<path class=\"atom-10\" d=\"M 271.0 127.5 L 272.3 127.5 L 272.3 131.7 L 277.4 131.7 L 277.4 127.5 L 278.7 127.5 L 278.7 137.4 L 277.4 137.4 L 277.4 132.8 L 272.3 132.8 L 272.3 137.4 L 271.0 137.4 L 271.0 127.5 \" fill=\"#0000FF\"/>\n",
       "<path class=\"atom-10\" d=\"M 280.6 137.0 Q 280.9 136.4, 281.4 136.1 Q 282.0 135.7, 282.8 135.7 Q 283.8 135.7, 284.3 136.3 Q 284.9 136.8, 284.9 137.7 Q 284.9 138.7, 284.2 139.6 Q 283.5 140.5, 282.0 141.6 L 285.0 141.6 L 285.0 142.3 L 280.6 142.3 L 280.6 141.7 Q 281.8 140.8, 282.5 140.2 Q 283.3 139.5, 283.6 139.0 Q 284.0 138.4, 284.0 137.8 Q 284.0 137.2, 283.7 136.8 Q 283.3 136.5, 282.8 136.5 Q 282.3 136.5, 281.9 136.7 Q 281.6 136.9, 281.3 137.3 L 280.6 137.0 \" fill=\"#0000FF\"/>\n",
       "<path class=\"atom-11\" d=\"M 239.4 176.9 Q 239.4 174.5, 240.6 173.2 Q 241.7 171.9, 243.9 171.9 Q 246.1 171.9, 247.3 173.2 Q 248.4 174.5, 248.4 176.9 Q 248.4 179.3, 247.3 180.6 Q 246.1 182.0, 243.9 182.0 Q 241.7 182.0, 240.6 180.6 Q 239.4 179.3, 239.4 176.9 M 243.9 180.9 Q 245.4 180.9, 246.2 179.9 Q 247.0 178.9, 247.0 176.9 Q 247.0 174.9, 246.2 174.0 Q 245.4 173.0, 243.9 173.0 Q 242.4 173.0, 241.6 173.9 Q 240.8 174.9, 240.8 176.9 Q 240.8 178.9, 241.6 179.9 Q 242.4 180.9, 243.9 180.9 \" fill=\"#FF0000\"/>\n",
       "<path class=\"atom-12\" d=\"M 216.4 111.0 Q 216.4 108.7, 217.6 107.3 Q 218.7 106.0, 220.9 106.0 Q 223.1 106.0, 224.3 107.3 Q 225.5 108.7, 225.5 111.0 Q 225.5 113.4, 224.3 114.8 Q 223.1 116.2, 220.9 116.2 Q 218.7 116.2, 217.6 114.8 Q 216.4 113.5, 216.4 111.0 M 220.9 115.0 Q 222.4 115.0, 223.2 114.0 Q 224.1 113.0, 224.1 111.0 Q 224.1 109.1, 223.2 108.1 Q 222.4 107.1, 220.9 107.1 Q 219.4 107.1, 218.6 108.1 Q 217.8 109.1, 217.8 111.0 Q 217.8 113.0, 218.6 114.0 Q 219.4 115.0, 220.9 115.0 \" fill=\"#FF0000\"/>\n",
       "<path class=\"atom-14\" d=\"M 215.6 212.8 Q 215.6 210.3, 216.7 209.0 Q 217.9 207.7, 220.1 207.7 Q 222.1 207.7, 223.2 209.2 L 222.3 209.9 Q 221.5 208.9, 220.1 208.9 Q 218.6 208.9, 217.8 209.9 Q 217.0 210.9, 217.0 212.8 Q 217.0 214.7, 217.8 215.7 Q 218.7 216.7, 220.2 216.7 Q 221.3 216.7, 222.6 216.1 L 223.0 217.1 Q 222.5 217.5, 221.7 217.7 Q 220.9 217.9, 220.0 217.9 Q 217.9 217.9, 216.7 216.5 Q 215.6 215.2, 215.6 212.8 \" fill=\"#00CC00\"/>\n",
       "<path class=\"atom-14\" d=\"M 224.2 207.1 L 225.5 207.1 L 225.5 217.7 L 224.2 217.7 L 224.2 207.1 \" fill=\"#00CC00\"/>\n",
       "<path class=\"atom-17\" d=\"M 98.6 185.0 L 101.8 190.2 Q 102.1 190.7, 102.6 191.6 Q 103.2 192.6, 103.2 192.6 L 103.2 185.0 L 104.5 185.0 L 104.5 194.8 L 103.1 194.8 L 99.7 189.1 Q 99.3 188.5, 98.8 187.7 Q 98.4 186.9, 98.3 186.7 L 98.3 194.8 L 97.0 194.8 L 97.0 185.0 L 98.6 185.0 \" fill=\"#0000FF\"/>\n",
       "<path class=\"atom-17\" d=\"M 96.9 195.8 L 98.2 195.8 L 98.2 200.0 L 103.3 200.0 L 103.3 195.8 L 104.6 195.8 L 104.6 205.7 L 103.3 205.7 L 103.3 201.1 L 98.2 201.1 L 98.2 205.7 L 96.9 205.7 L 96.9 195.8 \" fill=\"#0000FF\"/>\n",
       "<path class=\"bond-0 atom-0 atom-1\" d=\"M 338.1,126.7 L 371.4,137.0\" style=\"fill:none;fill-rule:evenodd;stroke:#000000;stroke-width:2.0px;stroke-linecap:butt;stroke-linejoin:miter;stroke-opacity:1\"/>\n",
       "<path class=\"bond-1 atom-1 atom-2\" d=\"M 371.4,137.0 L 374.6,150.9\" style=\"fill:none;fill-rule:evenodd;stroke:#000000;stroke-width:2.0px;stroke-linecap:butt;stroke-linejoin:miter;stroke-opacity:1\"/>\n",
       "<path class=\"bond-1 atom-1 atom-2\" d=\"M 374.6,150.9 L 377.7,164.9\" style=\"fill:none;fill-rule:evenodd;stroke:#FF0000;stroke-width:2.0px;stroke-linecap:butt;stroke-linejoin:miter;stroke-opacity:1\"/>\n",
       "<path class=\"bond-2 atom-2 atom-3\" d=\"M 384.8,172.8 L 398.6,177.1\" style=\"fill:none;fill-rule:evenodd;stroke:#FF0000;stroke-width:2.0px;stroke-linecap:butt;stroke-linejoin:miter;stroke-opacity:1\"/>\n",
       "<path class=\"bond-2 atom-2 atom-3\" d=\"M 398.6,177.1 L 412.4,181.3\" style=\"fill:none;fill-rule:evenodd;stroke:#000000;stroke-width:2.0px;stroke-linecap:butt;stroke-linejoin:miter;stroke-opacity:1\"/>\n",
       "<path class=\"bond-3 atom-3 atom-4\" d=\"M 412.4,181.3 L 420.1,215.3\" style=\"fill:none;fill-rule:evenodd;stroke:#000000;stroke-width:2.0px;stroke-linecap:butt;stroke-linejoin:miter;stroke-opacity:1\"/>\n",
       "<path class=\"bond-3 atom-3 atom-4\" d=\"M 418.2,183.1 L 424.6,211.2\" style=\"fill:none;fill-rule:evenodd;stroke:#000000;stroke-width:2.0px;stroke-linecap:butt;stroke-linejoin:miter;stroke-opacity:1\"/>\n",
       "<path class=\"bond-4 atom-4 atom-5\" d=\"M 420.1,215.3 L 453.4,225.7\" style=\"fill:none;fill-rule:evenodd;stroke:#000000;stroke-width:2.0px;stroke-linecap:butt;stroke-linejoin:miter;stroke-opacity:1\"/>\n",
       "<path class=\"bond-5 atom-5 atom-6\" d=\"M 453.4,225.7 L 479.0,202.0\" style=\"fill:none;fill-rule:evenodd;stroke:#000000;stroke-width:2.0px;stroke-linecap:butt;stroke-linejoin:miter;stroke-opacity:1\"/>\n",
       "<path class=\"bond-5 atom-5 atom-6\" d=\"M 452.1,219.8 L 473.3,200.2\" style=\"fill:none;fill-rule:evenodd;stroke:#000000;stroke-width:2.0px;stroke-linecap:butt;stroke-linejoin:miter;stroke-opacity:1\"/>\n",
       "<path class=\"bond-6 atom-6 atom-7\" d=\"M 479.0,202.0 L 493.2,206.4\" style=\"fill:none;fill-rule:evenodd;stroke:#000000;stroke-width:2.0px;stroke-linecap:butt;stroke-linejoin:miter;stroke-opacity:1\"/>\n",
       "<path class=\"bond-6 atom-6 atom-7\" d=\"M 493.2,206.4 L 507.4,210.8\" style=\"fill:none;fill-rule:evenodd;stroke:#00CC00;stroke-width:2.0px;stroke-linecap:butt;stroke-linejoin:miter;stroke-opacity:1\"/>\n",
       "<path class=\"bond-7 atom-6 atom-8\" d=\"M 479.0,202.0 L 471.3,168.0\" style=\"fill:none;fill-rule:evenodd;stroke:#000000;stroke-width:2.0px;stroke-linecap:butt;stroke-linejoin:miter;stroke-opacity:1\"/>\n",
       "<path class=\"bond-8 atom-8 atom-9\" d=\"M 471.3,168.0 L 438.0,157.7\" style=\"fill:none;fill-rule:evenodd;stroke:#000000;stroke-width:2.0px;stroke-linecap:butt;stroke-linejoin:miter;stroke-opacity:1\"/>\n",
       "<path class=\"bond-8 atom-8 atom-9\" d=\"M 466.9,172.1 L 439.4,163.5\" style=\"fill:none;fill-rule:evenodd;stroke:#000000;stroke-width:2.0px;stroke-linecap:butt;stroke-linejoin:miter;stroke-opacity:1\"/>\n",
       "<path class=\"bond-9 atom-9 atom-10\" d=\"M 438.0,157.7 L 434.9,143.7\" style=\"fill:none;fill-rule:evenodd;stroke:#000000;stroke-width:2.0px;stroke-linecap:butt;stroke-linejoin:miter;stroke-opacity:1\"/>\n",
       "<path class=\"bond-9 atom-9 atom-10\" d=\"M 434.9,143.7 L 431.7,129.7\" style=\"fill:none;fill-rule:evenodd;stroke:#0000FF;stroke-width:2.0px;stroke-linecap:butt;stroke-linejoin:miter;stroke-opacity:1\"/>\n",
       "<path class=\"bond-10 atom-10 atom-11\" d=\"M 435.2,119.1 L 445.5,109.5\" style=\"fill:none;fill-rule:evenodd;stroke:#0000FF;stroke-width:2.0px;stroke-linecap:butt;stroke-linejoin:miter;stroke-opacity:1\"/>\n",
       "<path class=\"bond-10 atom-10 atom-11\" d=\"M 445.5,109.5 L 455.9,100.0\" style=\"fill:none;fill-rule:evenodd;stroke:#000000;stroke-width:2.0px;stroke-linecap:butt;stroke-linejoin:miter;stroke-opacity:1\"/>\n",
       "<path class=\"bond-11 atom-11 atom-12\" d=\"M 455.9,100.0 L 489.2,110.3\" style=\"fill:none;fill-rule:evenodd;stroke:#000000;stroke-width:2.0px;stroke-linecap:butt;stroke-linejoin:miter;stroke-opacity:1\"/>\n",
       "<path class=\"bond-12 atom-12 atom-13\" d=\"M 489.2,110.3 L 492.4,124.2\" style=\"fill:none;fill-rule:evenodd;stroke:#000000;stroke-width:2.0px;stroke-linecap:butt;stroke-linejoin:miter;stroke-opacity:1\"/>\n",
       "<path class=\"bond-12 atom-12 atom-13\" d=\"M 492.4,124.2 L 495.5,138.2\" style=\"fill:none;fill-rule:evenodd;stroke:#FF0000;stroke-width:2.0px;stroke-linecap:butt;stroke-linejoin:miter;stroke-opacity:1\"/>\n",
       "<path class=\"bond-13 atom-12 atom-14\" d=\"M 489.2,110.3 L 514.8,86.6\" style=\"fill:none;fill-rule:evenodd;stroke:#000000;stroke-width:2.0px;stroke-linecap:butt;stroke-linejoin:miter;stroke-opacity:1\"/>\n",
       "<path class=\"bond-14 atom-14 atom-15\" d=\"M 514.8,86.6 L 528.6,90.9\" style=\"fill:none;fill-rule:evenodd;stroke:#000000;stroke-width:2.0px;stroke-linecap:butt;stroke-linejoin:miter;stroke-opacity:1\"/>\n",
       "<path class=\"bond-14 atom-14 atom-15\" d=\"M 528.6,90.9 L 542.4,95.2\" style=\"fill:none;fill-rule:evenodd;stroke:#FF0000;stroke-width:2.0px;stroke-linecap:butt;stroke-linejoin:miter;stroke-opacity:1\"/>\n",
       "<path class=\"bond-15 atom-10 atom-16\" d=\"M 425.4,122.1 L 411.2,117.7\" style=\"fill:none;fill-rule:evenodd;stroke:#0000FF;stroke-width:2.0px;stroke-linecap:butt;stroke-linejoin:miter;stroke-opacity:1\"/>\n",
       "<path class=\"bond-15 atom-10 atom-16\" d=\"M 411.2,117.7 L 397.0,113.3\" style=\"fill:none;fill-rule:evenodd;stroke:#000000;stroke-width:2.0px;stroke-linecap:butt;stroke-linejoin:miter;stroke-opacity:1\"/>\n",
       "<path class=\"bond-16 atom-16 atom-17\" d=\"M 399.9,114.2 L 396.6,99.6\" style=\"fill:none;fill-rule:evenodd;stroke:#000000;stroke-width:2.0px;stroke-linecap:butt;stroke-linejoin:miter;stroke-opacity:1\"/>\n",
       "<path class=\"bond-16 atom-16 atom-17\" d=\"M 396.6,99.6 L 393.3,85.0\" style=\"fill:none;fill-rule:evenodd;stroke:#FF0000;stroke-width:2.0px;stroke-linecap:butt;stroke-linejoin:miter;stroke-opacity:1\"/>\n",
       "<path class=\"bond-16 atom-16 atom-17\" d=\"M 394.8,115.4 L 391.5,100.8\" style=\"fill:none;fill-rule:evenodd;stroke:#000000;stroke-width:2.0px;stroke-linecap:butt;stroke-linejoin:miter;stroke-opacity:1\"/>\n",
       "<path class=\"bond-16 atom-16 atom-17\" d=\"M 391.5,100.8 L 388.2,86.2\" style=\"fill:none;fill-rule:evenodd;stroke:#FF0000;stroke-width:2.0px;stroke-linecap:butt;stroke-linejoin:miter;stroke-opacity:1\"/>\n",
       "<path class=\"bond-17 atom-16 atom-1\" d=\"M 397.0,113.3 L 371.4,137.0\" style=\"fill:none;fill-rule:evenodd;stroke:#000000;stroke-width:2.0px;stroke-linecap:butt;stroke-linejoin:miter;stroke-opacity:1\"/>\n",
       "<path class=\"bond-18 atom-9 atom-3\" d=\"M 438.0,157.7 L 412.4,181.3\" style=\"fill:none;fill-rule:evenodd;stroke:#000000;stroke-width:2.0px;stroke-linecap:butt;stroke-linejoin:miter;stroke-opacity:1\"/>\n",
       "<path d=\"M 419.8,213.6 L 420.1,215.3 L 421.8,215.9\" style=\"fill:none;stroke:#000000;stroke-width:2.0px;stroke-linecap:butt;stroke-linejoin:miter;stroke-miterlimit:10;stroke-opacity:1;\"/>\n",
       "<path d=\"M 451.8,225.1 L 453.4,225.7 L 454.7,224.5\" style=\"fill:none;stroke:#000000;stroke-width:2.0px;stroke-linecap:butt;stroke-linejoin:miter;stroke-miterlimit:10;stroke-opacity:1;\"/>\n",
       "<path d=\"M 471.7,169.7 L 471.3,168.0 L 469.7,167.5\" style=\"fill:none;stroke:#000000;stroke-width:2.0px;stroke-linecap:butt;stroke-linejoin:miter;stroke-miterlimit:10;stroke-opacity:1;\"/>\n",
       "<path d=\"M 455.4,100.5 L 455.9,100.0 L 457.6,100.5\" style=\"fill:none;stroke:#000000;stroke-width:2.0px;stroke-linecap:butt;stroke-linejoin:miter;stroke-miterlimit:10;stroke-opacity:1;\"/>\n",
       "<path d=\"M 513.5,87.8 L 514.8,86.6 L 515.5,86.8\" style=\"fill:none;stroke:#000000;stroke-width:2.0px;stroke-linecap:butt;stroke-linejoin:miter;stroke-miterlimit:10;stroke-opacity:1;\"/>\n",
       "<path d=\"M 397.7,113.6 L 397.0,113.3 L 395.7,114.5\" style=\"fill:none;stroke:#000000;stroke-width:2.0px;stroke-linecap:butt;stroke-linejoin:miter;stroke-miterlimit:10;stroke-opacity:1;\"/>\n",
       "<path class=\"atom-2\" d=\"M 374.6 171.0 Q 374.6 168.7, 375.8 167.3 Q 376.9 166.0, 379.1 166.0 Q 381.3 166.0, 382.5 167.3 Q 383.7 168.7, 383.7 171.0 Q 383.7 173.4, 382.5 174.8 Q 381.3 176.2, 379.1 176.2 Q 376.9 176.2, 375.8 174.8 Q 374.6 173.5, 374.6 171.0 M 379.1 175.0 Q 380.6 175.0, 381.4 174.0 Q 382.3 173.0, 382.3 171.0 Q 382.3 169.1, 381.4 168.1 Q 380.6 167.1, 379.1 167.1 Q 377.6 167.1, 376.8 168.1 Q 376.0 169.1, 376.0 171.0 Q 376.0 173.0, 376.8 174.0 Q 377.6 175.0, 379.1 175.0 \" fill=\"#FF0000\"/>\n",
       "<path class=\"atom-7\" d=\"M 508.5 212.7 Q 508.5 210.2, 509.7 208.9 Q 510.8 207.6, 513.0 207.6 Q 515.1 207.6, 516.1 209.1 L 515.2 209.8 Q 514.4 208.8, 513.0 208.8 Q 511.5 208.8, 510.7 209.8 Q 510.0 210.8, 510.0 212.7 Q 510.0 214.6, 510.8 215.6 Q 511.6 216.6, 513.2 216.6 Q 514.3 216.6, 515.5 216.0 L 515.9 217.0 Q 515.4 217.3, 514.6 217.5 Q 513.8 217.7, 513.0 217.7 Q 510.8 217.7, 509.7 216.4 Q 508.5 215.1, 508.5 212.7 \" fill=\"#00CC00\"/>\n",
       "<path class=\"atom-7\" d=\"M 517.1 207.0 L 518.4 207.0 L 518.4 217.6 L 517.1 217.6 L 517.1 207.0 \" fill=\"#00CC00\"/>\n",
       "<path class=\"atom-10\" d=\"M 428.1 118.7 L 431.4 123.9 Q 431.7 124.5, 432.2 125.4 Q 432.7 126.3, 432.7 126.4 L 432.7 118.7 L 434.1 118.7 L 434.1 128.6 L 432.7 128.6 L 429.2 122.9 Q 428.8 122.2, 428.4 121.4 Q 428.0 120.7, 427.8 120.4 L 427.8 128.6 L 426.6 128.6 L 426.6 118.7 L 428.1 118.7 \" fill=\"#0000FF\"/>\n",
       "<path class=\"atom-13\" d=\"M 492.4 144.3 Q 492.4 142.0, 493.6 140.6 Q 494.7 139.3, 496.9 139.3 Q 499.1 139.3, 500.3 140.6 Q 501.4 142.0, 501.4 144.3 Q 501.4 146.7, 500.3 148.1 Q 499.1 149.4, 496.9 149.4 Q 494.7 149.4, 493.6 148.1 Q 492.4 146.7, 492.4 144.3 M 496.9 148.3 Q 498.4 148.3, 499.2 147.3 Q 500.1 146.3, 500.1 144.3 Q 500.1 142.4, 499.2 141.4 Q 498.4 140.4, 496.9 140.4 Q 495.4 140.4, 494.6 141.4 Q 493.8 142.4, 493.8 144.3 Q 493.8 146.3, 494.6 147.3 Q 495.4 148.3, 496.9 148.3 \" fill=\"#FF0000\"/>\n",
       "<path class=\"atom-13\" d=\"M 503.0 139.4 L 504.3 139.4 L 504.3 143.6 L 509.4 143.6 L 509.4 139.4 L 510.7 139.4 L 510.7 149.3 L 509.4 149.3 L 509.4 144.7 L 504.3 144.7 L 504.3 149.3 L 503.0 149.3 L 503.0 139.4 \" fill=\"#FF0000\"/>\n",
       "<path class=\"atom-15\" d=\"M 543.6 97.0 Q 543.6 94.6, 544.7 93.3 Q 545.9 91.9, 548.1 91.9 Q 550.3 91.9, 551.5 93.3 Q 552.6 94.6, 552.6 97.0 Q 552.6 99.4, 551.4 100.7 Q 550.3 102.1, 548.1 102.1 Q 545.9 102.1, 544.7 100.7 Q 543.6 99.4, 543.6 97.0 M 548.1 101.0 Q 549.6 101.0, 550.4 100.0 Q 551.2 98.9, 551.2 97.0 Q 551.2 95.0, 550.4 94.1 Q 549.6 93.1, 548.1 93.1 Q 546.6 93.1, 545.8 94.0 Q 545.0 95.0, 545.0 97.0 Q 545.0 99.0, 545.8 100.0 Q 546.6 101.0, 548.1 101.0 \" fill=\"#FF0000\"/>\n",
       "<path class=\"atom-15\" d=\"M 554.2 92.1 L 555.5 92.1 L 555.5 96.3 L 560.6 96.3 L 560.6 92.1 L 561.9 92.1 L 561.9 101.9 L 560.6 101.9 L 560.6 97.4 L 555.5 97.4 L 555.5 101.9 L 554.2 101.9 L 554.2 92.1 \" fill=\"#FF0000\"/>\n",
       "<path class=\"atom-17\" d=\"M 384.8 79.4 Q 384.8 77.0, 385.9 75.7 Q 387.1 74.3, 389.3 74.3 Q 391.5 74.3, 392.7 75.7 Q 393.8 77.0, 393.8 79.4 Q 393.8 81.8, 392.6 83.1 Q 391.5 84.5, 389.3 84.5 Q 387.1 84.5, 385.9 83.1 Q 384.8 81.8, 384.8 79.4 M 389.3 83.4 Q 390.8 83.4, 391.6 82.4 Q 392.4 81.3, 392.4 79.4 Q 392.4 77.4, 391.6 76.4 Q 390.8 75.5, 389.3 75.5 Q 387.8 75.5, 387.0 76.4 Q 386.2 77.4, 386.2 79.4 Q 386.2 81.3, 387.0 82.4 Q 387.8 83.4, 389.3 83.4 \" fill=\"#FF0000\"/>\n",
       "</svg>"
      ],
      "text/plain": [
       "<IPython.core.display.SVG object>"
      ]
     },
     "execution_count": 24,
     "metadata": {},
     "output_type": "execute_result"
    }
   ],
   "source": [
    "dm.to_image(smis)"
   ]
  },
  {
   "cell_type": "markdown",
   "id": "5c1f4b2d-4be4-4f4f-b6ed-82fa95614a2c",
   "metadata": {},
   "source": [
    "## Embeddings to SMILES"
   ]
  },
  {
   "cell_type": "code",
   "execution_count": 25,
   "id": "ca3b5c5d-6485-4946-95f9-d662ff6386ea",
   "metadata": {
    "execution": {
     "iopub.execute_input": "2025-06-12T16:32:35.580719Z",
     "iopub.status.busy": "2025-06-12T16:32:35.580274Z",
     "iopub.status.idle": "2025-06-12T16:32:35.748361Z",
     "shell.execute_reply": "2025-06-12T16:32:35.747867Z",
     "shell.execute_reply.started": "2025-06-12T16:32:35.580702Z"
    }
   },
   "outputs": [],
   "source": [
    "decoded_smi = trained_model.latent_to_smiles_batched(torch.tensor(embeds))"
   ]
  },
  {
   "cell_type": "code",
   "execution_count": 26,
   "id": "c361e21c-14a8-4045-827c-b6f5771dc6a3",
   "metadata": {
    "execution": {
     "iopub.execute_input": "2025-06-12T16:32:36.067462Z",
     "iopub.status.busy": "2025-06-12T16:32:36.067132Z",
     "iopub.status.idle": "2025-06-12T16:32:36.121215Z",
     "shell.execute_reply": "2025-06-12T16:32:36.120789Z",
     "shell.execute_reply.started": "2025-06-12T16:32:36.067445Z"
    }
   },
   "outputs": [
    {
     "data": {
      "image/svg+xml": [
       "<svg xmlns=\"http://www.w3.org/2000/svg\" xmlns:rdkit=\"http://www.rdkit.org/xml\" xmlns:xlink=\"http://www.w3.org/1999/xlink\" version=\"1.1\" baseProfile=\"full\" xml:space=\"preserve\" width=\"600px\" height=\"300px\" viewBox=\"0 0 600 300\">\n",
       "<!-- END OF HEADER -->\n",
       "<rect style=\"opacity:1.0;fill:#FFFFFF;stroke:none\" width=\"300.0\" height=\"300.0\" x=\"0.0\" y=\"0.0\"> </rect>\n",
       "<path class=\"bond-0 atom-0 atom-1\" d=\"M 15.0,155.9 L 41.4,178.6\" style=\"fill:none;fill-rule:evenodd;stroke:#000000;stroke-width:2.0px;stroke-linecap:butt;stroke-linejoin:miter;stroke-opacity:1\"/>\n",
       "<path class=\"bond-1 atom-1 atom-2\" d=\"M 41.4,178.6 L 74.3,167.1\" style=\"fill:none;fill-rule:evenodd;stroke:#000000;stroke-width:2.0px;stroke-linecap:butt;stroke-linejoin:miter;stroke-opacity:1\"/>\n",
       "<path class=\"bond-2 atom-2 atom-3\" d=\"M 74.3,167.1 L 77.0,153.1\" style=\"fill:none;fill-rule:evenodd;stroke:#000000;stroke-width:2.0px;stroke-linecap:butt;stroke-linejoin:miter;stroke-opacity:1\"/>\n",
       "<path class=\"bond-2 atom-2 atom-3\" d=\"M 77.0,153.1 L 79.7,139.0\" style=\"fill:none;fill-rule:evenodd;stroke:#0000FF;stroke-width:2.0px;stroke-linecap:butt;stroke-linejoin:miter;stroke-opacity:1\"/>\n",
       "<path class=\"bond-3 atom-3 atom-4\" d=\"M 85.7,131.2 L 99.7,126.3\" style=\"fill:none;fill-rule:evenodd;stroke:#0000FF;stroke-width:2.0px;stroke-linecap:butt;stroke-linejoin:miter;stroke-opacity:1\"/>\n",
       "<path class=\"bond-3 atom-3 atom-4\" d=\"M 99.7,126.3 L 113.8,121.4\" style=\"fill:none;fill-rule:evenodd;stroke:#000000;stroke-width:2.0px;stroke-linecap:butt;stroke-linejoin:miter;stroke-opacity:1\"/>\n",
       "<path class=\"bond-4 atom-4 atom-5\" d=\"M 116.0,123.4 L 118.8,108.6\" style=\"fill:none;fill-rule:evenodd;stroke:#000000;stroke-width:2.0px;stroke-linecap:butt;stroke-linejoin:miter;stroke-opacity:1\"/>\n",
       "<path class=\"bond-4 atom-4 atom-5\" d=\"M 118.8,108.6 L 121.6,93.9\" style=\"fill:none;fill-rule:evenodd;stroke:#FF0000;stroke-width:2.0px;stroke-linecap:butt;stroke-linejoin:miter;stroke-opacity:1\"/>\n",
       "<path class=\"bond-4 atom-4 atom-5\" d=\"M 110.9,122.4 L 113.7,107.7\" style=\"fill:none;fill-rule:evenodd;stroke:#000000;stroke-width:2.0px;stroke-linecap:butt;stroke-linejoin:miter;stroke-opacity:1\"/>\n",
       "<path class=\"bond-4 atom-4 atom-5\" d=\"M 113.7,107.7 L 116.5,92.9\" style=\"fill:none;fill-rule:evenodd;stroke:#FF0000;stroke-width:2.0px;stroke-linecap:butt;stroke-linejoin:miter;stroke-opacity:1\"/>\n",
       "<path class=\"bond-5 atom-4 atom-6\" d=\"M 113.8,121.4 L 140.2,144.2\" style=\"fill:none;fill-rule:evenodd;stroke:#000000;stroke-width:2.0px;stroke-linecap:butt;stroke-linejoin:miter;stroke-opacity:1\"/>\n",
       "<path class=\"bond-6 atom-6 atom-7\" d=\"M 140.2,144.2 L 173.1,132.7\" style=\"fill:none;fill-rule:evenodd;stroke:#000000;stroke-width:2.0px;stroke-linecap:butt;stroke-linejoin:miter;stroke-opacity:1\"/>\n",
       "<path class=\"bond-6 atom-6 atom-7\" d=\"M 144.7,148.1 L 172.0,138.6\" style=\"fill:none;fill-rule:evenodd;stroke:#000000;stroke-width:2.0px;stroke-linecap:butt;stroke-linejoin:miter;stroke-opacity:1\"/>\n",
       "<path class=\"bond-7 atom-7 atom-8\" d=\"M 173.1,132.7 L 199.5,155.4\" style=\"fill:none;fill-rule:evenodd;stroke:#000000;stroke-width:2.0px;stroke-linecap:butt;stroke-linejoin:miter;stroke-opacity:1\"/>\n",
       "<path class=\"bond-8 atom-8 atom-9\" d=\"M 199.5,155.4 L 213.8,150.4\" style=\"fill:none;fill-rule:evenodd;stroke:#000000;stroke-width:2.0px;stroke-linecap:butt;stroke-linejoin:miter;stroke-opacity:1\"/>\n",
       "<path class=\"bond-8 atom-8 atom-9\" d=\"M 213.8,150.4 L 228.1,145.4\" style=\"fill:none;fill-rule:evenodd;stroke:#CCCC00;stroke-width:2.0px;stroke-linecap:butt;stroke-linejoin:miter;stroke-opacity:1\"/>\n",
       "<path class=\"bond-9 atom-9 atom-10\" d=\"M 236.7,142.4 L 248.6,138.3\" style=\"fill:none;fill-rule:evenodd;stroke:#CCCC00;stroke-width:2.0px;stroke-linecap:butt;stroke-linejoin:miter;stroke-opacity:1\"/>\n",
       "<path class=\"bond-9 atom-9 atom-10\" d=\"M 248.6,138.3 L 260.4,134.1\" style=\"fill:none;fill-rule:evenodd;stroke:#0000FF;stroke-width:2.0px;stroke-linecap:butt;stroke-linejoin:miter;stroke-opacity:1\"/>\n",
       "<path class=\"bond-10 atom-9 atom-11\" d=\"M 232.2,151.1 L 235.7,161.3\" style=\"fill:none;fill-rule:evenodd;stroke:#CCCC00;stroke-width:2.0px;stroke-linecap:butt;stroke-linejoin:miter;stroke-opacity:1\"/>\n",
       "<path class=\"bond-10 atom-9 atom-11\" d=\"M 235.7,161.3 L 239.3,171.6\" style=\"fill:none;fill-rule:evenodd;stroke:#FF0000;stroke-width:2.0px;stroke-linecap:butt;stroke-linejoin:miter;stroke-opacity:1\"/>\n",
       "<path class=\"bond-10 atom-9 atom-11\" d=\"M 237.1,149.4 L 240.7,159.6\" style=\"fill:none;fill-rule:evenodd;stroke:#CCCC00;stroke-width:2.0px;stroke-linecap:butt;stroke-linejoin:miter;stroke-opacity:1\"/>\n",
       "<path class=\"bond-10 atom-9 atom-11\" d=\"M 240.7,159.6 L 244.2,169.8\" style=\"fill:none;fill-rule:evenodd;stroke:#FF0000;stroke-width:2.0px;stroke-linecap:butt;stroke-linejoin:miter;stroke-opacity:1\"/>\n",
       "<path class=\"bond-11 atom-9 atom-12\" d=\"M 232.8,137.0 L 229.2,126.7\" style=\"fill:none;fill-rule:evenodd;stroke:#CCCC00;stroke-width:2.0px;stroke-linecap:butt;stroke-linejoin:miter;stroke-opacity:1\"/>\n",
       "<path class=\"bond-11 atom-9 atom-12\" d=\"M 229.2,126.7 L 225.6,116.4\" style=\"fill:none;fill-rule:evenodd;stroke:#FF0000;stroke-width:2.0px;stroke-linecap:butt;stroke-linejoin:miter;stroke-opacity:1\"/>\n",
       "<path class=\"bond-11 atom-9 atom-12\" d=\"M 227.8,138.7 L 224.2,128.4\" style=\"fill:none;fill-rule:evenodd;stroke:#CCCC00;stroke-width:2.0px;stroke-linecap:butt;stroke-linejoin:miter;stroke-opacity:1\"/>\n",
       "<path class=\"bond-11 atom-9 atom-12\" d=\"M 224.2,128.4 L 220.7,118.2\" style=\"fill:none;fill-rule:evenodd;stroke:#FF0000;stroke-width:2.0px;stroke-linecap:butt;stroke-linejoin:miter;stroke-opacity:1\"/>\n",
       "<path class=\"bond-12 atom-8 atom-13\" d=\"M 199.5,155.4 L 193.0,189.7\" style=\"fill:none;fill-rule:evenodd;stroke:#000000;stroke-width:2.0px;stroke-linecap:butt;stroke-linejoin:miter;stroke-opacity:1\"/>\n",
       "<path class=\"bond-12 atom-8 atom-13\" d=\"M 193.8,157.4 L 188.4,185.7\" style=\"fill:none;fill-rule:evenodd;stroke:#000000;stroke-width:2.0px;stroke-linecap:butt;stroke-linejoin:miter;stroke-opacity:1\"/>\n",
       "<path class=\"bond-13 atom-13 atom-14\" d=\"M 193.0,189.7 L 203.7,198.9\" style=\"fill:none;fill-rule:evenodd;stroke:#000000;stroke-width:2.0px;stroke-linecap:butt;stroke-linejoin:miter;stroke-opacity:1\"/>\n",
       "<path class=\"bond-13 atom-13 atom-14\" d=\"M 203.7,198.9 L 214.4,208.2\" style=\"fill:none;fill-rule:evenodd;stroke:#00CC00;stroke-width:2.0px;stroke-linecap:butt;stroke-linejoin:miter;stroke-opacity:1\"/>\n",
       "<path class=\"bond-14 atom-13 atom-15\" d=\"M 193.0,189.7 L 160.1,201.2\" style=\"fill:none;fill-rule:evenodd;stroke:#000000;stroke-width:2.0px;stroke-linecap:butt;stroke-linejoin:miter;stroke-opacity:1\"/>\n",
       "<path class=\"bond-15 atom-15 atom-16\" d=\"M 160.1,201.2 L 133.7,178.4\" style=\"fill:none;fill-rule:evenodd;stroke:#000000;stroke-width:2.0px;stroke-linecap:butt;stroke-linejoin:miter;stroke-opacity:1\"/>\n",
       "<path class=\"bond-15 atom-15 atom-16\" d=\"M 161.2,195.2 L 139.4,176.4\" style=\"fill:none;fill-rule:evenodd;stroke:#000000;stroke-width:2.0px;stroke-linecap:butt;stroke-linejoin:miter;stroke-opacity:1\"/>\n",
       "<path class=\"bond-16 atom-16 atom-17\" d=\"M 133.7,178.4 L 119.7,183.3\" style=\"fill:none;fill-rule:evenodd;stroke:#000000;stroke-width:2.0px;stroke-linecap:butt;stroke-linejoin:miter;stroke-opacity:1\"/>\n",
       "<path class=\"bond-16 atom-16 atom-17\" d=\"M 119.7,183.3 L 105.6,188.2\" style=\"fill:none;fill-rule:evenodd;stroke:#0000FF;stroke-width:2.0px;stroke-linecap:butt;stroke-linejoin:miter;stroke-opacity:1\"/>\n",
       "<path class=\"bond-17 atom-17 atom-2\" d=\"M 95.8,185.7 L 85.1,176.4\" style=\"fill:none;fill-rule:evenodd;stroke:#0000FF;stroke-width:2.0px;stroke-linecap:butt;stroke-linejoin:miter;stroke-opacity:1\"/>\n",
       "<path class=\"bond-17 atom-17 atom-2\" d=\"M 85.1,176.4 L 74.3,167.1\" style=\"fill:none;fill-rule:evenodd;stroke:#000000;stroke-width:2.0px;stroke-linecap:butt;stroke-linejoin:miter;stroke-opacity:1\"/>\n",
       "<path class=\"bond-18 atom-16 atom-6\" d=\"M 133.7,178.4 L 140.2,144.2\" style=\"fill:none;fill-rule:evenodd;stroke:#000000;stroke-width:2.0px;stroke-linecap:butt;stroke-linejoin:miter;stroke-opacity:1\"/>\n",
       "<path d=\"M 40.1,177.5 L 41.4,178.6 L 43.1,178.1\" style=\"fill:none;stroke:#000000;stroke-width:2.0px;stroke-linecap:butt;stroke-linejoin:miter;stroke-miterlimit:10;stroke-opacity:1;\"/>\n",
       "<path d=\"M 113.1,121.6 L 113.8,121.4 L 115.1,122.5\" style=\"fill:none;stroke:#000000;stroke-width:2.0px;stroke-linecap:butt;stroke-linejoin:miter;stroke-miterlimit:10;stroke-opacity:1;\"/>\n",
       "<path d=\"M 171.4,133.2 L 173.1,132.7 L 174.4,133.8\" style=\"fill:none;stroke:#000000;stroke-width:2.0px;stroke-linecap:butt;stroke-linejoin:miter;stroke-miterlimit:10;stroke-opacity:1;\"/>\n",
       "<path d=\"M 161.7,200.6 L 160.1,201.2 L 158.8,200.0\" style=\"fill:none;stroke:#000000;stroke-width:2.0px;stroke-linecap:butt;stroke-linejoin:miter;stroke-miterlimit:10;stroke-opacity:1;\"/>\n",
       "<path class=\"atom-3\" d=\"M 67.4 127.9 L 68.8 127.9 L 68.8 132.1 L 73.8 132.1 L 73.8 127.9 L 75.1 127.9 L 75.1 137.8 L 73.8 137.8 L 73.8 133.3 L 68.8 133.3 L 68.8 137.8 L 67.4 137.8 L 67.4 127.9 \" fill=\"#0000FF\"/>\n",
       "<path class=\"atom-3\" d=\"M 78.7 127.9 L 81.9 133.2 Q 82.2 133.7, 82.7 134.6 Q 83.2 135.6, 83.3 135.6 L 83.3 127.9 L 84.6 127.9 L 84.6 137.8 L 83.2 137.8 L 79.8 132.1 Q 79.4 131.4, 78.9 130.7 Q 78.5 129.9, 78.4 129.7 L 78.4 137.8 L 77.1 137.8 L 77.1 127.9 L 78.7 127.9 \" fill=\"#0000FF\"/>\n",
       "<path class=\"atom-5\" d=\"M 115.7 87.2 Q 115.7 84.8, 116.9 83.5 Q 118.1 82.1, 120.3 82.1 Q 122.5 82.1, 123.6 83.5 Q 124.8 84.8, 124.8 87.2 Q 124.8 89.6, 123.6 90.9 Q 122.4 92.3, 120.3 92.3 Q 118.1 92.3, 116.9 90.9 Q 115.7 89.6, 115.7 87.2 M 120.3 91.2 Q 121.8 91.2, 122.6 90.2 Q 123.4 89.1, 123.4 87.2 Q 123.4 85.2, 122.6 84.2 Q 121.8 83.3, 120.3 83.3 Q 118.8 83.3, 117.9 84.2 Q 117.1 85.2, 117.1 87.2 Q 117.1 89.2, 117.9 90.2 Q 118.8 91.2, 120.3 91.2 \" fill=\"#FF0000\"/>\n",
       "<path class=\"atom-9\" d=\"M 229.6 147.3 Q 229.7 147.4, 230.2 147.6 Q 230.7 147.7, 231.2 147.9 Q 231.7 148.0, 232.2 148.0 Q 233.1 148.0, 233.7 147.5 Q 234.2 147.1, 234.2 146.3 Q 234.2 145.7, 233.9 145.4 Q 233.7 145.1, 233.2 144.9 Q 232.8 144.7, 232.1 144.5 Q 231.2 144.2, 230.7 144.0 Q 230.2 143.7, 229.8 143.2 Q 229.5 142.7, 229.5 141.8 Q 229.5 140.5, 230.3 139.8 Q 231.1 139.0, 232.8 139.0 Q 234.0 139.0, 235.3 139.5 L 234.9 140.6 Q 233.8 140.1, 232.9 140.1 Q 231.9 140.1, 231.4 140.5 Q 230.8 140.9, 230.9 141.6 Q 230.9 142.1, 231.1 142.5 Q 231.4 142.8, 231.8 143.0 Q 232.2 143.1, 232.9 143.4 Q 233.8 143.6, 234.3 143.9 Q 234.8 144.2, 235.2 144.8 Q 235.6 145.3, 235.6 146.3 Q 235.6 147.7, 234.7 148.4 Q 233.8 149.1, 232.2 149.1 Q 231.4 149.1, 230.7 148.9 Q 230.0 148.7, 229.3 148.4 L 229.6 147.3 \" fill=\"#CCCC00\"/>\n",
       "<path class=\"atom-10\" d=\"M 263.2 127.5 L 266.4 132.7 Q 266.7 133.2, 267.2 134.2 Q 267.7 135.1, 267.8 135.2 L 267.8 127.5 L 269.1 127.5 L 269.1 137.4 L 267.7 137.4 L 264.3 131.7 Q 263.9 131.0, 263.4 130.2 Q 263.0 129.5, 262.9 129.2 L 262.9 137.4 L 261.6 137.4 L 261.6 127.5 L 263.2 127.5 \" fill=\"#0000FF\"/>\n",
       "<path class=\"atom-10\" d=\"M 271.0 127.5 L 272.3 127.5 L 272.3 131.7 L 277.4 131.7 L 277.4 127.5 L 278.7 127.5 L 278.7 137.4 L 277.4 137.4 L 277.4 132.8 L 272.3 132.8 L 272.3 137.4 L 271.0 137.4 L 271.0 127.5 \" fill=\"#0000FF\"/>\n",
       "<path class=\"atom-10\" d=\"M 280.6 137.0 Q 280.9 136.4, 281.4 136.1 Q 282.0 135.7, 282.8 135.7 Q 283.8 135.7, 284.3 136.3 Q 284.9 136.8, 284.9 137.7 Q 284.9 138.7, 284.2 139.6 Q 283.5 140.5, 282.0 141.6 L 285.0 141.6 L 285.0 142.3 L 280.6 142.3 L 280.6 141.7 Q 281.8 140.8, 282.5 140.2 Q 283.3 139.5, 283.6 139.0 Q 284.0 138.4, 284.0 137.8 Q 284.0 137.2, 283.7 136.8 Q 283.3 136.5, 282.8 136.5 Q 282.3 136.5, 281.9 136.7 Q 281.6 136.9, 281.3 137.3 L 280.6 137.0 \" fill=\"#0000FF\"/>\n",
       "<path class=\"atom-11\" d=\"M 239.4 176.9 Q 239.4 174.5, 240.6 173.2 Q 241.7 171.9, 243.9 171.9 Q 246.1 171.9, 247.3 173.2 Q 248.4 174.5, 248.4 176.9 Q 248.4 179.3, 247.3 180.6 Q 246.1 182.0, 243.9 182.0 Q 241.7 182.0, 240.6 180.6 Q 239.4 179.3, 239.4 176.9 M 243.9 180.9 Q 245.4 180.9, 246.2 179.9 Q 247.0 178.9, 247.0 176.9 Q 247.0 174.9, 246.2 174.0 Q 245.4 173.0, 243.9 173.0 Q 242.4 173.0, 241.6 173.9 Q 240.8 174.9, 240.8 176.9 Q 240.8 178.9, 241.6 179.9 Q 242.4 180.9, 243.9 180.9 \" fill=\"#FF0000\"/>\n",
       "<path class=\"atom-12\" d=\"M 216.4 111.0 Q 216.4 108.7, 217.6 107.3 Q 218.7 106.0, 220.9 106.0 Q 223.1 106.0, 224.3 107.3 Q 225.5 108.7, 225.5 111.0 Q 225.5 113.4, 224.3 114.8 Q 223.1 116.2, 220.9 116.2 Q 218.7 116.2, 217.6 114.8 Q 216.4 113.5, 216.4 111.0 M 220.9 115.0 Q 222.4 115.0, 223.2 114.0 Q 224.1 113.0, 224.1 111.0 Q 224.1 109.1, 223.2 108.1 Q 222.4 107.1, 220.9 107.1 Q 219.4 107.1, 218.6 108.1 Q 217.8 109.1, 217.8 111.0 Q 217.8 113.0, 218.6 114.0 Q 219.4 115.0, 220.9 115.0 \" fill=\"#FF0000\"/>\n",
       "<path class=\"atom-14\" d=\"M 215.6 212.8 Q 215.6 210.3, 216.7 209.0 Q 217.9 207.7, 220.1 207.7 Q 222.1 207.7, 223.2 209.2 L 222.3 209.9 Q 221.5 208.9, 220.1 208.9 Q 218.6 208.9, 217.8 209.9 Q 217.0 210.9, 217.0 212.8 Q 217.0 214.7, 217.8 215.7 Q 218.7 216.7, 220.2 216.7 Q 221.3 216.7, 222.6 216.1 L 223.0 217.1 Q 222.5 217.5, 221.7 217.7 Q 220.9 217.9, 220.0 217.9 Q 217.9 217.9, 216.7 216.5 Q 215.6 215.2, 215.6 212.8 \" fill=\"#00CC00\"/>\n",
       "<path class=\"atom-14\" d=\"M 224.2 207.1 L 225.5 207.1 L 225.5 217.7 L 224.2 217.7 L 224.2 207.1 \" fill=\"#00CC00\"/>\n",
       "<path class=\"atom-17\" d=\"M 98.6 185.0 L 101.8 190.2 Q 102.1 190.7, 102.6 191.6 Q 103.2 192.6, 103.2 192.6 L 103.2 185.0 L 104.5 185.0 L 104.5 194.8 L 103.1 194.8 L 99.7 189.1 Q 99.3 188.5, 98.8 187.7 Q 98.4 186.9, 98.3 186.7 L 98.3 194.8 L 97.0 194.8 L 97.0 185.0 L 98.6 185.0 \" fill=\"#0000FF\"/>\n",
       "<path class=\"atom-17\" d=\"M 96.9 195.8 L 98.2 195.8 L 98.2 200.0 L 103.3 200.0 L 103.3 195.8 L 104.6 195.8 L 104.6 205.7 L 103.3 205.7 L 103.3 201.1 L 98.2 201.1 L 98.2 205.7 L 96.9 205.7 L 96.9 195.8 \" fill=\"#0000FF\"/>\n",
       "<path class=\"bond-0 atom-0 atom-1\" d=\"M 338.1,126.7 L 371.4,137.0\" style=\"fill:none;fill-rule:evenodd;stroke:#000000;stroke-width:2.0px;stroke-linecap:butt;stroke-linejoin:miter;stroke-opacity:1\"/>\n",
       "<path class=\"bond-1 atom-1 atom-2\" d=\"M 371.4,137.0 L 374.6,150.9\" style=\"fill:none;fill-rule:evenodd;stroke:#000000;stroke-width:2.0px;stroke-linecap:butt;stroke-linejoin:miter;stroke-opacity:1\"/>\n",
       "<path class=\"bond-1 atom-1 atom-2\" d=\"M 374.6,150.9 L 377.7,164.9\" style=\"fill:none;fill-rule:evenodd;stroke:#FF0000;stroke-width:2.0px;stroke-linecap:butt;stroke-linejoin:miter;stroke-opacity:1\"/>\n",
       "<path class=\"bond-2 atom-2 atom-3\" d=\"M 384.8,172.8 L 398.6,177.1\" style=\"fill:none;fill-rule:evenodd;stroke:#FF0000;stroke-width:2.0px;stroke-linecap:butt;stroke-linejoin:miter;stroke-opacity:1\"/>\n",
       "<path class=\"bond-2 atom-2 atom-3\" d=\"M 398.6,177.1 L 412.4,181.3\" style=\"fill:none;fill-rule:evenodd;stroke:#000000;stroke-width:2.0px;stroke-linecap:butt;stroke-linejoin:miter;stroke-opacity:1\"/>\n",
       "<path class=\"bond-3 atom-3 atom-4\" d=\"M 412.4,181.3 L 420.1,215.3\" style=\"fill:none;fill-rule:evenodd;stroke:#000000;stroke-width:2.0px;stroke-linecap:butt;stroke-linejoin:miter;stroke-opacity:1\"/>\n",
       "<path class=\"bond-3 atom-3 atom-4\" d=\"M 418.2,183.1 L 424.6,211.2\" style=\"fill:none;fill-rule:evenodd;stroke:#000000;stroke-width:2.0px;stroke-linecap:butt;stroke-linejoin:miter;stroke-opacity:1\"/>\n",
       "<path class=\"bond-4 atom-4 atom-5\" d=\"M 420.1,215.3 L 453.4,225.7\" style=\"fill:none;fill-rule:evenodd;stroke:#000000;stroke-width:2.0px;stroke-linecap:butt;stroke-linejoin:miter;stroke-opacity:1\"/>\n",
       "<path class=\"bond-5 atom-5 atom-6\" d=\"M 453.4,225.7 L 479.0,202.0\" style=\"fill:none;fill-rule:evenodd;stroke:#000000;stroke-width:2.0px;stroke-linecap:butt;stroke-linejoin:miter;stroke-opacity:1\"/>\n",
       "<path class=\"bond-5 atom-5 atom-6\" d=\"M 452.1,219.8 L 473.3,200.2\" style=\"fill:none;fill-rule:evenodd;stroke:#000000;stroke-width:2.0px;stroke-linecap:butt;stroke-linejoin:miter;stroke-opacity:1\"/>\n",
       "<path class=\"bond-6 atom-6 atom-7\" d=\"M 479.0,202.0 L 493.2,206.4\" style=\"fill:none;fill-rule:evenodd;stroke:#000000;stroke-width:2.0px;stroke-linecap:butt;stroke-linejoin:miter;stroke-opacity:1\"/>\n",
       "<path class=\"bond-6 atom-6 atom-7\" d=\"M 493.2,206.4 L 507.4,210.8\" style=\"fill:none;fill-rule:evenodd;stroke:#00CC00;stroke-width:2.0px;stroke-linecap:butt;stroke-linejoin:miter;stroke-opacity:1\"/>\n",
       "<path class=\"bond-7 atom-6 atom-8\" d=\"M 479.0,202.0 L 471.3,168.0\" style=\"fill:none;fill-rule:evenodd;stroke:#000000;stroke-width:2.0px;stroke-linecap:butt;stroke-linejoin:miter;stroke-opacity:1\"/>\n",
       "<path class=\"bond-8 atom-8 atom-9\" d=\"M 471.3,168.0 L 438.0,157.7\" style=\"fill:none;fill-rule:evenodd;stroke:#000000;stroke-width:2.0px;stroke-linecap:butt;stroke-linejoin:miter;stroke-opacity:1\"/>\n",
       "<path class=\"bond-8 atom-8 atom-9\" d=\"M 466.9,172.1 L 439.4,163.5\" style=\"fill:none;fill-rule:evenodd;stroke:#000000;stroke-width:2.0px;stroke-linecap:butt;stroke-linejoin:miter;stroke-opacity:1\"/>\n",
       "<path class=\"bond-9 atom-9 atom-10\" d=\"M 438.0,157.7 L 434.9,143.7\" style=\"fill:none;fill-rule:evenodd;stroke:#000000;stroke-width:2.0px;stroke-linecap:butt;stroke-linejoin:miter;stroke-opacity:1\"/>\n",
       "<path class=\"bond-9 atom-9 atom-10\" d=\"M 434.9,143.7 L 431.7,129.7\" style=\"fill:none;fill-rule:evenodd;stroke:#0000FF;stroke-width:2.0px;stroke-linecap:butt;stroke-linejoin:miter;stroke-opacity:1\"/>\n",
       "<path class=\"bond-10 atom-10 atom-11\" d=\"M 435.2,119.1 L 445.5,109.5\" style=\"fill:none;fill-rule:evenodd;stroke:#0000FF;stroke-width:2.0px;stroke-linecap:butt;stroke-linejoin:miter;stroke-opacity:1\"/>\n",
       "<path class=\"bond-10 atom-10 atom-11\" d=\"M 445.5,109.5 L 455.9,100.0\" style=\"fill:none;fill-rule:evenodd;stroke:#000000;stroke-width:2.0px;stroke-linecap:butt;stroke-linejoin:miter;stroke-opacity:1\"/>\n",
       "<path class=\"bond-11 atom-11 atom-12\" d=\"M 455.9,100.0 L 489.2,110.3\" style=\"fill:none;fill-rule:evenodd;stroke:#000000;stroke-width:2.0px;stroke-linecap:butt;stroke-linejoin:miter;stroke-opacity:1\"/>\n",
       "<path class=\"bond-12 atom-12 atom-13\" d=\"M 489.2,110.3 L 492.4,124.2\" style=\"fill:none;fill-rule:evenodd;stroke:#000000;stroke-width:2.0px;stroke-linecap:butt;stroke-linejoin:miter;stroke-opacity:1\"/>\n",
       "<path class=\"bond-12 atom-12 atom-13\" d=\"M 492.4,124.2 L 495.5,138.2\" style=\"fill:none;fill-rule:evenodd;stroke:#FF0000;stroke-width:2.0px;stroke-linecap:butt;stroke-linejoin:miter;stroke-opacity:1\"/>\n",
       "<path class=\"bond-13 atom-12 atom-14\" d=\"M 489.2,110.3 L 514.8,86.6\" style=\"fill:none;fill-rule:evenodd;stroke:#000000;stroke-width:2.0px;stroke-linecap:butt;stroke-linejoin:miter;stroke-opacity:1\"/>\n",
       "<path class=\"bond-14 atom-14 atom-15\" d=\"M 514.8,86.6 L 528.6,90.9\" style=\"fill:none;fill-rule:evenodd;stroke:#000000;stroke-width:2.0px;stroke-linecap:butt;stroke-linejoin:miter;stroke-opacity:1\"/>\n",
       "<path class=\"bond-14 atom-14 atom-15\" d=\"M 528.6,90.9 L 542.4,95.2\" style=\"fill:none;fill-rule:evenodd;stroke:#FF0000;stroke-width:2.0px;stroke-linecap:butt;stroke-linejoin:miter;stroke-opacity:1\"/>\n",
       "<path class=\"bond-15 atom-10 atom-16\" d=\"M 425.4,122.1 L 411.2,117.7\" style=\"fill:none;fill-rule:evenodd;stroke:#0000FF;stroke-width:2.0px;stroke-linecap:butt;stroke-linejoin:miter;stroke-opacity:1\"/>\n",
       "<path class=\"bond-15 atom-10 atom-16\" d=\"M 411.2,117.7 L 397.0,113.3\" style=\"fill:none;fill-rule:evenodd;stroke:#000000;stroke-width:2.0px;stroke-linecap:butt;stroke-linejoin:miter;stroke-opacity:1\"/>\n",
       "<path class=\"bond-16 atom-16 atom-17\" d=\"M 399.9,114.2 L 396.6,99.6\" style=\"fill:none;fill-rule:evenodd;stroke:#000000;stroke-width:2.0px;stroke-linecap:butt;stroke-linejoin:miter;stroke-opacity:1\"/>\n",
       "<path class=\"bond-16 atom-16 atom-17\" d=\"M 396.6,99.6 L 393.3,85.0\" style=\"fill:none;fill-rule:evenodd;stroke:#FF0000;stroke-width:2.0px;stroke-linecap:butt;stroke-linejoin:miter;stroke-opacity:1\"/>\n",
       "<path class=\"bond-16 atom-16 atom-17\" d=\"M 394.8,115.4 L 391.5,100.8\" style=\"fill:none;fill-rule:evenodd;stroke:#000000;stroke-width:2.0px;stroke-linecap:butt;stroke-linejoin:miter;stroke-opacity:1\"/>\n",
       "<path class=\"bond-16 atom-16 atom-17\" d=\"M 391.5,100.8 L 388.2,86.2\" style=\"fill:none;fill-rule:evenodd;stroke:#FF0000;stroke-width:2.0px;stroke-linecap:butt;stroke-linejoin:miter;stroke-opacity:1\"/>\n",
       "<path class=\"bond-17 atom-16 atom-1\" d=\"M 397.0,113.3 L 371.4,137.0\" style=\"fill:none;fill-rule:evenodd;stroke:#000000;stroke-width:2.0px;stroke-linecap:butt;stroke-linejoin:miter;stroke-opacity:1\"/>\n",
       "<path class=\"bond-18 atom-9 atom-3\" d=\"M 438.0,157.7 L 412.4,181.3\" style=\"fill:none;fill-rule:evenodd;stroke:#000000;stroke-width:2.0px;stroke-linecap:butt;stroke-linejoin:miter;stroke-opacity:1\"/>\n",
       "<path d=\"M 419.8,213.6 L 420.1,215.3 L 421.8,215.9\" style=\"fill:none;stroke:#000000;stroke-width:2.0px;stroke-linecap:butt;stroke-linejoin:miter;stroke-miterlimit:10;stroke-opacity:1;\"/>\n",
       "<path d=\"M 451.8,225.1 L 453.4,225.7 L 454.7,224.5\" style=\"fill:none;stroke:#000000;stroke-width:2.0px;stroke-linecap:butt;stroke-linejoin:miter;stroke-miterlimit:10;stroke-opacity:1;\"/>\n",
       "<path d=\"M 471.7,169.7 L 471.3,168.0 L 469.7,167.5\" style=\"fill:none;stroke:#000000;stroke-width:2.0px;stroke-linecap:butt;stroke-linejoin:miter;stroke-miterlimit:10;stroke-opacity:1;\"/>\n",
       "<path d=\"M 455.4,100.5 L 455.9,100.0 L 457.6,100.5\" style=\"fill:none;stroke:#000000;stroke-width:2.0px;stroke-linecap:butt;stroke-linejoin:miter;stroke-miterlimit:10;stroke-opacity:1;\"/>\n",
       "<path d=\"M 513.5,87.8 L 514.8,86.6 L 515.5,86.8\" style=\"fill:none;stroke:#000000;stroke-width:2.0px;stroke-linecap:butt;stroke-linejoin:miter;stroke-miterlimit:10;stroke-opacity:1;\"/>\n",
       "<path d=\"M 397.7,113.6 L 397.0,113.3 L 395.7,114.5\" style=\"fill:none;stroke:#000000;stroke-width:2.0px;stroke-linecap:butt;stroke-linejoin:miter;stroke-miterlimit:10;stroke-opacity:1;\"/>\n",
       "<path class=\"atom-2\" d=\"M 374.6 171.0 Q 374.6 168.7, 375.8 167.3 Q 376.9 166.0, 379.1 166.0 Q 381.3 166.0, 382.5 167.3 Q 383.7 168.7, 383.7 171.0 Q 383.7 173.4, 382.5 174.8 Q 381.3 176.2, 379.1 176.2 Q 376.9 176.2, 375.8 174.8 Q 374.6 173.5, 374.6 171.0 M 379.1 175.0 Q 380.6 175.0, 381.4 174.0 Q 382.3 173.0, 382.3 171.0 Q 382.3 169.1, 381.4 168.1 Q 380.6 167.1, 379.1 167.1 Q 377.6 167.1, 376.8 168.1 Q 376.0 169.1, 376.0 171.0 Q 376.0 173.0, 376.8 174.0 Q 377.6 175.0, 379.1 175.0 \" fill=\"#FF0000\"/>\n",
       "<path class=\"atom-7\" d=\"M 508.5 212.7 Q 508.5 210.2, 509.7 208.9 Q 510.8 207.6, 513.0 207.6 Q 515.1 207.6, 516.1 209.1 L 515.2 209.8 Q 514.4 208.8, 513.0 208.8 Q 511.5 208.8, 510.7 209.8 Q 510.0 210.8, 510.0 212.7 Q 510.0 214.6, 510.8 215.6 Q 511.6 216.6, 513.2 216.6 Q 514.3 216.6, 515.5 216.0 L 515.9 217.0 Q 515.4 217.3, 514.6 217.5 Q 513.8 217.7, 513.0 217.7 Q 510.8 217.7, 509.7 216.4 Q 508.5 215.1, 508.5 212.7 \" fill=\"#00CC00\"/>\n",
       "<path class=\"atom-7\" d=\"M 517.1 207.0 L 518.4 207.0 L 518.4 217.6 L 517.1 217.6 L 517.1 207.0 \" fill=\"#00CC00\"/>\n",
       "<path class=\"atom-10\" d=\"M 428.1 118.7 L 431.4 123.9 Q 431.7 124.5, 432.2 125.4 Q 432.7 126.3, 432.7 126.4 L 432.7 118.7 L 434.1 118.7 L 434.1 128.6 L 432.7 128.6 L 429.2 122.9 Q 428.8 122.2, 428.4 121.4 Q 428.0 120.7, 427.8 120.4 L 427.8 128.6 L 426.6 128.6 L 426.6 118.7 L 428.1 118.7 \" fill=\"#0000FF\"/>\n",
       "<path class=\"atom-13\" d=\"M 492.4 144.3 Q 492.4 142.0, 493.6 140.6 Q 494.7 139.3, 496.9 139.3 Q 499.1 139.3, 500.3 140.6 Q 501.4 142.0, 501.4 144.3 Q 501.4 146.7, 500.3 148.1 Q 499.1 149.4, 496.9 149.4 Q 494.7 149.4, 493.6 148.1 Q 492.4 146.7, 492.4 144.3 M 496.9 148.3 Q 498.4 148.3, 499.2 147.3 Q 500.1 146.3, 500.1 144.3 Q 500.1 142.4, 499.2 141.4 Q 498.4 140.4, 496.9 140.4 Q 495.4 140.4, 494.6 141.4 Q 493.8 142.4, 493.8 144.3 Q 493.8 146.3, 494.6 147.3 Q 495.4 148.3, 496.9 148.3 \" fill=\"#FF0000\"/>\n",
       "<path class=\"atom-13\" d=\"M 503.0 139.4 L 504.3 139.4 L 504.3 143.6 L 509.4 143.6 L 509.4 139.4 L 510.7 139.4 L 510.7 149.3 L 509.4 149.3 L 509.4 144.7 L 504.3 144.7 L 504.3 149.3 L 503.0 149.3 L 503.0 139.4 \" fill=\"#FF0000\"/>\n",
       "<path class=\"atom-15\" d=\"M 543.6 97.0 Q 543.6 94.6, 544.7 93.3 Q 545.9 91.9, 548.1 91.9 Q 550.3 91.9, 551.5 93.3 Q 552.6 94.6, 552.6 97.0 Q 552.6 99.4, 551.4 100.7 Q 550.3 102.1, 548.1 102.1 Q 545.9 102.1, 544.7 100.7 Q 543.6 99.4, 543.6 97.0 M 548.1 101.0 Q 549.6 101.0, 550.4 100.0 Q 551.2 98.9, 551.2 97.0 Q 551.2 95.0, 550.4 94.1 Q 549.6 93.1, 548.1 93.1 Q 546.6 93.1, 545.8 94.0 Q 545.0 95.0, 545.0 97.0 Q 545.0 99.0, 545.8 100.0 Q 546.6 101.0, 548.1 101.0 \" fill=\"#FF0000\"/>\n",
       "<path class=\"atom-15\" d=\"M 554.2 92.1 L 555.5 92.1 L 555.5 96.3 L 560.6 96.3 L 560.6 92.1 L 561.9 92.1 L 561.9 101.9 L 560.6 101.9 L 560.6 97.4 L 555.5 97.4 L 555.5 101.9 L 554.2 101.9 L 554.2 92.1 \" fill=\"#FF0000\"/>\n",
       "<path class=\"atom-17\" d=\"M 384.8 79.4 Q 384.8 77.0, 385.9 75.7 Q 387.1 74.3, 389.3 74.3 Q 391.5 74.3, 392.7 75.7 Q 393.8 77.0, 393.8 79.4 Q 393.8 81.8, 392.6 83.1 Q 391.5 84.5, 389.3 84.5 Q 387.1 84.5, 385.9 83.1 Q 384.8 81.8, 384.8 79.4 M 389.3 83.4 Q 390.8 83.4, 391.6 82.4 Q 392.4 81.3, 392.4 79.4 Q 392.4 77.4, 391.6 76.4 Q 390.8 75.5, 389.3 75.5 Q 387.8 75.5, 387.0 76.4 Q 386.2 77.4, 386.2 79.4 Q 386.2 81.3, 387.0 82.4 Q 387.8 83.4, 389.3 83.4 \" fill=\"#FF0000\"/>\n",
       "</svg>"
      ],
      "text/plain": [
       "<IPython.core.display.SVG object>"
      ]
     },
     "execution_count": 26,
     "metadata": {},
     "output_type": "execute_result"
    }
   ],
   "source": [
    "dm.to_image(decoded_smi)"
   ]
  },
  {
   "cell_type": "markdown",
   "id": "5179cfab-1ea2-4add-8e79-e40dcecafb8c",
   "metadata": {},
   "source": [
    "## Plot randomly generated molecules"
   ]
  },
  {
   "cell_type": "code",
   "execution_count": 28,
   "id": "6027b349-82b0-4278-b150-4e5680d2385d",
   "metadata": {
    "execution": {
     "iopub.execute_input": "2025-06-12T16:33:12.811407Z",
     "iopub.status.busy": "2025-06-12T16:33:12.811064Z",
     "iopub.status.idle": "2025-06-12T16:33:13.032838Z",
     "shell.execute_reply": "2025-06-12T16:33:13.032379Z",
     "shell.execute_reply.started": "2025-06-12T16:33:12.811391Z"
    }
   },
   "outputs": [
    {
     "name": "stdout",
     "output_type": "stream",
     "text": [
      "batch:  0\n",
      "total generated:  10\n"
     ]
    },
    {
     "data": {
      "image/svg+xml": [
       "<svg xmlns=\"http://www.w3.org/2000/svg\" xmlns:rdkit=\"http://www.rdkit.org/xml\" xmlns:xlink=\"http://www.w3.org/1999/xlink\" version=\"1.1\" baseProfile=\"full\" xml:space=\"preserve\" width=\"1200px\" height=\"900px\" viewBox=\"0 0 1200 900\">\n",
       "<!-- END OF HEADER -->\n",
       "<rect style=\"opacity:1.0;fill:#FFFFFF;stroke:none\" width=\"300.0\" height=\"300.0\" x=\"0.0\" y=\"0.0\"> </rect>\n",
       "<path class=\"bond-0 atom-0 atom-1\" d=\"M 151.0,187.4 L 149.8,175.3\" style=\"fill:none;fill-rule:evenodd;stroke:#FF0000;stroke-width:2.0px;stroke-linecap:butt;stroke-linejoin:miter;stroke-opacity:1\"/>\n",
       "<path class=\"bond-0 atom-0 atom-1\" d=\"M 149.8,175.3 L 148.6,163.2\" style=\"fill:none;fill-rule:evenodd;stroke:#000000;stroke-width:2.0px;stroke-linecap:butt;stroke-linejoin:miter;stroke-opacity:1\"/>\n",
       "<path class=\"bond-0 atom-0 atom-1\" d=\"M 155.1,187.0 L 154.0,174.9\" style=\"fill:none;fill-rule:evenodd;stroke:#FF0000;stroke-width:2.0px;stroke-linecap:butt;stroke-linejoin:miter;stroke-opacity:1\"/>\n",
       "<path class=\"bond-0 atom-0 atom-1\" d=\"M 154.0,174.9 L 152.8,162.8\" style=\"fill:none;fill-rule:evenodd;stroke:#000000;stroke-width:2.0px;stroke-linecap:butt;stroke-linejoin:miter;stroke-opacity:1\"/>\n",
       "<path class=\"bond-1 atom-1 atom-2\" d=\"M 150.8,164.2 L 173.6,147.9\" style=\"fill:none;fill-rule:evenodd;stroke:#000000;stroke-width:2.0px;stroke-linecap:butt;stroke-linejoin:miter;stroke-opacity:1\"/>\n",
       "<path class=\"bond-2 atom-2 atom-3\" d=\"M 173.6,147.9 L 184.4,152.8\" style=\"fill:none;fill-rule:evenodd;stroke:#000000;stroke-width:2.0px;stroke-linecap:butt;stroke-linejoin:miter;stroke-opacity:1\"/>\n",
       "<path class=\"bond-2 atom-2 atom-3\" d=\"M 184.4,152.8 L 195.2,157.8\" style=\"fill:none;fill-rule:evenodd;stroke:#0000FF;stroke-width:2.0px;stroke-linecap:butt;stroke-linejoin:miter;stroke-opacity:1\"/>\n",
       "<path class=\"bond-3 atom-3 atom-4\" d=\"M 199.6,164.4 L 200.8,175.9\" style=\"fill:none;fill-rule:evenodd;stroke:#0000FF;stroke-width:2.0px;stroke-linecap:butt;stroke-linejoin:miter;stroke-opacity:1\"/>\n",
       "<path class=\"bond-3 atom-3 atom-4\" d=\"M 200.8,175.9 L 201.9,187.4\" style=\"fill:none;fill-rule:evenodd;stroke:#000000;stroke-width:2.0px;stroke-linecap:butt;stroke-linejoin:miter;stroke-opacity:1\"/>\n",
       "<path class=\"bond-4 atom-4 atom-5\" d=\"M 201.9,187.4 L 227.4,199.1\" style=\"fill:none;fill-rule:evenodd;stroke:#000000;stroke-width:2.0px;stroke-linecap:butt;stroke-linejoin:miter;stroke-opacity:1\"/>\n",
       "<path class=\"bond-5 atom-5 atom-6\" d=\"M 227.4,199.1 L 236.5,192.5\" style=\"fill:none;fill-rule:evenodd;stroke:#000000;stroke-width:2.0px;stroke-linecap:butt;stroke-linejoin:miter;stroke-opacity:1\"/>\n",
       "<path class=\"bond-5 atom-5 atom-6\" d=\"M 236.5,192.5 L 245.6,186.0\" style=\"fill:none;fill-rule:evenodd;stroke:#FF0000;stroke-width:2.0px;stroke-linecap:butt;stroke-linejoin:miter;stroke-opacity:1\"/>\n",
       "<path class=\"bond-6 atom-6 atom-7\" d=\"M 249.7,177.8 L 248.6,166.3\" style=\"fill:none;fill-rule:evenodd;stroke:#FF0000;stroke-width:2.0px;stroke-linecap:butt;stroke-linejoin:miter;stroke-opacity:1\"/>\n",
       "<path class=\"bond-6 atom-6 atom-7\" d=\"M 248.6,166.3 L 247.5,154.9\" style=\"fill:none;fill-rule:evenodd;stroke:#000000;stroke-width:2.0px;stroke-linecap:butt;stroke-linejoin:miter;stroke-opacity:1\"/>\n",
       "<path class=\"bond-7 atom-7 atom-8\" d=\"M 247.5,154.9 L 270.3,138.6\" style=\"fill:none;fill-rule:evenodd;stroke:#000000;stroke-width:2.0px;stroke-linecap:butt;stroke-linejoin:miter;stroke-opacity:1\"/>\n",
       "<path class=\"bond-7 atom-7 atom-8\" d=\"M 247.0,150.0 L 265.9,136.5\" style=\"fill:none;fill-rule:evenodd;stroke:#000000;stroke-width:2.0px;stroke-linecap:butt;stroke-linejoin:miter;stroke-opacity:1\"/>\n",
       "<path class=\"bond-8 atom-8 atom-9\" d=\"M 270.3,138.6 L 267.6,110.7\" style=\"fill:none;fill-rule:evenodd;stroke:#000000;stroke-width:2.0px;stroke-linecap:butt;stroke-linejoin:miter;stroke-opacity:1\"/>\n",
       "<path class=\"bond-9 atom-9 atom-10\" d=\"M 267.6,110.7 L 242.1,99.0\" style=\"fill:none;fill-rule:evenodd;stroke:#000000;stroke-width:2.0px;stroke-linecap:butt;stroke-linejoin:miter;stroke-opacity:1\"/>\n",
       "<path class=\"bond-9 atom-9 atom-10\" d=\"M 263.7,113.5 L 242.6,103.9\" style=\"fill:none;fill-rule:evenodd;stroke:#000000;stroke-width:2.0px;stroke-linecap:butt;stroke-linejoin:miter;stroke-opacity:1\"/>\n",
       "<path class=\"bond-10 atom-10 atom-11\" d=\"M 242.1,99.0 L 219.3,115.3\" style=\"fill:none;fill-rule:evenodd;stroke:#000000;stroke-width:2.0px;stroke-linecap:butt;stroke-linejoin:miter;stroke-opacity:1\"/>\n",
       "<path class=\"bond-11 atom-11 atom-12\" d=\"M 219.3,115.3 L 222.0,143.2\" style=\"fill:none;fill-rule:evenodd;stroke:#000000;stroke-width:2.0px;stroke-linecap:butt;stroke-linejoin:miter;stroke-opacity:1\"/>\n",
       "<path class=\"bond-11 atom-11 atom-12\" d=\"M 223.7,117.4 L 225.9,140.4\" style=\"fill:none;fill-rule:evenodd;stroke:#000000;stroke-width:2.0px;stroke-linecap:butt;stroke-linejoin:miter;stroke-opacity:1\"/>\n",
       "<path class=\"bond-12 atom-1 atom-13\" d=\"M 150.8,164.2 L 140.0,159.3\" style=\"fill:none;fill-rule:evenodd;stroke:#000000;stroke-width:2.0px;stroke-linecap:butt;stroke-linejoin:miter;stroke-opacity:1\"/>\n",
       "<path class=\"bond-12 atom-1 atom-13\" d=\"M 140.0,159.3 L 129.2,154.4\" style=\"fill:none;fill-rule:evenodd;stroke:#0000FF;stroke-width:2.0px;stroke-linecap:butt;stroke-linejoin:miter;stroke-opacity:1\"/>\n",
       "<path class=\"bond-13 atom-13 atom-14\" d=\"M 121.4,155.4 L 111.9,162.2\" style=\"fill:none;fill-rule:evenodd;stroke:#0000FF;stroke-width:2.0px;stroke-linecap:butt;stroke-linejoin:miter;stroke-opacity:1\"/>\n",
       "<path class=\"bond-13 atom-13 atom-14\" d=\"M 111.9,162.2 L 102.5,168.9\" style=\"fill:none;fill-rule:evenodd;stroke:#000000;stroke-width:2.0px;stroke-linecap:butt;stroke-linejoin:miter;stroke-opacity:1\"/>\n",
       "<path class=\"bond-14 atom-14 atom-15\" d=\"M 100.3,167.9 L 101.5,180.0\" style=\"fill:none;fill-rule:evenodd;stroke:#000000;stroke-width:2.0px;stroke-linecap:butt;stroke-linejoin:miter;stroke-opacity:1\"/>\n",
       "<path class=\"bond-14 atom-14 atom-15\" d=\"M 101.5,180.0 L 102.6,192.1\" style=\"fill:none;fill-rule:evenodd;stroke:#FF0000;stroke-width:2.0px;stroke-linecap:butt;stroke-linejoin:miter;stroke-opacity:1\"/>\n",
       "<path class=\"bond-14 atom-14 atom-15\" d=\"M 104.5,167.5 L 105.6,179.6\" style=\"fill:none;fill-rule:evenodd;stroke:#000000;stroke-width:2.0px;stroke-linecap:butt;stroke-linejoin:miter;stroke-opacity:1\"/>\n",
       "<path class=\"bond-14 atom-14 atom-15\" d=\"M 105.6,179.6 L 106.8,191.7\" style=\"fill:none;fill-rule:evenodd;stroke:#FF0000;stroke-width:2.0px;stroke-linecap:butt;stroke-linejoin:miter;stroke-opacity:1\"/>\n",
       "<path class=\"bond-15 atom-14 atom-16\" d=\"M 102.5,168.9 L 77.0,157.3\" style=\"fill:none;fill-rule:evenodd;stroke:#000000;stroke-width:2.0px;stroke-linecap:butt;stroke-linejoin:miter;stroke-opacity:1\"/>\n",
       "<path class=\"bond-16 atom-16 atom-17\" d=\"M 77.0,157.3 L 52.6,171.1\" style=\"fill:none;fill-rule:evenodd;stroke:#000000;stroke-width:2.0px;stroke-linecap:butt;stroke-linejoin:miter;stroke-opacity:1\"/>\n",
       "<path class=\"bond-16 atom-16 atom-17\" d=\"M 72.2,155.1 L 53.2,166.0\" style=\"fill:none;fill-rule:evenodd;stroke:#000000;stroke-width:2.0px;stroke-linecap:butt;stroke-linejoin:miter;stroke-opacity:1\"/>\n",
       "<path class=\"bond-17 atom-17 atom-18\" d=\"M 52.6,171.1 L 31.9,152.2\" style=\"fill:none;fill-rule:evenodd;stroke:#000000;stroke-width:2.0px;stroke-linecap:butt;stroke-linejoin:miter;stroke-opacity:1\"/>\n",
       "<path class=\"bond-18 atom-18 atom-19\" d=\"M 31.9,152.2 L 43.5,126.7\" style=\"fill:none;fill-rule:evenodd;stroke:#000000;stroke-width:2.0px;stroke-linecap:butt;stroke-linejoin:miter;stroke-opacity:1\"/>\n",
       "<path class=\"bond-18 atom-18 atom-19\" d=\"M 37.0,151.2 L 46.1,131.2\" style=\"fill:none;fill-rule:evenodd;stroke:#000000;stroke-width:2.0px;stroke-linecap:butt;stroke-linejoin:miter;stroke-opacity:1\"/>\n",
       "<path class=\"bond-19 atom-19 atom-20\" d=\"M 43.5,126.7 L 29.7,102.3\" style=\"fill:none;fill-rule:evenodd;stroke:#000000;stroke-width:2.0px;stroke-linecap:butt;stroke-linejoin:miter;stroke-opacity:1\"/>\n",
       "<path class=\"bond-20 atom-19 atom-21\" d=\"M 43.5,126.7 L 55.2,128.0\" style=\"fill:none;fill-rule:evenodd;stroke:#000000;stroke-width:2.0px;stroke-linecap:butt;stroke-linejoin:miter;stroke-opacity:1\"/>\n",
       "<path class=\"bond-20 atom-19 atom-21\" d=\"M 55.2,128.0 L 66.8,129.3\" style=\"fill:none;fill-rule:evenodd;stroke:#FF0000;stroke-width:2.0px;stroke-linecap:butt;stroke-linejoin:miter;stroke-opacity:1\"/>\n",
       "<path class=\"bond-21 atom-12 atom-3\" d=\"M 222.0,143.2 L 212.5,150.0\" style=\"fill:none;fill-rule:evenodd;stroke:#000000;stroke-width:2.0px;stroke-linecap:butt;stroke-linejoin:miter;stroke-opacity:1\"/>\n",
       "<path class=\"bond-21 atom-12 atom-3\" d=\"M 212.5,150.0 L 203.1,156.7\" style=\"fill:none;fill-rule:evenodd;stroke:#0000FF;stroke-width:2.0px;stroke-linecap:butt;stroke-linejoin:miter;stroke-opacity:1\"/>\n",
       "<path class=\"bond-22 atom-21 atom-16\" d=\"M 72.4,134.9 L 74.7,146.1\" style=\"fill:none;fill-rule:evenodd;stroke:#FF0000;stroke-width:2.0px;stroke-linecap:butt;stroke-linejoin:miter;stroke-opacity:1\"/>\n",
       "<path class=\"bond-22 atom-21 atom-16\" d=\"M 74.7,146.1 L 77.0,157.3\" style=\"fill:none;fill-rule:evenodd;stroke:#000000;stroke-width:2.0px;stroke-linecap:butt;stroke-linejoin:miter;stroke-opacity:1\"/>\n",
       "<path class=\"bond-23 atom-12 atom-7\" d=\"M 222.0,143.2 L 247.5,154.9\" style=\"fill:none;fill-rule:evenodd;stroke:#000000;stroke-width:2.0px;stroke-linecap:butt;stroke-linejoin:miter;stroke-opacity:1\"/>\n",
       "<path d=\"M 152.0,163.4 L 150.8,164.2 L 150.3,164.0\" style=\"fill:none;stroke:#000000;stroke-width:2.0px;stroke-linecap:butt;stroke-linejoin:miter;stroke-miterlimit:10;stroke-opacity:1;\"/>\n",
       "<path d=\"M 172.5,148.7 L 173.6,147.9 L 174.2,148.2\" style=\"fill:none;stroke:#000000;stroke-width:2.0px;stroke-linecap:butt;stroke-linejoin:miter;stroke-miterlimit:10;stroke-opacity:1;\"/>\n",
       "<path d=\"M 201.8,186.9 L 201.9,187.4 L 203.1,188.0\" style=\"fill:none;stroke:#000000;stroke-width:2.0px;stroke-linecap:butt;stroke-linejoin:miter;stroke-miterlimit:10;stroke-opacity:1;\"/>\n",
       "<path d=\"M 226.1,198.5 L 227.4,199.1 L 227.8,198.7\" style=\"fill:none;stroke:#000000;stroke-width:2.0px;stroke-linecap:butt;stroke-linejoin:miter;stroke-miterlimit:10;stroke-opacity:1;\"/>\n",
       "<path d=\"M 269.2,139.4 L 270.3,138.6 L 270.2,137.2\" style=\"fill:none;stroke:#000000;stroke-width:2.0px;stroke-linecap:butt;stroke-linejoin:miter;stroke-miterlimit:10;stroke-opacity:1;\"/>\n",
       "<path d=\"M 267.7,112.1 L 267.6,110.7 L 266.3,110.1\" style=\"fill:none;stroke:#000000;stroke-width:2.0px;stroke-linecap:butt;stroke-linejoin:miter;stroke-miterlimit:10;stroke-opacity:1;\"/>\n",
       "<path d=\"M 243.4,99.6 L 242.1,99.0 L 240.9,99.9\" style=\"fill:none;stroke:#000000;stroke-width:2.0px;stroke-linecap:butt;stroke-linejoin:miter;stroke-miterlimit:10;stroke-opacity:1;\"/>\n",
       "<path d=\"M 220.4,114.5 L 219.3,115.3 L 219.4,116.7\" style=\"fill:none;stroke:#000000;stroke-width:2.0px;stroke-linecap:butt;stroke-linejoin:miter;stroke-miterlimit:10;stroke-opacity:1;\"/>\n",
       "<path d=\"M 103.0,168.6 L 102.5,168.9 L 101.2,168.3\" style=\"fill:none;stroke:#000000;stroke-width:2.0px;stroke-linecap:butt;stroke-linejoin:miter;stroke-miterlimit:10;stroke-opacity:1;\"/>\n",
       "<path d=\"M 53.8,170.4 L 52.6,171.1 L 51.5,170.2\" style=\"fill:none;stroke:#000000;stroke-width:2.0px;stroke-linecap:butt;stroke-linejoin:miter;stroke-miterlimit:10;stroke-opacity:1;\"/>\n",
       "<path d=\"M 32.9,153.1 L 31.9,152.2 L 32.5,150.9\" style=\"fill:none;stroke:#000000;stroke-width:2.0px;stroke-linecap:butt;stroke-linejoin:miter;stroke-miterlimit:10;stroke-opacity:1;\"/>\n",
       "<path class=\"atom-0\" d=\"M 149.9 192.2 Q 149.9 190.2, 150.8 189.2 Q 151.8 188.1, 153.5 188.1 Q 155.3 188.1, 156.2 189.2 Q 157.2 190.2, 157.2 192.2 Q 157.2 194.1, 156.2 195.2 Q 155.3 196.3, 153.5 196.3 Q 151.8 196.3, 150.8 195.2 Q 149.9 194.1, 149.9 192.2 M 153.5 195.4 Q 154.7 195.4, 155.4 194.6 Q 156.1 193.7, 156.1 192.2 Q 156.1 190.6, 155.4 189.8 Q 154.7 189.0, 153.5 189.0 Q 152.3 189.0, 151.7 189.8 Q 151.0 190.6, 151.0 192.2 Q 151.0 193.8, 151.7 194.6 Q 152.3 195.4, 153.5 195.4 \" fill=\"#FF0000\"/>\n",
       "<path class=\"atom-3\" d=\"M 197.4 155.6 L 200.0 159.8 Q 200.3 160.2, 200.7 160.9 Q 201.1 161.7, 201.1 161.7 L 201.1 155.6 L 202.2 155.6 L 202.2 163.5 L 201.1 163.5 L 198.3 158.9 Q 198.0 158.4, 197.6 157.8 Q 197.3 157.1, 197.2 157.0 L 197.2 163.5 L 196.2 163.5 L 196.2 155.6 L 197.4 155.6 \" fill=\"#0000FF\"/>\n",
       "<path class=\"atom-6\" d=\"M 246.6 182.8 Q 246.6 180.9, 247.5 179.8 Q 248.4 178.7, 250.2 178.7 Q 252.0 178.7, 252.9 179.8 Q 253.8 180.9, 253.8 182.8 Q 253.8 184.7, 252.9 185.8 Q 251.9 186.9, 250.2 186.9 Q 248.5 186.9, 247.5 185.8 Q 246.6 184.7, 246.6 182.8 M 250.2 186.0 Q 251.4 186.0, 252.1 185.2 Q 252.7 184.4, 252.7 182.8 Q 252.7 181.2, 252.1 180.4 Q 251.4 179.6, 250.2 179.6 Q 249.0 179.6, 248.3 180.4 Q 247.7 181.2, 247.7 182.8 Q 247.7 184.4, 248.3 185.2 Q 249.0 186.0, 250.2 186.0 \" fill=\"#FF0000\"/>\n",
       "<path class=\"atom-13\" d=\"M 123.6 148.6 L 126.2 152.9 Q 126.4 153.3, 126.8 154.0 Q 127.2 154.8, 127.3 154.8 L 127.3 148.6 L 128.3 148.6 L 128.3 156.6 L 127.2 156.6 L 124.4 152.0 Q 124.1 151.4, 123.8 150.8 Q 123.4 150.2, 123.3 150.0 L 123.3 156.6 L 122.3 156.6 L 122.3 148.6 L 123.6 148.6 \" fill=\"#0000FF\"/>\n",
       "<path class=\"atom-13\" d=\"M 122.2 139.9 L 123.3 139.9 L 123.3 143.3 L 127.3 143.3 L 127.3 139.9 L 128.4 139.9 L 128.4 147.9 L 127.3 147.9 L 127.3 144.2 L 123.3 144.2 L 123.3 147.9 L 122.2 147.9 L 122.2 139.9 \" fill=\"#0000FF\"/>\n",
       "<path class=\"atom-15\" d=\"M 101.6 196.8 Q 101.6 194.9, 102.5 193.9 Q 103.4 192.8, 105.2 192.8 Q 107.0 192.8, 107.9 193.9 Q 108.8 194.9, 108.8 196.8 Q 108.8 198.8, 107.9 199.9 Q 106.9 201.0, 105.2 201.0 Q 103.5 201.0, 102.5 199.9 Q 101.6 198.8, 101.6 196.8 M 105.2 200.1 Q 106.4 200.1, 107.1 199.3 Q 107.7 198.4, 107.7 196.8 Q 107.7 195.3, 107.1 194.5 Q 106.4 193.7, 105.2 193.7 Q 104.0 193.7, 103.3 194.5 Q 102.7 195.3, 102.7 196.8 Q 102.7 198.4, 103.3 199.3 Q 104.0 200.1, 105.2 200.1 \" fill=\"#FF0000\"/>\n",
       "<path class=\"atom-21\" d=\"M 67.7 129.9 Q 67.7 127.9, 68.7 126.9 Q 69.6 125.8, 71.4 125.8 Q 73.1 125.8, 74.1 126.9 Q 75.0 127.9, 75.0 129.9 Q 75.0 131.8, 74.1 132.9 Q 73.1 134.0, 71.4 134.0 Q 69.6 134.0, 68.7 132.9 Q 67.7 131.8, 67.7 129.9 M 71.4 133.1 Q 72.6 133.1, 73.2 132.3 Q 73.9 131.4, 73.9 129.9 Q 73.9 128.3, 73.2 127.5 Q 72.6 126.7, 71.4 126.7 Q 70.2 126.7, 69.5 127.5 Q 68.8 128.3, 68.8 129.9 Q 68.8 131.5, 69.5 132.3 Q 70.2 133.1, 71.4 133.1 \" fill=\"#FF0000\"/>\n",
       "<path class=\"bond-0 atom-0 atom-1\" d=\"M 350.1,88.1 L 338.8,113.8\" style=\"fill:none;fill-rule:evenodd;stroke:#000000;stroke-width:2.0px;stroke-linecap:butt;stroke-linejoin:miter;stroke-opacity:1\"/>\n",
       "<path class=\"bond-1 atom-1 atom-2\" d=\"M 338.8,113.8 L 345.3,122.6\" style=\"fill:none;fill-rule:evenodd;stroke:#000000;stroke-width:2.0px;stroke-linecap:butt;stroke-linejoin:miter;stroke-opacity:1\"/>\n",
       "<path class=\"bond-1 atom-1 atom-2\" d=\"M 345.3,122.6 L 351.8,131.5\" style=\"fill:none;fill-rule:evenodd;stroke:#0000FF;stroke-width:2.0px;stroke-linecap:butt;stroke-linejoin:miter;stroke-opacity:1\"/>\n",
       "<path class=\"bond-2 atom-2 atom-3\" d=\"M 353.8,141.3 L 350.3,152.2\" style=\"fill:none;fill-rule:evenodd;stroke:#0000FF;stroke-width:2.0px;stroke-linecap:butt;stroke-linejoin:miter;stroke-opacity:1\"/>\n",
       "<path class=\"bond-2 atom-2 atom-3\" d=\"M 350.3,152.2 L 346.8,163.1\" style=\"fill:none;fill-rule:evenodd;stroke:#000000;stroke-width:2.0px;stroke-linecap:butt;stroke-linejoin:miter;stroke-opacity:1\"/>\n",
       "<path class=\"bond-3 atom-3 atom-4\" d=\"M 346.8,163.1 L 369.5,179.5\" style=\"fill:none;fill-rule:evenodd;stroke:#000000;stroke-width:2.0px;stroke-linecap:butt;stroke-linejoin:miter;stroke-opacity:1\"/>\n",
       "<path class=\"bond-3 atom-3 atom-4\" d=\"M 351.7,161.5 L 369.5,174.3\" style=\"fill:none;fill-rule:evenodd;stroke:#000000;stroke-width:2.0px;stroke-linecap:butt;stroke-linejoin:miter;stroke-opacity:1\"/>\n",
       "<path class=\"bond-4 atom-4 atom-5\" d=\"M 369.5,179.5 L 369.5,191.2\" style=\"fill:none;fill-rule:evenodd;stroke:#000000;stroke-width:2.0px;stroke-linecap:butt;stroke-linejoin:miter;stroke-opacity:1\"/>\n",
       "<path class=\"bond-4 atom-4 atom-5\" d=\"M 369.5,191.2 L 369.6,202.8\" style=\"fill:none;fill-rule:evenodd;stroke:#00CC00;stroke-width:2.0px;stroke-linecap:butt;stroke-linejoin:miter;stroke-opacity:1\"/>\n",
       "<path class=\"bond-5 atom-4 atom-6\" d=\"M 369.5,179.5 L 392.1,162.9\" style=\"fill:none;fill-rule:evenodd;stroke:#000000;stroke-width:2.0px;stroke-linecap:butt;stroke-linejoin:miter;stroke-opacity:1\"/>\n",
       "<path class=\"bond-6 atom-6 atom-7\" d=\"M 392.1,162.9 L 418.8,171.5\" style=\"fill:none;fill-rule:evenodd;stroke:#000000;stroke-width:2.0px;stroke-linecap:butt;stroke-linejoin:miter;stroke-opacity:1\"/>\n",
       "<path class=\"bond-7 atom-7 atom-8\" d=\"M 416.5,170.8 L 419.1,182.6\" style=\"fill:none;fill-rule:evenodd;stroke:#000000;stroke-width:2.0px;stroke-linecap:butt;stroke-linejoin:miter;stroke-opacity:1\"/>\n",
       "<path class=\"bond-7 atom-7 atom-8\" d=\"M 419.1,182.6 L 421.6,194.4\" style=\"fill:none;fill-rule:evenodd;stroke:#FF0000;stroke-width:2.0px;stroke-linecap:butt;stroke-linejoin:miter;stroke-opacity:1\"/>\n",
       "<path class=\"bond-7 atom-7 atom-8\" d=\"M 420.6,169.9 L 423.2,181.7\" style=\"fill:none;fill-rule:evenodd;stroke:#000000;stroke-width:2.0px;stroke-linecap:butt;stroke-linejoin:miter;stroke-opacity:1\"/>\n",
       "<path class=\"bond-7 atom-7 atom-8\" d=\"M 423.2,181.7 L 425.7,193.5\" style=\"fill:none;fill-rule:evenodd;stroke:#FF0000;stroke-width:2.0px;stroke-linecap:butt;stroke-linejoin:miter;stroke-opacity:1\"/>\n",
       "<path class=\"bond-8 atom-7 atom-9\" d=\"M 418.8,171.5 L 427.2,163.9\" style=\"fill:none;fill-rule:evenodd;stroke:#000000;stroke-width:2.0px;stroke-linecap:butt;stroke-linejoin:miter;stroke-opacity:1\"/>\n",
       "<path class=\"bond-8 atom-7 atom-9\" d=\"M 427.2,163.9 L 435.7,156.3\" style=\"fill:none;fill-rule:evenodd;stroke:#0000FF;stroke-width:2.0px;stroke-linecap:butt;stroke-linejoin:miter;stroke-opacity:1\"/>\n",
       "<path class=\"bond-9 atom-9 atom-10\" d=\"M 443.5,154.0 L 454.9,157.6\" style=\"fill:none;fill-rule:evenodd;stroke:#0000FF;stroke-width:2.0px;stroke-linecap:butt;stroke-linejoin:miter;stroke-opacity:1\"/>\n",
       "<path class=\"bond-9 atom-9 atom-10\" d=\"M 454.9,157.6 L 466.3,161.3\" style=\"fill:none;fill-rule:evenodd;stroke:#000000;stroke-width:2.0px;stroke-linecap:butt;stroke-linejoin:miter;stroke-opacity:1\"/>\n",
       "<path class=\"bond-10 atom-10 atom-11\" d=\"M 466.3,161.3 L 472.2,188.7\" style=\"fill:none;fill-rule:evenodd;stroke:#000000;stroke-width:2.0px;stroke-linecap:butt;stroke-linejoin:miter;stroke-opacity:1\"/>\n",
       "<path class=\"bond-10 atom-10 atom-11\" d=\"M 470.9,162.7 L 475.8,185.4\" style=\"fill:none;fill-rule:evenodd;stroke:#000000;stroke-width:2.0px;stroke-linecap:butt;stroke-linejoin:miter;stroke-opacity:1\"/>\n",
       "<path class=\"bond-11 atom-11 atom-12\" d=\"M 472.2,188.7 L 498.9,197.2\" style=\"fill:none;fill-rule:evenodd;stroke:#000000;stroke-width:2.0px;stroke-linecap:butt;stroke-linejoin:miter;stroke-opacity:1\"/>\n",
       "<path class=\"bond-12 atom-12 atom-13\" d=\"M 498.9,197.2 L 519.7,178.4\" style=\"fill:none;fill-rule:evenodd;stroke:#000000;stroke-width:2.0px;stroke-linecap:butt;stroke-linejoin:miter;stroke-opacity:1\"/>\n",
       "<path class=\"bond-12 atom-12 atom-13\" d=\"M 497.9,192.5 L 515.0,176.9\" style=\"fill:none;fill-rule:evenodd;stroke:#000000;stroke-width:2.0px;stroke-linecap:butt;stroke-linejoin:miter;stroke-opacity:1\"/>\n",
       "<path class=\"bond-13 atom-13 atom-14\" d=\"M 519.7,178.4 L 513.7,151.0\" style=\"fill:none;fill-rule:evenodd;stroke:#000000;stroke-width:2.0px;stroke-linecap:butt;stroke-linejoin:miter;stroke-opacity:1\"/>\n",
       "<path class=\"bond-14 atom-14 atom-15\" d=\"M 513.7,151.0 L 534.5,132.2\" style=\"fill:none;fill-rule:evenodd;stroke:#000000;stroke-width:2.0px;stroke-linecap:butt;stroke-linejoin:miter;stroke-opacity:1\"/>\n",
       "<path class=\"bond-15 atom-15 atom-16\" d=\"M 534.5,132.2 L 561.2,140.8\" style=\"fill:none;fill-rule:evenodd;stroke:#000000;stroke-width:2.0px;stroke-linecap:butt;stroke-linejoin:miter;stroke-opacity:1\"/>\n",
       "<path class=\"bond-16 atom-15 atom-17\" d=\"M 534.5,132.2 L 528.6,104.8\" style=\"fill:none;fill-rule:evenodd;stroke:#000000;stroke-width:2.0px;stroke-linecap:butt;stroke-linejoin:miter;stroke-opacity:1\"/>\n",
       "<path class=\"bond-17 atom-14 atom-18\" d=\"M 513.7,151.0 L 487.1,142.4\" style=\"fill:none;fill-rule:evenodd;stroke:#000000;stroke-width:2.0px;stroke-linecap:butt;stroke-linejoin:miter;stroke-opacity:1\"/>\n",
       "<path class=\"bond-17 atom-14 atom-18\" d=\"M 510.2,154.3 L 488.1,147.2\" style=\"fill:none;fill-rule:evenodd;stroke:#000000;stroke-width:2.0px;stroke-linecap:butt;stroke-linejoin:miter;stroke-opacity:1\"/>\n",
       "<path class=\"bond-18 atom-18 atom-19\" d=\"M 487.1,142.4 L 484.6,131.2\" style=\"fill:none;fill-rule:evenodd;stroke:#000000;stroke-width:2.0px;stroke-linecap:butt;stroke-linejoin:miter;stroke-opacity:1\"/>\n",
       "<path class=\"bond-18 atom-18 atom-19\" d=\"M 484.6,131.2 L 482.2,119.9\" style=\"fill:none;fill-rule:evenodd;stroke:#0000FF;stroke-width:2.0px;stroke-linecap:butt;stroke-linejoin:miter;stroke-opacity:1\"/>\n",
       "<path class=\"bond-19 atom-6 atom-20\" d=\"M 392.1,162.9 L 383.4,136.3\" style=\"fill:none;fill-rule:evenodd;stroke:#000000;stroke-width:2.0px;stroke-linecap:butt;stroke-linejoin:miter;stroke-opacity:1\"/>\n",
       "<path class=\"bond-19 atom-6 atom-20\" d=\"M 387.2,161.3 L 380.3,140.5\" style=\"fill:none;fill-rule:evenodd;stroke:#000000;stroke-width:2.0px;stroke-linecap:butt;stroke-linejoin:miter;stroke-opacity:1\"/>\n",
       "<path class=\"bond-20 atom-20 atom-2\" d=\"M 383.4,136.3 L 371.3,136.3\" style=\"fill:none;fill-rule:evenodd;stroke:#000000;stroke-width:2.0px;stroke-linecap:butt;stroke-linejoin:miter;stroke-opacity:1\"/>\n",
       "<path class=\"bond-20 atom-20 atom-2\" d=\"M 371.3,136.3 L 359.3,136.4\" style=\"fill:none;fill-rule:evenodd;stroke:#0000FF;stroke-width:2.0px;stroke-linecap:butt;stroke-linejoin:miter;stroke-opacity:1\"/>\n",
       "<path class=\"bond-21 atom-18 atom-10\" d=\"M 487.1,142.4 L 466.3,161.3\" style=\"fill:none;fill-rule:evenodd;stroke:#000000;stroke-width:2.0px;stroke-linecap:butt;stroke-linejoin:miter;stroke-opacity:1\"/>\n",
       "<path d=\"M 339.4,112.5 L 338.8,113.8 L 339.1,114.2\" style=\"fill:none;stroke:#000000;stroke-width:2.0px;stroke-linecap:butt;stroke-linejoin:miter;stroke-miterlimit:10;stroke-opacity:1;\"/>\n",
       "<path d=\"M 346.9,162.5 L 346.8,163.1 L 347.9,163.9\" style=\"fill:none;stroke:#000000;stroke-width:2.0px;stroke-linecap:butt;stroke-linejoin:miter;stroke-miterlimit:10;stroke-opacity:1;\"/>\n",
       "<path d=\"M 417.5,171.1 L 418.8,171.5 L 419.2,171.1\" style=\"fill:none;stroke:#000000;stroke-width:2.0px;stroke-linecap:butt;stroke-linejoin:miter;stroke-miterlimit:10;stroke-opacity:1;\"/>\n",
       "<path d=\"M 471.9,187.3 L 472.2,188.7 L 473.5,189.1\" style=\"fill:none;stroke:#000000;stroke-width:2.0px;stroke-linecap:butt;stroke-linejoin:miter;stroke-miterlimit:10;stroke-opacity:1;\"/>\n",
       "<path d=\"M 497.6,196.8 L 498.9,197.2 L 499.9,196.3\" style=\"fill:none;stroke:#000000;stroke-width:2.0px;stroke-linecap:butt;stroke-linejoin:miter;stroke-miterlimit:10;stroke-opacity:1;\"/>\n",
       "<path d=\"M 518.6,179.4 L 519.7,178.4 L 519.4,177.0\" style=\"fill:none;stroke:#000000;stroke-width:2.0px;stroke-linecap:butt;stroke-linejoin:miter;stroke-miterlimit:10;stroke-opacity:1;\"/>\n",
       "<path d=\"M 383.8,137.6 L 383.4,136.3 L 382.8,136.3\" style=\"fill:none;stroke:#000000;stroke-width:2.0px;stroke-linecap:butt;stroke-linejoin:miter;stroke-miterlimit:10;stroke-opacity:1;\"/>\n",
       "<path class=\"atom-2\" d=\"M 353.6 132.4 L 356.2 136.6 Q 356.4 137.0, 356.9 137.8 Q 357.3 138.5, 357.3 138.6 L 357.3 132.4 L 358.3 132.4 L 358.3 140.4 L 357.3 140.4 L 354.5 135.8 Q 354.1 135.2, 353.8 134.6 Q 353.5 134.0, 353.4 133.8 L 353.4 140.4 L 352.3 140.4 L 352.3 132.4 L 353.6 132.4 \" fill=\"#0000FF\"/>\n",
       "<path class=\"atom-5\" d=\"M 366.5 207.8 Q 366.5 205.8, 367.4 204.8 Q 368.4 203.8, 370.1 203.8 Q 371.8 203.8, 372.7 204.9 L 371.9 205.5 Q 371.3 204.7, 370.1 204.7 Q 368.9 204.7, 368.3 205.5 Q 367.7 206.3, 367.7 207.8 Q 367.7 209.4, 368.3 210.2 Q 369.0 211.0, 370.3 211.0 Q 371.1 211.0, 372.2 210.5 L 372.5 211.3 Q 372.1 211.6, 371.4 211.7 Q 370.8 211.9, 370.1 211.9 Q 368.4 211.9, 367.4 210.8 Q 366.5 209.8, 366.5 207.8 \" fill=\"#00CC00\"/>\n",
       "<path class=\"atom-5\" d=\"M 373.5 203.3 L 374.5 203.3 L 374.5 211.8 L 373.5 211.8 L 373.5 203.3 \" fill=\"#00CC00\"/>\n",
       "<path class=\"atom-8\" d=\"M 421.1 198.9 Q 421.1 197.0, 422.0 196.0 Q 423.0 194.9, 424.7 194.9 Q 426.5 194.9, 427.4 196.0 Q 428.4 197.0, 428.4 198.9 Q 428.4 200.9, 427.4 202.0 Q 426.5 203.1, 424.7 203.1 Q 423.0 203.1, 422.0 202.0 Q 421.1 200.9, 421.1 198.9 M 424.7 202.2 Q 425.9 202.2, 426.6 201.4 Q 427.3 200.5, 427.3 198.9 Q 427.3 197.4, 426.6 196.6 Q 425.9 195.8, 424.7 195.8 Q 423.5 195.8, 422.9 196.6 Q 422.2 197.4, 422.2 198.9 Q 422.2 200.5, 422.9 201.4 Q 423.5 202.2, 424.7 202.2 \" fill=\"#FF0000\"/>\n",
       "<path class=\"atom-9\" d=\"M 437.8 148.7 L 440.4 152.9 Q 440.7 153.3, 441.1 154.1 Q 441.5 154.8, 441.5 154.9 L 441.5 148.7 L 442.6 148.7 L 442.6 156.7 L 441.5 156.7 L 438.7 152.1 Q 438.4 151.5, 438.0 150.9 Q 437.7 150.3, 437.6 150.1 L 437.6 156.7 L 436.6 156.7 L 436.6 148.7 L 437.8 148.7 \" fill=\"#0000FF\"/>\n",
       "<path class=\"atom-9\" d=\"M 436.5 140.0 L 437.6 140.0 L 437.6 143.4 L 441.6 143.4 L 441.6 140.0 L 442.7 140.0 L 442.7 147.9 L 441.6 147.9 L 441.6 144.3 L 437.6 144.3 L 437.6 147.9 L 436.5 147.9 L 436.5 140.0 \" fill=\"#0000FF\"/>\n",
       "<path class=\"atom-19\" d=\"M 479.4 111.1 L 482.0 115.3 Q 482.2 115.7, 482.7 116.4 Q 483.1 117.2, 483.1 117.2 L 483.1 111.1 L 484.1 111.1 L 484.1 119.0 L 483.1 119.0 L 480.3 114.4 Q 479.9 113.9, 479.6 113.2 Q 479.3 112.6, 479.2 112.4 L 479.2 119.0 L 478.1 119.0 L 478.1 111.1 L 479.4 111.1 \" fill=\"#0000FF\"/>\n",
       "<path class=\"atom-19\" d=\"M 485.7 111.1 L 486.7 111.1 L 486.7 114.4 L 490.8 114.4 L 490.8 111.1 L 491.9 111.1 L 491.9 119.0 L 490.8 119.0 L 490.8 115.3 L 486.7 115.3 L 486.7 119.0 L 485.7 119.0 L 485.7 111.1 \" fill=\"#0000FF\"/>\n",
       "<path class=\"atom-19\" d=\"M 493.4 118.7 Q 493.6 118.2, 494.1 118.0 Q 494.5 117.7, 495.2 117.7 Q 496.0 117.7, 496.4 118.1 Q 496.9 118.5, 496.9 119.3 Q 496.9 120.1, 496.3 120.8 Q 495.7 121.5, 494.5 122.4 L 496.9 122.4 L 496.9 123.0 L 493.4 123.0 L 493.4 122.5 Q 494.4 121.8, 495.0 121.3 Q 495.6 120.7, 495.8 120.3 Q 496.1 119.8, 496.1 119.3 Q 496.1 118.8, 495.9 118.5 Q 495.6 118.3, 495.2 118.3 Q 494.8 118.3, 494.5 118.4 Q 494.2 118.6, 494.0 119.0 L 493.4 118.7 \" fill=\"#0000FF\"/>\n",
       "<path class=\"bond-0 atom-0 atom-1\" d=\"M 787.0,113.4 L 784.6,125.2\" style=\"fill:none;fill-rule:evenodd;stroke:#FF0000;stroke-width:2.0px;stroke-linecap:butt;stroke-linejoin:miter;stroke-opacity:1\"/>\n",
       "<path class=\"bond-0 atom-0 atom-1\" d=\"M 784.6,125.2 L 782.3,137.0\" style=\"fill:none;fill-rule:evenodd;stroke:#000000;stroke-width:2.0px;stroke-linecap:butt;stroke-linejoin:miter;stroke-opacity:1\"/>\n",
       "<path class=\"bond-0 atom-0 atom-1\" d=\"M 782.8,112.6 L 780.5,124.4\" style=\"fill:none;fill-rule:evenodd;stroke:#FF0000;stroke-width:2.0px;stroke-linecap:butt;stroke-linejoin:miter;stroke-opacity:1\"/>\n",
       "<path class=\"bond-0 atom-0 atom-1\" d=\"M 780.5,124.4 L 778.2,136.2\" style=\"fill:none;fill-rule:evenodd;stroke:#000000;stroke-width:2.0px;stroke-linecap:butt;stroke-linejoin:miter;stroke-opacity:1\"/>\n",
       "<path class=\"bond-1 atom-1 atom-2\" d=\"M 780.5,135.4 L 801.6,153.9\" style=\"fill:none;fill-rule:evenodd;stroke:#000000;stroke-width:2.0px;stroke-linecap:butt;stroke-linejoin:miter;stroke-opacity:1\"/>\n",
       "<path class=\"bond-2 atom-2 atom-3\" d=\"M 801.6,153.9 L 799.1,181.8\" style=\"fill:none;fill-rule:evenodd;stroke:#000000;stroke-width:2.0px;stroke-linecap:butt;stroke-linejoin:miter;stroke-opacity:1\"/>\n",
       "<path class=\"bond-2 atom-2 atom-3\" d=\"M 805.5,157.3 L 803.6,179.1\" style=\"fill:none;fill-rule:evenodd;stroke:#000000;stroke-width:2.0px;stroke-linecap:butt;stroke-linejoin:miter;stroke-opacity:1\"/>\n",
       "<path class=\"bond-3 atom-3 atom-4\" d=\"M 799.1,181.8 L 810.0,186.4\" style=\"fill:none;fill-rule:evenodd;stroke:#000000;stroke-width:2.0px;stroke-linecap:butt;stroke-linejoin:miter;stroke-opacity:1\"/>\n",
       "<path class=\"bond-3 atom-3 atom-4\" d=\"M 810.0,186.4 L 820.9,191.1\" style=\"fill:none;fill-rule:evenodd;stroke:#0000FF;stroke-width:2.0px;stroke-linecap:butt;stroke-linejoin:miter;stroke-opacity:1\"/>\n",
       "<path class=\"bond-4 atom-4 atom-5\" d=\"M 828.8,188.3 L 836.1,180.0\" style=\"fill:none;fill-rule:evenodd;stroke:#0000FF;stroke-width:2.0px;stroke-linecap:butt;stroke-linejoin:miter;stroke-opacity:1\"/>\n",
       "<path class=\"bond-4 atom-4 atom-5\" d=\"M 836.1,180.0 L 843.3,171.7\" style=\"fill:none;fill-rule:evenodd;stroke:#000000;stroke-width:2.0px;stroke-linecap:butt;stroke-linejoin:miter;stroke-opacity:1\"/>\n",
       "<path class=\"bond-5 atom-5 atom-6\" d=\"M 843.3,171.7 L 871.4,171.2\" style=\"fill:none;fill-rule:evenodd;stroke:#000000;stroke-width:2.0px;stroke-linecap:butt;stroke-linejoin:miter;stroke-opacity:1\"/>\n",
       "<path class=\"bond-5 atom-5 atom-6\" d=\"M 845.7,167.4 L 868.9,167.1\" style=\"fill:none;fill-rule:evenodd;stroke:#000000;stroke-width:2.0px;stroke-linecap:butt;stroke-linejoin:miter;stroke-opacity:1\"/>\n",
       "<path class=\"bond-6 atom-6 atom-7\" d=\"M 871.4,171.2 L 885.0,146.8\" style=\"fill:none;fill-rule:evenodd;stroke:#000000;stroke-width:2.0px;stroke-linecap:butt;stroke-linejoin:miter;stroke-opacity:1\"/>\n",
       "<path class=\"bond-7 atom-7 atom-8\" d=\"M 885.0,146.8 L 870.6,122.7\" style=\"fill:none;fill-rule:evenodd;stroke:#000000;stroke-width:2.0px;stroke-linecap:butt;stroke-linejoin:miter;stroke-opacity:1\"/>\n",
       "<path class=\"bond-7 atom-7 atom-8\" d=\"M 880.1,146.8 L 868.3,126.9\" style=\"fill:none;fill-rule:evenodd;stroke:#000000;stroke-width:2.0px;stroke-linecap:butt;stroke-linejoin:miter;stroke-opacity:1\"/>\n",
       "<path class=\"bond-8 atom-8 atom-9\" d=\"M 870.6,122.7 L 842.6,123.1\" style=\"fill:none;fill-rule:evenodd;stroke:#000000;stroke-width:2.0px;stroke-linecap:butt;stroke-linejoin:miter;stroke-opacity:1\"/>\n",
       "<path class=\"bond-9 atom-9 atom-10\" d=\"M 842.6,123.1 L 828.9,147.6\" style=\"fill:none;fill-rule:evenodd;stroke:#000000;stroke-width:2.0px;stroke-linecap:butt;stroke-linejoin:miter;stroke-opacity:1\"/>\n",
       "<path class=\"bond-9 atom-9 atom-10\" d=\"M 845.1,127.3 L 833.8,147.5\" style=\"fill:none;fill-rule:evenodd;stroke:#000000;stroke-width:2.0px;stroke-linecap:butt;stroke-linejoin:miter;stroke-opacity:1\"/>\n",
       "<path class=\"bond-10 atom-1 atom-11\" d=\"M 780.5,135.4 L 769.2,139.3\" style=\"fill:none;fill-rule:evenodd;stroke:#000000;stroke-width:2.0px;stroke-linecap:butt;stroke-linejoin:miter;stroke-opacity:1\"/>\n",
       "<path class=\"bond-10 atom-1 atom-11\" d=\"M 769.2,139.3 L 757.9,143.1\" style=\"fill:none;fill-rule:evenodd;stroke:#0000FF;stroke-width:2.0px;stroke-linecap:butt;stroke-linejoin:miter;stroke-opacity:1\"/>\n",
       "<path class=\"bond-11 atom-11 atom-12\" d=\"M 750.0,141.0 L 741.4,133.5\" style=\"fill:none;fill-rule:evenodd;stroke:#0000FF;stroke-width:2.0px;stroke-linecap:butt;stroke-linejoin:miter;stroke-opacity:1\"/>\n",
       "<path class=\"bond-11 atom-11 atom-12\" d=\"M 741.4,133.5 L 732.8,126.0\" style=\"fill:none;fill-rule:evenodd;stroke:#000000;stroke-width:2.0px;stroke-linecap:butt;stroke-linejoin:miter;stroke-opacity:1\"/>\n",
       "<path class=\"bond-12 atom-12 atom-13\" d=\"M 734.7,127.6 L 737.0,115.8\" style=\"fill:none;fill-rule:evenodd;stroke:#000000;stroke-width:2.0px;stroke-linecap:butt;stroke-linejoin:miter;stroke-opacity:1\"/>\n",
       "<path class=\"bond-12 atom-12 atom-13\" d=\"M 737.0,115.8 L 739.3,104.0\" style=\"fill:none;fill-rule:evenodd;stroke:#FF0000;stroke-width:2.0px;stroke-linecap:butt;stroke-linejoin:miter;stroke-opacity:1\"/>\n",
       "<path class=\"bond-12 atom-12 atom-13\" d=\"M 730.5,126.8 L 732.9,115.0\" style=\"fill:none;fill-rule:evenodd;stroke:#000000;stroke-width:2.0px;stroke-linecap:butt;stroke-linejoin:miter;stroke-opacity:1\"/>\n",
       "<path class=\"bond-12 atom-12 atom-13\" d=\"M 732.9,115.0 L 735.2,103.2\" style=\"fill:none;fill-rule:evenodd;stroke:#FF0000;stroke-width:2.0px;stroke-linecap:butt;stroke-linejoin:miter;stroke-opacity:1\"/>\n",
       "<path class=\"bond-13 atom-12 atom-14\" d=\"M 732.8,126.0 L 706.3,135.1\" style=\"fill:none;fill-rule:evenodd;stroke:#000000;stroke-width:2.0px;stroke-linecap:butt;stroke-linejoin:miter;stroke-opacity:1\"/>\n",
       "<path class=\"bond-14 atom-14 atom-15\" d=\"M 706.3,135.1 L 696.8,128.4\" style=\"fill:none;fill-rule:evenodd;stroke:#000000;stroke-width:2.0px;stroke-linecap:butt;stroke-linejoin:miter;stroke-opacity:1\"/>\n",
       "<path class=\"bond-14 atom-14 atom-15\" d=\"M 696.8,128.4 L 687.3,121.7\" style=\"fill:none;fill-rule:evenodd;stroke:#0000FF;stroke-width:2.0px;stroke-linecap:butt;stroke-linejoin:miter;stroke-opacity:1\"/>\n",
       "<path class=\"bond-15 atom-15 atom-16\" d=\"M 679.4,121.9 L 670.2,128.8\" style=\"fill:none;fill-rule:evenodd;stroke:#0000FF;stroke-width:2.0px;stroke-linecap:butt;stroke-linejoin:miter;stroke-opacity:1\"/>\n",
       "<path class=\"bond-15 atom-15 atom-16\" d=\"M 670.2,128.8 L 661.0,135.8\" style=\"fill:none;fill-rule:evenodd;stroke:#000000;stroke-width:2.0px;stroke-linecap:butt;stroke-linejoin:miter;stroke-opacity:1\"/>\n",
       "<path class=\"bond-15 atom-15 atom-16\" d=\"M 682.0,125.3 L 673.9,131.3\" style=\"fill:none;fill-rule:evenodd;stroke:#0000FF;stroke-width:2.0px;stroke-linecap:butt;stroke-linejoin:miter;stroke-opacity:1\"/>\n",
       "<path class=\"bond-15 atom-15 atom-16\" d=\"M 673.9,131.3 L 665.9,137.3\" style=\"fill:none;fill-rule:evenodd;stroke:#000000;stroke-width:2.0px;stroke-linecap:butt;stroke-linejoin:miter;stroke-opacity:1\"/>\n",
       "<path class=\"bond-16 atom-16 atom-17\" d=\"M 661.0,135.8 L 633.4,130.4\" style=\"fill:none;fill-rule:evenodd;stroke:#000000;stroke-width:2.0px;stroke-linecap:butt;stroke-linejoin:miter;stroke-opacity:1\"/>\n",
       "<path class=\"bond-17 atom-17 atom-18\" d=\"M 633.4,130.4 L 615.0,151.5\" style=\"fill:none;fill-rule:evenodd;stroke:#000000;stroke-width:2.0px;stroke-linecap:butt;stroke-linejoin:miter;stroke-opacity:1\"/>\n",
       "<path class=\"bond-17 atom-17 atom-18\" d=\"M 635.0,135.0 L 619.8,152.4\" style=\"fill:none;fill-rule:evenodd;stroke:#000000;stroke-width:2.0px;stroke-linecap:butt;stroke-linejoin:miter;stroke-opacity:1\"/>\n",
       "<path class=\"bond-18 atom-18 atom-19\" d=\"M 615.0,151.5 L 624.1,178.0\" style=\"fill:none;fill-rule:evenodd;stroke:#000000;stroke-width:2.0px;stroke-linecap:butt;stroke-linejoin:miter;stroke-opacity:1\"/>\n",
       "<path class=\"bond-19 atom-19 atom-20\" d=\"M 624.1,178.0 L 651.6,183.4\" style=\"fill:none;fill-rule:evenodd;stroke:#000000;stroke-width:2.0px;stroke-linecap:butt;stroke-linejoin:miter;stroke-opacity:1\"/>\n",
       "<path class=\"bond-19 atom-19 atom-20\" d=\"M 627.3,174.4 L 650.0,178.8\" style=\"fill:none;fill-rule:evenodd;stroke:#000000;stroke-width:2.0px;stroke-linecap:butt;stroke-linejoin:miter;stroke-opacity:1\"/>\n",
       "<path class=\"bond-20 atom-20 atom-21\" d=\"M 651.6,183.4 L 658.8,175.1\" style=\"fill:none;fill-rule:evenodd;stroke:#000000;stroke-width:2.0px;stroke-linecap:butt;stroke-linejoin:miter;stroke-opacity:1\"/>\n",
       "<path class=\"bond-20 atom-20 atom-21\" d=\"M 658.8,175.1 L 666.1,166.8\" style=\"fill:none;fill-rule:evenodd;stroke:#0000FF;stroke-width:2.0px;stroke-linecap:butt;stroke-linejoin:miter;stroke-opacity:1\"/>\n",
       "<path class=\"bond-21 atom-21 atom-22\" d=\"M 674.0,162.3 L 686.0,162.1\" style=\"fill:none;fill-rule:evenodd;stroke:#0000FF;stroke-width:2.0px;stroke-linecap:butt;stroke-linejoin:miter;stroke-opacity:1\"/>\n",
       "<path class=\"bond-21 atom-21 atom-22\" d=\"M 686.0,162.1 L 698.0,161.9\" style=\"fill:none;fill-rule:evenodd;stroke:#000000;stroke-width:2.0px;stroke-linecap:butt;stroke-linejoin:miter;stroke-opacity:1\"/>\n",
       "<path class=\"bond-22 atom-10 atom-2\" d=\"M 828.9,147.6 L 801.6,153.9\" style=\"fill:none;fill-rule:evenodd;stroke:#000000;stroke-width:2.0px;stroke-linecap:butt;stroke-linejoin:miter;stroke-opacity:1\"/>\n",
       "<path class=\"bond-23 atom-22 atom-14\" d=\"M 698.0,161.9 L 706.3,135.1\" style=\"fill:none;fill-rule:evenodd;stroke:#000000;stroke-width:2.0px;stroke-linecap:butt;stroke-linejoin:miter;stroke-opacity:1\"/>\n",
       "<path class=\"bond-23 atom-22 atom-14\" d=\"M 694.9,157.7 L 701.4,136.8\" style=\"fill:none;fill-rule:evenodd;stroke:#000000;stroke-width:2.0px;stroke-linecap:butt;stroke-linejoin:miter;stroke-opacity:1\"/>\n",
       "<path class=\"bond-24 atom-10 atom-5\" d=\"M 828.9,147.6 L 843.3,171.7\" style=\"fill:none;fill-rule:evenodd;stroke:#000000;stroke-width:2.0px;stroke-linecap:butt;stroke-linejoin:miter;stroke-opacity:1\"/>\n",
       "<path class=\"bond-25 atom-21 atom-16\" d=\"M 668.3,157.4 L 664.6,146.6\" style=\"fill:none;fill-rule:evenodd;stroke:#0000FF;stroke-width:2.0px;stroke-linecap:butt;stroke-linejoin:miter;stroke-opacity:1\"/>\n",
       "<path class=\"bond-25 atom-21 atom-16\" d=\"M 664.6,146.6 L 661.0,135.8\" style=\"fill:none;fill-rule:evenodd;stroke:#000000;stroke-width:2.0px;stroke-linecap:butt;stroke-linejoin:miter;stroke-opacity:1\"/>\n",
       "<path d=\"M 781.5,136.3 L 780.5,135.4 L 779.9,135.6\" style=\"fill:none;stroke:#000000;stroke-width:2.0px;stroke-linecap:butt;stroke-linejoin:miter;stroke-miterlimit:10;stroke-opacity:1;\"/>\n",
       "<path d=\"M 799.2,180.4 L 799.1,181.8 L 799.6,182.0\" style=\"fill:none;stroke:#000000;stroke-width:2.0px;stroke-linecap:butt;stroke-linejoin:miter;stroke-miterlimit:10;stroke-opacity:1;\"/>\n",
       "<path d=\"M 869.9,171.3 L 871.4,171.2 L 872.0,170.0\" style=\"fill:none;stroke:#000000;stroke-width:2.0px;stroke-linecap:butt;stroke-linejoin:miter;stroke-miterlimit:10;stroke-opacity:1;\"/>\n",
       "<path d=\"M 884.3,148.0 L 885.0,146.8 L 884.3,145.6\" style=\"fill:none;stroke:#000000;stroke-width:2.0px;stroke-linecap:butt;stroke-linejoin:miter;stroke-miterlimit:10;stroke-opacity:1;\"/>\n",
       "<path d=\"M 871.3,123.9 L 870.6,122.7 L 869.2,122.7\" style=\"fill:none;stroke:#000000;stroke-width:2.0px;stroke-linecap:butt;stroke-linejoin:miter;stroke-miterlimit:10;stroke-opacity:1;\"/>\n",
       "<path d=\"M 844.0,123.1 L 842.6,123.1 L 841.9,124.3\" style=\"fill:none;stroke:#000000;stroke-width:2.0px;stroke-linecap:butt;stroke-linejoin:miter;stroke-miterlimit:10;stroke-opacity:1;\"/>\n",
       "<path d=\"M 733.3,126.4 L 732.8,126.0 L 731.5,126.5\" style=\"fill:none;stroke:#000000;stroke-width:2.0px;stroke-linecap:butt;stroke-linejoin:miter;stroke-miterlimit:10;stroke-opacity:1;\"/>\n",
       "<path d=\"M 634.8,130.6 L 633.4,130.4 L 632.5,131.4\" style=\"fill:none;stroke:#000000;stroke-width:2.0px;stroke-linecap:butt;stroke-linejoin:miter;stroke-miterlimit:10;stroke-opacity:1;\"/>\n",
       "<path d=\"M 615.9,150.4 L 615.0,151.5 L 615.5,152.8\" style=\"fill:none;stroke:#000000;stroke-width:2.0px;stroke-linecap:butt;stroke-linejoin:miter;stroke-miterlimit:10;stroke-opacity:1;\"/>\n",
       "<path d=\"M 623.6,176.7 L 624.1,178.0 L 625.4,178.3\" style=\"fill:none;stroke:#000000;stroke-width:2.0px;stroke-linecap:butt;stroke-linejoin:miter;stroke-miterlimit:10;stroke-opacity:1;\"/>\n",
       "<path d=\"M 650.2,183.2 L 651.6,183.4 L 651.9,183.0\" style=\"fill:none;stroke:#000000;stroke-width:2.0px;stroke-linecap:butt;stroke-linejoin:miter;stroke-miterlimit:10;stroke-opacity:1;\"/>\n",
       "<path d=\"M 697.4,161.9 L 698.0,161.9 L 698.5,160.5\" style=\"fill:none;stroke:#000000;stroke-width:2.0px;stroke-linecap:butt;stroke-linejoin:miter;stroke-miterlimit:10;stroke-opacity:1;\"/>\n",
       "<path class=\"atom-0\" d=\"M 782.3 107.9 Q 782.3 106.0, 783.2 104.9 Q 784.1 103.9, 785.9 103.9 Q 787.7 103.9, 788.6 104.9 Q 789.5 106.0, 789.5 107.9 Q 789.5 109.9, 788.6 110.9 Q 787.6 112.0, 785.9 112.0 Q 784.2 112.0, 783.2 110.9 Q 782.3 109.9, 782.3 107.9 M 785.9 111.1 Q 787.1 111.1, 787.8 110.3 Q 788.4 109.5, 788.4 107.9 Q 788.4 106.4, 787.8 105.6 Q 787.1 104.8, 785.9 104.8 Q 784.7 104.8, 784.0 105.6 Q 783.4 106.4, 783.4 107.9 Q 783.4 109.5, 784.0 110.3 Q 784.7 111.1, 785.9 111.1 \" fill=\"#FF0000\"/>\n",
       "<path class=\"atom-4\" d=\"M 823.1 188.8 L 825.7 193.0 Q 826.0 193.4, 826.4 194.2 Q 826.8 194.9, 826.8 195.0 L 826.8 188.8 L 827.9 188.8 L 827.9 196.8 L 826.8 196.8 L 824.0 192.2 Q 823.7 191.6, 823.3 191.0 Q 823.0 190.4, 822.9 190.2 L 822.9 196.8 L 821.9 196.8 L 821.9 188.8 L 823.1 188.8 \" fill=\"#0000FF\"/>\n",
       "<path class=\"atom-4\" d=\"M 821.8 197.6 L 822.8 197.6 L 822.8 200.9 L 826.9 200.9 L 826.9 197.6 L 828.0 197.6 L 828.0 205.5 L 826.9 205.5 L 826.9 201.8 L 822.8 201.8 L 822.8 205.5 L 821.8 205.5 L 821.8 197.6 \" fill=\"#0000FF\"/>\n",
       "<path class=\"atom-11\" d=\"M 752.2 140.5 L 754.8 144.7 Q 755.1 145.1, 755.5 145.9 Q 755.9 146.6, 755.9 146.7 L 755.9 140.5 L 757.0 140.5 L 757.0 148.4 L 755.9 148.4 L 753.1 143.8 Q 752.8 143.3, 752.4 142.7 Q 752.1 142.1, 752.0 141.9 L 752.0 148.4 L 750.9 148.4 L 750.9 140.5 L 752.2 140.5 \" fill=\"#0000FF\"/>\n",
       "<path class=\"atom-11\" d=\"M 750.8 149.2 L 751.9 149.2 L 751.9 152.6 L 756.0 152.6 L 756.0 149.2 L 757.1 149.2 L 757.1 157.2 L 756.0 157.2 L 756.0 153.5 L 751.9 153.5 L 751.9 157.2 L 750.8 157.2 L 750.8 149.2 \" fill=\"#0000FF\"/>\n",
       "<path class=\"atom-13\" d=\"M 734.6 98.5 Q 734.6 96.6, 735.6 95.6 Q 736.5 94.5, 738.3 94.5 Q 740.0 94.5, 741.0 95.6 Q 741.9 96.6, 741.9 98.5 Q 741.9 100.5, 740.9 101.6 Q 740.0 102.7, 738.3 102.7 Q 736.5 102.7, 735.6 101.6 Q 734.6 100.5, 734.6 98.5 M 738.3 101.8 Q 739.5 101.8, 740.1 101.0 Q 740.8 100.1, 740.8 98.5 Q 740.8 97.0, 740.1 96.2 Q 739.5 95.4, 738.3 95.4 Q 737.0 95.4, 736.4 96.2 Q 735.7 97.0, 735.7 98.5 Q 735.7 100.1, 736.4 101.0 Q 737.0 101.8, 738.3 101.8 \" fill=\"#FF0000\"/>\n",
       "<path class=\"atom-15\" d=\"M 681.6 115.0 L 684.2 119.2 Q 684.5 119.6, 684.9 120.4 Q 685.3 121.1, 685.3 121.2 L 685.3 115.0 L 686.4 115.0 L 686.4 122.9 L 685.3 122.9 L 682.5 118.3 Q 682.2 117.8, 681.8 117.2 Q 681.5 116.6, 681.4 116.4 L 681.4 122.9 L 680.4 122.9 L 680.4 115.0 L 681.6 115.0 \" fill=\"#0000FF\"/>\n",
       "<path class=\"atom-21\" d=\"M 668.3 158.3 L 670.9 162.5 Q 671.1 163.0, 671.5 163.7 Q 672.0 164.5, 672.0 164.5 L 672.0 158.3 L 673.0 158.3 L 673.0 166.3 L 671.9 166.3 L 669.1 161.7 Q 668.8 161.1, 668.5 160.5 Q 668.1 159.9, 668.0 159.7 L 668.0 166.3 L 667.0 166.3 L 667.0 158.3 L 668.3 158.3 \" fill=\"#0000FF\"/>\n",
       "<path class=\"bond-0 atom-0 atom-1\" d=\"M 921.6,197.3 L 939.6,175.8\" style=\"fill:none;fill-rule:evenodd;stroke:#000000;stroke-width:2.0px;stroke-linecap:butt;stroke-linejoin:miter;stroke-opacity:1\"/>\n",
       "<path class=\"bond-1 atom-1 atom-2\" d=\"M 939.6,175.8 L 930.0,149.5\" style=\"fill:none;fill-rule:evenodd;stroke:#000000;stroke-width:2.0px;stroke-linecap:butt;stroke-linejoin:miter;stroke-opacity:1\"/>\n",
       "<path class=\"bond-2 atom-1 atom-3\" d=\"M 939.6,175.8 L 951.4,177.9\" style=\"fill:none;fill-rule:evenodd;stroke:#000000;stroke-width:2.0px;stroke-linecap:butt;stroke-linejoin:miter;stroke-opacity:1\"/>\n",
       "<path class=\"bond-2 atom-1 atom-3\" d=\"M 951.4,177.9 L 963.2,180.0\" style=\"fill:none;fill-rule:evenodd;stroke:#0000FF;stroke-width:2.0px;stroke-linecap:butt;stroke-linejoin:miter;stroke-opacity:1\"/>\n",
       "<path class=\"bond-3 atom-3 atom-4\" d=\"M 971.3,175.8 L 978.2,167.5\" style=\"fill:none;fill-rule:evenodd;stroke:#0000FF;stroke-width:2.0px;stroke-linecap:butt;stroke-linejoin:miter;stroke-opacity:1\"/>\n",
       "<path class=\"bond-3 atom-3 atom-4\" d=\"M 978.2,167.5 L 985.2,159.2\" style=\"fill:none;fill-rule:evenodd;stroke:#000000;stroke-width:2.0px;stroke-linecap:butt;stroke-linejoin:miter;stroke-opacity:1\"/>\n",
       "<path class=\"bond-4 atom-4 atom-5\" d=\"M 987.6,159.6 L 983.5,148.4\" style=\"fill:none;fill-rule:evenodd;stroke:#000000;stroke-width:2.0px;stroke-linecap:butt;stroke-linejoin:miter;stroke-opacity:1\"/>\n",
       "<path class=\"bond-4 atom-4 atom-5\" d=\"M 983.5,148.4 L 979.4,137.2\" style=\"fill:none;fill-rule:evenodd;stroke:#FF0000;stroke-width:2.0px;stroke-linecap:butt;stroke-linejoin:miter;stroke-opacity:1\"/>\n",
       "<path class=\"bond-4 atom-4 atom-5\" d=\"M 983.6,161.1 L 979.5,149.9\" style=\"fill:none;fill-rule:evenodd;stroke:#000000;stroke-width:2.0px;stroke-linecap:butt;stroke-linejoin:miter;stroke-opacity:1\"/>\n",
       "<path class=\"bond-4 atom-4 atom-5\" d=\"M 979.5,149.9 L 975.5,138.7\" style=\"fill:none;fill-rule:evenodd;stroke:#FF0000;stroke-width:2.0px;stroke-linecap:butt;stroke-linejoin:miter;stroke-opacity:1\"/>\n",
       "<path class=\"bond-5 atom-4 atom-6\" d=\"M 985.2,159.2 L 997.0,161.3\" style=\"fill:none;fill-rule:evenodd;stroke:#000000;stroke-width:2.0px;stroke-linecap:butt;stroke-linejoin:miter;stroke-opacity:1\"/>\n",
       "<path class=\"bond-5 atom-4 atom-6\" d=\"M 997.0,161.3 L 1008.9,163.4\" style=\"fill:none;fill-rule:evenodd;stroke:#0000FF;stroke-width:2.0px;stroke-linecap:butt;stroke-linejoin:miter;stroke-opacity:1\"/>\n",
       "<path class=\"bond-6 atom-6 atom-7\" d=\"M 1016.9,159.2 L 1023.9,150.9\" style=\"fill:none;fill-rule:evenodd;stroke:#0000FF;stroke-width:2.0px;stroke-linecap:butt;stroke-linejoin:miter;stroke-opacity:1\"/>\n",
       "<path class=\"bond-6 atom-6 atom-7\" d=\"M 1023.9,150.9 L 1030.8,142.6\" style=\"fill:none;fill-rule:evenodd;stroke:#000000;stroke-width:2.0px;stroke-linecap:butt;stroke-linejoin:miter;stroke-opacity:1\"/>\n",
       "<path class=\"bond-7 atom-7 atom-8\" d=\"M 1030.8,142.6 L 1021.2,116.2\" style=\"fill:none;fill-rule:evenodd;stroke:#000000;stroke-width:2.0px;stroke-linecap:butt;stroke-linejoin:miter;stroke-opacity:1\"/>\n",
       "<path class=\"bond-7 atom-7 atom-8\" d=\"M 1033.9,138.9 L 1026.0,117.1\" style=\"fill:none;fill-rule:evenodd;stroke:#000000;stroke-width:2.0px;stroke-linecap:butt;stroke-linejoin:miter;stroke-opacity:1\"/>\n",
       "<path class=\"bond-8 atom-8 atom-9\" d=\"M 1021.2,116.2 L 1039.2,94.8\" style=\"fill:none;fill-rule:evenodd;stroke:#000000;stroke-width:2.0px;stroke-linecap:butt;stroke-linejoin:miter;stroke-opacity:1\"/>\n",
       "<path class=\"bond-9 atom-9 atom-10\" d=\"M 1039.2,94.8 L 1066.8,99.6\" style=\"fill:none;fill-rule:evenodd;stroke:#000000;stroke-width:2.0px;stroke-linecap:butt;stroke-linejoin:miter;stroke-opacity:1\"/>\n",
       "<path class=\"bond-9 atom-9 atom-10\" d=\"M 1040.9,99.3 L 1063.7,103.3\" style=\"fill:none;fill-rule:evenodd;stroke:#000000;stroke-width:2.0px;stroke-linecap:butt;stroke-linejoin:miter;stroke-opacity:1\"/>\n",
       "<path class=\"bond-10 atom-10 atom-11\" d=\"M 1066.8,99.6 L 1076.4,126.0\" style=\"fill:none;fill-rule:evenodd;stroke:#000000;stroke-width:2.0px;stroke-linecap:butt;stroke-linejoin:miter;stroke-opacity:1\"/>\n",
       "<path class=\"bond-11 atom-11 atom-12\" d=\"M 1076.4,126.0 L 1058.4,147.4\" style=\"fill:none;fill-rule:evenodd;stroke:#000000;stroke-width:2.0px;stroke-linecap:butt;stroke-linejoin:miter;stroke-opacity:1\"/>\n",
       "<path class=\"bond-11 atom-11 atom-12\" d=\"M 1071.7,125.1 L 1056.8,142.9\" style=\"fill:none;fill-rule:evenodd;stroke:#000000;stroke-width:2.0px;stroke-linecap:butt;stroke-linejoin:miter;stroke-opacity:1\"/>\n",
       "<path class=\"bond-12 atom-11 atom-13\" d=\"M 1076.4,126.0 L 1088.5,125.5\" style=\"fill:none;fill-rule:evenodd;stroke:#000000;stroke-width:2.0px;stroke-linecap:butt;stroke-linejoin:miter;stroke-opacity:1\"/>\n",
       "<path class=\"bond-12 atom-11 atom-13\" d=\"M 1088.5,125.5 L 1100.5,125.1\" style=\"fill:none;fill-rule:evenodd;stroke:#0000FF;stroke-width:2.0px;stroke-linecap:butt;stroke-linejoin:miter;stroke-opacity:1\"/>\n",
       "<path class=\"bond-13 atom-13 atom-14\" d=\"M 1108.3,129.9 L 1115.0,138.5\" style=\"fill:none;fill-rule:evenodd;stroke:#0000FF;stroke-width:2.0px;stroke-linecap:butt;stroke-linejoin:miter;stroke-opacity:1\"/>\n",
       "<path class=\"bond-13 atom-13 atom-14\" d=\"M 1115.0,138.5 L 1121.7,147.0\" style=\"fill:none;fill-rule:evenodd;stroke:#000000;stroke-width:2.0px;stroke-linecap:butt;stroke-linejoin:miter;stroke-opacity:1\"/>\n",
       "<path class=\"bond-14 atom-14 atom-15\" d=\"M 1121.7,147.0 L 1111.2,173.0\" style=\"fill:none;fill-rule:evenodd;stroke:#000000;stroke-width:2.0px;stroke-linecap:butt;stroke-linejoin:miter;stroke-opacity:1\"/>\n",
       "<path class=\"bond-14 atom-14 atom-15\" d=\"M 1124.7,150.9 L 1116.0,172.4\" style=\"fill:none;fill-rule:evenodd;stroke:#000000;stroke-width:2.0px;stroke-linecap:butt;stroke-linejoin:miter;stroke-opacity:1\"/>\n",
       "<path class=\"bond-15 atom-15 atom-16\" d=\"M 1111.2,173.0 L 1128.5,195.1\" style=\"fill:none;fill-rule:evenodd;stroke:#000000;stroke-width:2.0px;stroke-linecap:butt;stroke-linejoin:miter;stroke-opacity:1\"/>\n",
       "<path class=\"bond-16 atom-16 atom-17\" d=\"M 1128.5,195.1 L 1156.3,191.2\" style=\"fill:none;fill-rule:evenodd;stroke:#000000;stroke-width:2.0px;stroke-linecap:butt;stroke-linejoin:miter;stroke-opacity:1\"/>\n",
       "<path class=\"bond-16 atom-16 atom-17\" d=\"M 1130.3,190.6 L 1153.3,187.4\" style=\"fill:none;fill-rule:evenodd;stroke:#000000;stroke-width:2.0px;stroke-linecap:butt;stroke-linejoin:miter;stroke-opacity:1\"/>\n",
       "<path class=\"bond-17 atom-17 atom-18\" d=\"M 1156.3,191.2 L 1163.1,199.9\" style=\"fill:none;fill-rule:evenodd;stroke:#000000;stroke-width:2.0px;stroke-linecap:butt;stroke-linejoin:miter;stroke-opacity:1\"/>\n",
       "<path class=\"bond-17 atom-17 atom-18\" d=\"M 1163.1,199.9 L 1169.9,208.6\" style=\"fill:none;fill-rule:evenodd;stroke:#00CC00;stroke-width:2.0px;stroke-linecap:butt;stroke-linejoin:miter;stroke-opacity:1\"/>\n",
       "<path class=\"bond-18 atom-17 atom-19\" d=\"M 1156.3,191.2 L 1166.8,165.2\" style=\"fill:none;fill-rule:evenodd;stroke:#000000;stroke-width:2.0px;stroke-linecap:butt;stroke-linejoin:miter;stroke-opacity:1\"/>\n",
       "<path class=\"bond-19 atom-19 atom-20\" d=\"M 1166.8,165.2 L 1149.5,143.1\" style=\"fill:none;fill-rule:evenodd;stroke:#000000;stroke-width:2.0px;stroke-linecap:butt;stroke-linejoin:miter;stroke-opacity:1\"/>\n",
       "<path class=\"bond-19 atom-19 atom-20\" d=\"M 1162.0,165.9 L 1147.7,147.6\" style=\"fill:none;fill-rule:evenodd;stroke:#000000;stroke-width:2.0px;stroke-linecap:butt;stroke-linejoin:miter;stroke-opacity:1\"/>\n",
       "<path class=\"bond-20 atom-13 atom-21\" d=\"M 1105.9,120.1 L 1109.0,109.0\" style=\"fill:none;fill-rule:evenodd;stroke:#0000FF;stroke-width:2.0px;stroke-linecap:butt;stroke-linejoin:miter;stroke-opacity:1\"/>\n",
       "<path class=\"bond-20 atom-13 atom-21\" d=\"M 1109.0,109.0 L 1112.2,98.0\" style=\"fill:none;fill-rule:evenodd;stroke:#000000;stroke-width:2.0px;stroke-linecap:butt;stroke-linejoin:miter;stroke-opacity:1\"/>\n",
       "<path class=\"bond-21 atom-21 atom-22\" d=\"M 1112.2,98.0 L 1088.9,82.3\" style=\"fill:none;fill-rule:evenodd;stroke:#000000;stroke-width:2.0px;stroke-linecap:butt;stroke-linejoin:miter;stroke-opacity:1\"/>\n",
       "<path class=\"bond-22 atom-12 atom-7\" d=\"M 1058.4,147.4 L 1030.8,142.6\" style=\"fill:none;fill-rule:evenodd;stroke:#000000;stroke-width:2.0px;stroke-linecap:butt;stroke-linejoin:miter;stroke-opacity:1\"/>\n",
       "<path class=\"bond-23 atom-20 atom-14\" d=\"M 1149.5,143.1 L 1121.7,147.0\" style=\"fill:none;fill-rule:evenodd;stroke:#000000;stroke-width:2.0px;stroke-linecap:butt;stroke-linejoin:miter;stroke-opacity:1\"/>\n",
       "<path class=\"bond-24 atom-22 atom-10\" d=\"M 1088.9,82.3 L 1066.8,99.6\" style=\"fill:none;fill-rule:evenodd;stroke:#000000;stroke-width:2.0px;stroke-linecap:butt;stroke-linejoin:miter;stroke-opacity:1\"/>\n",
       "<path d=\"M 984.8,159.6 L 985.2,159.2 L 985.8,159.3\" style=\"fill:none;stroke:#000000;stroke-width:2.0px;stroke-linecap:butt;stroke-linejoin:miter;stroke-miterlimit:10;stroke-opacity:1;\"/>\n",
       "<path d=\"M 1021.7,117.6 L 1021.2,116.2 L 1022.1,115.2\" style=\"fill:none;stroke:#000000;stroke-width:2.0px;stroke-linecap:butt;stroke-linejoin:miter;stroke-miterlimit:10;stroke-opacity:1;\"/>\n",
       "<path d=\"M 1038.3,95.8 L 1039.2,94.8 L 1040.6,95.0\" style=\"fill:none;stroke:#000000;stroke-width:2.0px;stroke-linecap:butt;stroke-linejoin:miter;stroke-miterlimit:10;stroke-opacity:1;\"/>\n",
       "<path d=\"M 1059.3,146.4 L 1058.4,147.4 L 1057.0,147.2\" style=\"fill:none;stroke:#000000;stroke-width:2.0px;stroke-linecap:butt;stroke-linejoin:miter;stroke-miterlimit:10;stroke-opacity:1;\"/>\n",
       "<path d=\"M 1111.8,171.7 L 1111.2,173.0 L 1112.1,174.2\" style=\"fill:none;stroke:#000000;stroke-width:2.0px;stroke-linecap:butt;stroke-linejoin:miter;stroke-miterlimit:10;stroke-opacity:1;\"/>\n",
       "<path d=\"M 1127.6,194.0 L 1128.5,195.1 L 1129.9,194.9\" style=\"fill:none;stroke:#000000;stroke-width:2.0px;stroke-linecap:butt;stroke-linejoin:miter;stroke-miterlimit:10;stroke-opacity:1;\"/>\n",
       "<path d=\"M 1166.2,166.5 L 1166.8,165.2 L 1165.9,164.1\" style=\"fill:none;stroke:#000000;stroke-width:2.0px;stroke-linecap:butt;stroke-linejoin:miter;stroke-miterlimit:10;stroke-opacity:1;\"/>\n",
       "<path d=\"M 1150.4,144.2 L 1149.5,143.1 L 1148.1,143.3\" style=\"fill:none;stroke:#000000;stroke-width:2.0px;stroke-linecap:butt;stroke-linejoin:miter;stroke-miterlimit:10;stroke-opacity:1;\"/>\n",
       "<path d=\"M 1112.0,98.6 L 1112.2,98.0 L 1111.0,97.2\" style=\"fill:none;stroke:#000000;stroke-width:2.0px;stroke-linecap:butt;stroke-linejoin:miter;stroke-miterlimit:10;stroke-opacity:1;\"/>\n",
       "<path d=\"M 1090.1,83.1 L 1088.9,82.3 L 1087.8,83.2\" style=\"fill:none;stroke:#000000;stroke-width:2.0px;stroke-linecap:butt;stroke-linejoin:miter;stroke-miterlimit:10;stroke-opacity:1;\"/>\n",
       "<path class=\"atom-3\" d=\"M 965.4 176.7 L 968.0 180.9 Q 968.3 181.3, 968.7 182.1 Q 969.1 182.8, 969.1 182.9 L 969.1 176.7 L 970.2 176.7 L 970.2 184.7 L 969.1 184.7 L 966.3 180.1 Q 966.0 179.5, 965.6 178.9 Q 965.3 178.3, 965.2 178.1 L 965.2 184.7 L 964.2 184.7 L 964.2 176.7 L 965.4 176.7 \" fill=\"#0000FF\"/>\n",
       "<path class=\"atom-3\" d=\"M 971.7 176.7 L 972.8 176.7 L 972.8 180.1 L 976.9 180.1 L 976.9 176.7 L 977.9 176.7 L 977.9 184.7 L 976.9 184.7 L 976.9 181.0 L 972.8 181.0 L 972.8 184.7 L 971.7 184.7 L 971.7 176.7 \" fill=\"#0000FF\"/>\n",
       "<path class=\"atom-5\" d=\"M 971.9 132.9 Q 971.9 131.0, 972.9 129.9 Q 973.8 128.9, 975.6 128.9 Q 977.4 128.9, 978.3 129.9 Q 979.2 131.0, 979.2 132.9 Q 979.2 134.8, 978.3 135.9 Q 977.3 137.0, 975.6 137.0 Q 973.8 137.0, 972.9 135.9 Q 971.9 134.8, 971.9 132.9 M 975.6 136.1 Q 976.8 136.1, 977.5 135.3 Q 978.1 134.5, 978.1 132.9 Q 978.1 131.3, 977.5 130.5 Q 976.8 129.8, 975.6 129.8 Q 974.4 129.8, 973.7 130.5 Q 973.1 131.3, 973.1 132.9 Q 973.1 134.5, 973.7 135.3 Q 974.4 136.1, 975.6 136.1 \" fill=\"#FF0000\"/>\n",
       "<path class=\"atom-6\" d=\"M 1011.1 160.1 L 1013.7 164.3 Q 1013.9 164.7, 1014.3 165.5 Q 1014.7 166.2, 1014.8 166.3 L 1014.8 160.1 L 1015.8 160.1 L 1015.8 168.0 L 1014.7 168.0 L 1011.9 163.4 Q 1011.6 162.9, 1011.3 162.3 Q 1010.9 161.7, 1010.8 161.5 L 1010.8 168.0 L 1009.8 168.0 L 1009.8 160.1 L 1011.1 160.1 \" fill=\"#0000FF\"/>\n",
       "<path class=\"atom-6\" d=\"M 1017.4 160.1 L 1018.4 160.1 L 1018.4 163.5 L 1022.5 163.5 L 1022.5 160.1 L 1023.6 160.1 L 1023.6 168.0 L 1022.5 168.0 L 1022.5 164.4 L 1018.4 164.4 L 1018.4 168.0 L 1017.4 168.0 L 1017.4 160.1 \" fill=\"#0000FF\"/>\n",
       "<path class=\"atom-13\" d=\"M 1102.7 121.0 L 1105.3 125.2 Q 1105.6 125.6, 1106.0 126.4 Q 1106.4 127.1, 1106.4 127.2 L 1106.4 121.0 L 1107.5 121.0 L 1107.5 128.9 L 1106.4 128.9 L 1103.6 124.3 Q 1103.3 123.8, 1102.9 123.2 Q 1102.6 122.6, 1102.5 122.4 L 1102.5 128.9 L 1101.4 128.9 L 1101.4 121.0 L 1102.7 121.0 \" fill=\"#0000FF\"/>\n",
       "<path class=\"atom-18\" d=\"M 1170.5 213.6 Q 1170.5 211.6, 1171.4 210.6 Q 1172.3 209.5, 1174.1 209.5 Q 1175.7 209.5, 1176.6 210.7 L 1175.9 211.3 Q 1175.2 210.4, 1174.1 210.4 Q 1172.9 210.4, 1172.3 211.3 Q 1171.6 212.1, 1171.6 213.6 Q 1171.6 215.1, 1172.3 216.0 Q 1172.9 216.8, 1174.2 216.8 Q 1175.1 216.8, 1176.1 216.2 L 1176.4 217.1 Q 1176.0 217.3, 1175.4 217.5 Q 1174.8 217.7, 1174.1 217.7 Q 1172.3 217.7, 1171.4 216.6 Q 1170.5 215.6, 1170.5 213.6 \" fill=\"#00CC00\"/>\n",
       "<path class=\"atom-18\" d=\"M 1177.4 209.0 L 1178.4 209.0 L 1178.4 217.6 L 1177.4 217.6 L 1177.4 209.0 \" fill=\"#00CC00\"/>\n",
       "<path class=\"bond-0 atom-0 atom-1\" d=\"M 51.0,402.3 L 79.1,402.9\" style=\"fill:none;fill-rule:evenodd;stroke:#000000;stroke-width:2.0px;stroke-linecap:butt;stroke-linejoin:miter;stroke-opacity:1\"/>\n",
       "<path class=\"bond-1 atom-1 atom-2\" d=\"M 79.1,402.9 L 84.5,412.7\" style=\"fill:none;fill-rule:evenodd;stroke:#000000;stroke-width:2.0px;stroke-linecap:butt;stroke-linejoin:miter;stroke-opacity:1\"/>\n",
       "<path class=\"bond-1 atom-1 atom-2\" d=\"M 84.5,412.7 L 89.9,422.6\" style=\"fill:none;fill-rule:evenodd;stroke:#0000FF;stroke-width:2.0px;stroke-linecap:butt;stroke-linejoin:miter;stroke-opacity:1\"/>\n",
       "<path class=\"bond-2 atom-2 atom-3\" d=\"M 96.5,427.5 L 108.6,427.8\" style=\"fill:none;fill-rule:evenodd;stroke:#0000FF;stroke-width:2.0px;stroke-linecap:butt;stroke-linejoin:miter;stroke-opacity:1\"/>\n",
       "<path class=\"bond-2 atom-2 atom-3\" d=\"M 108.6,427.8 L 120.6,428.0\" style=\"fill:none;fill-rule:evenodd;stroke:#000000;stroke-width:2.0px;stroke-linecap:butt;stroke-linejoin:miter;stroke-opacity:1\"/>\n",
       "<path class=\"bond-3 atom-3 atom-4\" d=\"M 121.8,430.1 L 127.8,420.2\" style=\"fill:none;fill-rule:evenodd;stroke:#000000;stroke-width:2.0px;stroke-linecap:butt;stroke-linejoin:miter;stroke-opacity:1\"/>\n",
       "<path class=\"bond-3 atom-3 atom-4\" d=\"M 127.8,420.2 L 133.9,410.2\" style=\"fill:none;fill-rule:evenodd;stroke:#FF0000;stroke-width:2.0px;stroke-linecap:butt;stroke-linejoin:miter;stroke-opacity:1\"/>\n",
       "<path class=\"bond-3 atom-3 atom-4\" d=\"M 118.2,428.0 L 124.2,418.0\" style=\"fill:none;fill-rule:evenodd;stroke:#000000;stroke-width:2.0px;stroke-linecap:butt;stroke-linejoin:miter;stroke-opacity:1\"/>\n",
       "<path class=\"bond-3 atom-3 atom-4\" d=\"M 124.2,418.0 L 130.3,408.0\" style=\"fill:none;fill-rule:evenodd;stroke:#FF0000;stroke-width:2.0px;stroke-linecap:butt;stroke-linejoin:miter;stroke-opacity:1\"/>\n",
       "<path class=\"bond-4 atom-3 atom-5\" d=\"M 120.6,428.0 L 134.2,452.6\" style=\"fill:none;fill-rule:evenodd;stroke:#000000;stroke-width:2.0px;stroke-linecap:butt;stroke-linejoin:miter;stroke-opacity:1\"/>\n",
       "<path class=\"bond-5 atom-5 atom-6\" d=\"M 134.2,452.6 L 162.2,453.1\" style=\"fill:none;fill-rule:evenodd;stroke:#000000;stroke-width:2.0px;stroke-linecap:butt;stroke-linejoin:miter;stroke-opacity:1\"/>\n",
       "<path class=\"bond-6 atom-6 atom-7\" d=\"M 162.2,453.1 L 175.7,477.7\" style=\"fill:none;fill-rule:evenodd;stroke:#000000;stroke-width:2.0px;stroke-linecap:butt;stroke-linejoin:miter;stroke-opacity:1\"/>\n",
       "<path class=\"bond-6 atom-6 atom-7\" d=\"M 167.0,453.2 L 178.2,473.5\" style=\"fill:none;fill-rule:evenodd;stroke:#000000;stroke-width:2.0px;stroke-linecap:butt;stroke-linejoin:miter;stroke-opacity:1\"/>\n",
       "<path class=\"bond-7 atom-7 atom-8\" d=\"M 175.7,477.7 L 203.7,478.3\" style=\"fill:none;fill-rule:evenodd;stroke:#000000;stroke-width:2.0px;stroke-linecap:butt;stroke-linejoin:miter;stroke-opacity:1\"/>\n",
       "<path class=\"bond-8 atom-8 atom-9\" d=\"M 203.7,478.3 L 218.3,454.3\" style=\"fill:none;fill-rule:evenodd;stroke:#000000;stroke-width:2.0px;stroke-linecap:butt;stroke-linejoin:miter;stroke-opacity:1\"/>\n",
       "<path class=\"bond-8 atom-8 atom-9\" d=\"M 201.4,474.0 L 213.4,454.2\" style=\"fill:none;fill-rule:evenodd;stroke:#000000;stroke-width:2.0px;stroke-linecap:butt;stroke-linejoin:miter;stroke-opacity:1\"/>\n",
       "<path class=\"bond-9 atom-9 atom-10\" d=\"M 218.3,454.3 L 230.5,454.5\" style=\"fill:none;fill-rule:evenodd;stroke:#000000;stroke-width:2.0px;stroke-linecap:butt;stroke-linejoin:miter;stroke-opacity:1\"/>\n",
       "<path class=\"bond-9 atom-9 atom-10\" d=\"M 230.5,454.5 L 242.8,454.8\" style=\"fill:none;fill-rule:evenodd;stroke:#CCCC00;stroke-width:2.0px;stroke-linecap:butt;stroke-linejoin:miter;stroke-opacity:1\"/>\n",
       "<path class=\"bond-10 atom-10 atom-11\" d=\"M 249.1,459.9 L 254.5,469.7\" style=\"fill:none;fill-rule:evenodd;stroke:#CCCC00;stroke-width:2.0px;stroke-linecap:butt;stroke-linejoin:miter;stroke-opacity:1\"/>\n",
       "<path class=\"bond-10 atom-10 atom-11\" d=\"M 254.5,469.7 L 259.8,479.4\" style=\"fill:none;fill-rule:evenodd;stroke:#000000;stroke-width:2.0px;stroke-linecap:butt;stroke-linejoin:miter;stroke-opacity:1\"/>\n",
       "<path class=\"bond-11 atom-10 atom-12\" d=\"M 251.0,451.0 L 255.3,444.0\" style=\"fill:none;fill-rule:evenodd;stroke:#CCCC00;stroke-width:2.0px;stroke-linecap:butt;stroke-linejoin:miter;stroke-opacity:1\"/>\n",
       "<path class=\"bond-11 atom-10 atom-12\" d=\"M 255.3,444.0 L 259.5,437.0\" style=\"fill:none;fill-rule:evenodd;stroke:#FF0000;stroke-width:2.0px;stroke-linecap:butt;stroke-linejoin:miter;stroke-opacity:1\"/>\n",
       "<path class=\"bond-11 atom-10 atom-12\" d=\"M 247.4,448.9 L 251.7,441.8\" style=\"fill:none;fill-rule:evenodd;stroke:#CCCC00;stroke-width:2.0px;stroke-linecap:butt;stroke-linejoin:miter;stroke-opacity:1\"/>\n",
       "<path class=\"bond-11 atom-10 atom-12\" d=\"M 251.7,441.8 L 255.9,434.8\" style=\"fill:none;fill-rule:evenodd;stroke:#FF0000;stroke-width:2.0px;stroke-linecap:butt;stroke-linejoin:miter;stroke-opacity:1\"/>\n",
       "<path class=\"bond-12 atom-9 atom-13\" d=\"M 218.3,454.3 L 204.7,429.7\" style=\"fill:none;fill-rule:evenodd;stroke:#000000;stroke-width:2.0px;stroke-linecap:butt;stroke-linejoin:miter;stroke-opacity:1\"/>\n",
       "<path class=\"bond-13 atom-13 atom-14\" d=\"M 204.7,429.7 L 176.7,429.1\" style=\"fill:none;fill-rule:evenodd;stroke:#000000;stroke-width:2.0px;stroke-linecap:butt;stroke-linejoin:miter;stroke-opacity:1\"/>\n",
       "<path class=\"bond-13 atom-13 atom-14\" d=\"M 202.2,433.9 L 179.0,433.4\" style=\"fill:none;fill-rule:evenodd;stroke:#000000;stroke-width:2.0px;stroke-linecap:butt;stroke-linejoin:miter;stroke-opacity:1\"/>\n",
       "<path class=\"bond-14 atom-2 atom-15\" d=\"M 89.6,432.3 L 83.9,441.9\" style=\"fill:none;fill-rule:evenodd;stroke:#0000FF;stroke-width:2.0px;stroke-linecap:butt;stroke-linejoin:miter;stroke-opacity:1\"/>\n",
       "<path class=\"bond-14 atom-2 atom-15\" d=\"M 83.9,441.9 L 78.1,451.4\" style=\"fill:none;fill-rule:evenodd;stroke:#000000;stroke-width:2.0px;stroke-linecap:butt;stroke-linejoin:miter;stroke-opacity:1\"/>\n",
       "<path class=\"bond-15 atom-15 atom-16\" d=\"M 78.1,451.4 L 50.1,450.9\" style=\"fill:none;fill-rule:evenodd;stroke:#000000;stroke-width:2.0px;stroke-linecap:butt;stroke-linejoin:miter;stroke-opacity:1\"/>\n",
       "<path class=\"bond-15 atom-15 atom-16\" d=\"M 75.6,455.6 L 52.4,455.1\" style=\"fill:none;fill-rule:evenodd;stroke:#000000;stroke-width:2.0px;stroke-linecap:butt;stroke-linejoin:miter;stroke-opacity:1\"/>\n",
       "<path class=\"bond-16 atom-16 atom-17\" d=\"M 50.1,450.9 L 35.6,474.9\" style=\"fill:none;fill-rule:evenodd;stroke:#000000;stroke-width:2.0px;stroke-linecap:butt;stroke-linejoin:miter;stroke-opacity:1\"/>\n",
       "<path class=\"bond-17 atom-17 atom-18\" d=\"M 35.6,474.9 L 49.1,499.4\" style=\"fill:none;fill-rule:evenodd;stroke:#000000;stroke-width:2.0px;stroke-linecap:butt;stroke-linejoin:miter;stroke-opacity:1\"/>\n",
       "<path class=\"bond-17 atom-17 atom-18\" d=\"M 40.4,475.0 L 51.6,495.3\" style=\"fill:none;fill-rule:evenodd;stroke:#000000;stroke-width:2.0px;stroke-linecap:butt;stroke-linejoin:miter;stroke-opacity:1\"/>\n",
       "<path class=\"bond-18 atom-18 atom-19\" d=\"M 49.1,499.4 L 77.1,500.0\" style=\"fill:none;fill-rule:evenodd;stroke:#000000;stroke-width:2.0px;stroke-linecap:butt;stroke-linejoin:miter;stroke-opacity:1\"/>\n",
       "<path class=\"bond-19 atom-19 atom-20\" d=\"M 77.1,500.0 L 82.9,490.4\" style=\"fill:none;fill-rule:evenodd;stroke:#000000;stroke-width:2.0px;stroke-linecap:butt;stroke-linejoin:miter;stroke-opacity:1\"/>\n",
       "<path class=\"bond-19 atom-19 atom-20\" d=\"M 82.9,490.4 L 88.7,480.9\" style=\"fill:none;fill-rule:evenodd;stroke:#0000FF;stroke-width:2.0px;stroke-linecap:butt;stroke-linejoin:miter;stroke-opacity:1\"/>\n",
       "<path class=\"bond-19 atom-19 atom-20\" d=\"M 74.8,495.7 L 79.9,487.2\" style=\"fill:none;fill-rule:evenodd;stroke:#000000;stroke-width:2.0px;stroke-linecap:butt;stroke-linejoin:miter;stroke-opacity:1\"/>\n",
       "<path class=\"bond-19 atom-19 atom-20\" d=\"M 79.9,487.2 L 85.1,478.7\" style=\"fill:none;fill-rule:evenodd;stroke:#0000FF;stroke-width:2.0px;stroke-linecap:butt;stroke-linejoin:miter;stroke-opacity:1\"/>\n",
       "<path class=\"bond-20 atom-14 atom-6\" d=\"M 176.7,429.1 L 162.2,453.1\" style=\"fill:none;fill-rule:evenodd;stroke:#000000;stroke-width:2.0px;stroke-linecap:butt;stroke-linejoin:miter;stroke-opacity:1\"/>\n",
       "<path class=\"bond-21 atom-20 atom-15\" d=\"M 88.9,471.1 L 83.5,461.3\" style=\"fill:none;fill-rule:evenodd;stroke:#0000FF;stroke-width:2.0px;stroke-linecap:butt;stroke-linejoin:miter;stroke-opacity:1\"/>\n",
       "<path class=\"bond-21 atom-20 atom-15\" d=\"M 83.5,461.3 L 78.1,451.4\" style=\"fill:none;fill-rule:evenodd;stroke:#000000;stroke-width:2.0px;stroke-linecap:butt;stroke-linejoin:miter;stroke-opacity:1\"/>\n",
       "<path d=\"M 77.7,402.9 L 79.1,402.9 L 79.3,403.4\" style=\"fill:none;stroke:#000000;stroke-width:2.0px;stroke-linecap:butt;stroke-linejoin:miter;stroke-miterlimit:10;stroke-opacity:1;\"/>\n",
       "<path d=\"M 120.0,428.0 L 120.6,428.0 L 121.3,429.2\" style=\"fill:none;stroke:#000000;stroke-width:2.0px;stroke-linecap:butt;stroke-linejoin:miter;stroke-miterlimit:10;stroke-opacity:1;\"/>\n",
       "<path d=\"M 133.5,451.3 L 134.2,452.6 L 135.6,452.6\" style=\"fill:none;stroke:#000000;stroke-width:2.0px;stroke-linecap:butt;stroke-linejoin:miter;stroke-miterlimit:10;stroke-opacity:1;\"/>\n",
       "<path d=\"M 175.0,476.5 L 175.7,477.7 L 177.1,477.7\" style=\"fill:none;stroke:#000000;stroke-width:2.0px;stroke-linecap:butt;stroke-linejoin:miter;stroke-miterlimit:10;stroke-opacity:1;\"/>\n",
       "<path d=\"M 202.3,478.2 L 203.7,478.3 L 204.5,477.1\" style=\"fill:none;stroke:#000000;stroke-width:2.0px;stroke-linecap:butt;stroke-linejoin:miter;stroke-miterlimit:10;stroke-opacity:1;\"/>\n",
       "<path d=\"M 205.4,430.9 L 204.7,429.7 L 203.3,429.7\" style=\"fill:none;stroke:#000000;stroke-width:2.0px;stroke-linecap:butt;stroke-linejoin:miter;stroke-miterlimit:10;stroke-opacity:1;\"/>\n",
       "<path d=\"M 178.1,429.2 L 176.7,429.1 L 176.0,430.3\" style=\"fill:none;stroke:#000000;stroke-width:2.0px;stroke-linecap:butt;stroke-linejoin:miter;stroke-miterlimit:10;stroke-opacity:1;\"/>\n",
       "<path d=\"M 51.5,450.9 L 50.1,450.9 L 49.3,452.1\" style=\"fill:none;stroke:#000000;stroke-width:2.0px;stroke-linecap:butt;stroke-linejoin:miter;stroke-miterlimit:10;stroke-opacity:1;\"/>\n",
       "<path d=\"M 36.3,473.7 L 35.6,474.9 L 36.2,476.1\" style=\"fill:none;stroke:#000000;stroke-width:2.0px;stroke-linecap:butt;stroke-linejoin:miter;stroke-miterlimit:10;stroke-opacity:1;\"/>\n",
       "<path d=\"M 48.4,498.2 L 49.1,499.4 L 50.5,499.5\" style=\"fill:none;stroke:#000000;stroke-width:2.0px;stroke-linecap:butt;stroke-linejoin:miter;stroke-miterlimit:10;stroke-opacity:1;\"/>\n",
       "<path d=\"M 75.7,500.0 L 77.1,500.0 L 77.4,499.5\" style=\"fill:none;stroke:#000000;stroke-width:2.0px;stroke-linecap:butt;stroke-linejoin:miter;stroke-miterlimit:10;stroke-opacity:1;\"/>\n",
       "<path class=\"atom-2\" d=\"M 90.9 423.5 L 93.5 427.7 Q 93.7 428.1, 94.1 428.9 Q 94.5 429.6, 94.6 429.6 L 94.6 423.5 L 95.6 423.5 L 95.6 431.4 L 94.5 431.4 L 91.7 426.8 Q 91.4 426.3, 91.1 425.7 Q 90.7 425.1, 90.6 424.9 L 90.6 431.4 L 89.6 431.4 L 89.6 423.5 L 90.9 423.5 \" fill=\"#0000FF\"/>\n",
       "<path class=\"atom-4\" d=\"M 131.5 404.0 Q 131.5 402.1, 132.4 401.1 Q 133.4 400.0, 135.1 400.0 Q 136.9 400.0, 137.8 401.1 Q 138.8 402.1, 138.8 404.0 Q 138.8 406.0, 137.8 407.1 Q 136.9 408.2, 135.1 408.2 Q 133.4 408.2, 132.4 407.1 Q 131.5 406.0, 131.5 404.0 M 135.1 407.3 Q 136.4 407.3, 137.0 406.5 Q 137.7 405.6, 137.7 404.0 Q 137.7 402.5, 137.0 401.7 Q 136.4 400.9, 135.1 400.9 Q 133.9 400.9, 133.3 401.7 Q 132.6 402.5, 132.6 404.0 Q 132.6 405.6, 133.3 406.5 Q 133.9 407.3, 135.1 407.3 \" fill=\"#FF0000\"/>\n",
       "<path class=\"atom-10\" d=\"M 244.0 457.6 Q 244.1 457.6, 244.5 457.7 Q 244.9 457.9, 245.3 458.0 Q 245.7 458.1, 246.1 458.1 Q 246.8 458.1, 247.3 457.7 Q 247.7 457.4, 247.7 456.7 Q 247.7 456.3, 247.5 456.0 Q 247.3 455.7, 246.9 455.6 Q 246.6 455.5, 246.0 455.3 Q 245.3 455.1, 244.9 454.9 Q 244.5 454.7, 244.2 454.2 Q 243.9 453.8, 243.9 453.1 Q 243.9 452.1, 244.6 451.5 Q 245.3 450.9, 246.6 450.9 Q 247.5 450.9, 248.6 451.3 L 248.3 452.2 Q 247.4 451.8, 246.6 451.8 Q 245.9 451.8, 245.4 452.1 Q 245.0 452.4, 245.0 453.0 Q 245.0 453.4, 245.2 453.7 Q 245.5 453.9, 245.8 454.1 Q 246.1 454.2, 246.6 454.4 Q 247.4 454.6, 247.8 454.8 Q 248.2 455.0, 248.5 455.5 Q 248.8 456.0, 248.8 456.7 Q 248.8 457.8, 248.1 458.4 Q 247.4 459.0, 246.1 459.0 Q 245.4 459.0, 244.9 458.8 Q 244.4 458.7, 243.7 458.4 L 244.0 457.6 \" fill=\"#CCCC00\"/>\n",
       "<path class=\"atom-12\" d=\"M 257.1 430.9 Q 257.1 429.0, 258.1 427.9 Q 259.0 426.8, 260.8 426.8 Q 262.5 426.8, 263.5 427.9 Q 264.4 429.0, 264.4 430.9 Q 264.4 432.8, 263.5 433.9 Q 262.5 435.0, 260.8 435.0 Q 259.0 435.0, 258.1 433.9 Q 257.1 432.8, 257.1 430.9 M 260.8 434.1 Q 262.0 434.1, 262.6 433.3 Q 263.3 432.5, 263.3 430.9 Q 263.3 429.3, 262.6 428.5 Q 262.0 427.7, 260.8 427.7 Q 259.6 427.7, 258.9 428.5 Q 258.3 429.3, 258.3 430.9 Q 258.3 432.5, 258.9 433.3 Q 259.6 434.1, 260.8 434.1 \" fill=\"#FF0000\"/>\n",
       "<path class=\"atom-20\" d=\"M 89.9 472.0 L 92.5 476.2 Q 92.7 476.7, 93.1 477.4 Q 93.6 478.2, 93.6 478.2 L 93.6 472.0 L 94.6 472.0 L 94.6 480.0 L 93.6 480.0 L 90.8 475.4 Q 90.4 474.8, 90.1 474.2 Q 89.7 473.6, 89.6 473.4 L 89.6 480.0 L 88.6 480.0 L 88.6 472.0 L 89.9 472.0 \" fill=\"#0000FF\"/>\n",
       "<path class=\"bond-0 atom-0 atom-1\" d=\"M 490.7,397.5 L 506.5,420.6\" style=\"fill:none;fill-rule:evenodd;stroke:#000000;stroke-width:2.0px;stroke-linecap:butt;stroke-linejoin:miter;stroke-opacity:1\"/>\n",
       "<path class=\"bond-1 atom-1 atom-2\" d=\"M 506.5,420.6 L 534.5,418.5\" style=\"fill:none;fill-rule:evenodd;stroke:#000000;stroke-width:2.0px;stroke-linecap:butt;stroke-linejoin:miter;stroke-opacity:1\"/>\n",
       "<path class=\"bond-2 atom-2 atom-3\" d=\"M 534.5,418.5 L 550.3,441.7\" style=\"fill:none;fill-rule:evenodd;stroke:#000000;stroke-width:2.0px;stroke-linecap:butt;stroke-linejoin:miter;stroke-opacity:1\"/>\n",
       "<path class=\"bond-3 atom-3 atom-4\" d=\"M 550.3,441.7 L 538.1,466.9\" style=\"fill:none;fill-rule:evenodd;stroke:#000000;stroke-width:2.0px;stroke-linecap:butt;stroke-linejoin:miter;stroke-opacity:1\"/>\n",
       "<path class=\"bond-4 atom-4 atom-5\" d=\"M 538.1,466.9 L 510.2,469.1\" style=\"fill:none;fill-rule:evenodd;stroke:#000000;stroke-width:2.0px;stroke-linecap:butt;stroke-linejoin:miter;stroke-opacity:1\"/>\n",
       "<path class=\"bond-5 atom-5 atom-6\" d=\"M 510.2,469.1 L 503.9,459.9\" style=\"fill:none;fill-rule:evenodd;stroke:#000000;stroke-width:2.0px;stroke-linecap:butt;stroke-linejoin:miter;stroke-opacity:1\"/>\n",
       "<path class=\"bond-5 atom-5 atom-6\" d=\"M 503.9,459.9 L 497.7,450.8\" style=\"fill:none;fill-rule:evenodd;stroke:#0000FF;stroke-width:2.0px;stroke-linecap:butt;stroke-linejoin:miter;stroke-opacity:1\"/>\n",
       "<path class=\"bond-6 atom-6 atom-7\" d=\"M 490.4,446.2 L 480.2,447.0\" style=\"fill:none;fill-rule:evenodd;stroke:#0000FF;stroke-width:2.0px;stroke-linecap:butt;stroke-linejoin:miter;stroke-opacity:1\"/>\n",
       "<path class=\"bond-6 atom-6 atom-7\" d=\"M 480.2,447.0 L 469.9,447.8\" style=\"fill:none;fill-rule:evenodd;stroke:#CCCC00;stroke-width:2.0px;stroke-linecap:butt;stroke-linejoin:miter;stroke-opacity:1\"/>\n",
       "<path class=\"bond-7 atom-7 atom-8\" d=\"M 464.7,453.3 L 465.4,462.2\" style=\"fill:none;fill-rule:evenodd;stroke:#CCCC00;stroke-width:2.0px;stroke-linecap:butt;stroke-linejoin:miter;stroke-opacity:1\"/>\n",
       "<path class=\"bond-7 atom-7 atom-8\" d=\"M 465.4,462.2 L 466.0,471.2\" style=\"fill:none;fill-rule:evenodd;stroke:#FF0000;stroke-width:2.0px;stroke-linecap:butt;stroke-linejoin:miter;stroke-opacity:1\"/>\n",
       "<path class=\"bond-7 atom-7 atom-8\" d=\"M 468.9,453.0 L 469.6,461.9\" style=\"fill:none;fill-rule:evenodd;stroke:#CCCC00;stroke-width:2.0px;stroke-linecap:butt;stroke-linejoin:miter;stroke-opacity:1\"/>\n",
       "<path class=\"bond-7 atom-7 atom-8\" d=\"M 469.6,461.9 L 470.2,470.9\" style=\"fill:none;fill-rule:evenodd;stroke:#FF0000;stroke-width:2.0px;stroke-linecap:butt;stroke-linejoin:miter;stroke-opacity:1\"/>\n",
       "<path class=\"bond-8 atom-7 atom-9\" d=\"M 468.1,443.0 L 467.5,434.0\" style=\"fill:none;fill-rule:evenodd;stroke:#CCCC00;stroke-width:2.0px;stroke-linecap:butt;stroke-linejoin:miter;stroke-opacity:1\"/>\n",
       "<path class=\"bond-8 atom-7 atom-9\" d=\"M 467.5,434.0 L 466.8,425.0\" style=\"fill:none;fill-rule:evenodd;stroke:#FF0000;stroke-width:2.0px;stroke-linecap:butt;stroke-linejoin:miter;stroke-opacity:1\"/>\n",
       "<path class=\"bond-8 atom-7 atom-9\" d=\"M 463.9,443.3 L 463.3,434.3\" style=\"fill:none;fill-rule:evenodd;stroke:#CCCC00;stroke-width:2.0px;stroke-linecap:butt;stroke-linejoin:miter;stroke-opacity:1\"/>\n",
       "<path class=\"bond-8 atom-7 atom-9\" d=\"M 463.3,434.3 L 462.6,425.3\" style=\"fill:none;fill-rule:evenodd;stroke:#FF0000;stroke-width:2.0px;stroke-linecap:butt;stroke-linejoin:miter;stroke-opacity:1\"/>\n",
       "<path class=\"bond-9 atom-7 atom-10\" d=\"M 462.9,448.3 L 450.7,449.2\" style=\"fill:none;fill-rule:evenodd;stroke:#CCCC00;stroke-width:2.0px;stroke-linecap:butt;stroke-linejoin:miter;stroke-opacity:1\"/>\n",
       "<path class=\"bond-9 atom-7 atom-10\" d=\"M 450.7,449.2 L 438.4,450.1\" style=\"fill:none;fill-rule:evenodd;stroke:#000000;stroke-width:2.0px;stroke-linecap:butt;stroke-linejoin:miter;stroke-opacity:1\"/>\n",
       "<path class=\"bond-10 atom-10 atom-11\" d=\"M 438.4,450.1 L 422.6,427.0\" style=\"fill:none;fill-rule:evenodd;stroke:#000000;stroke-width:2.0px;stroke-linecap:butt;stroke-linejoin:miter;stroke-opacity:1\"/>\n",
       "<path class=\"bond-10 atom-10 atom-11\" d=\"M 433.6,450.5 L 420.5,431.4\" style=\"fill:none;fill-rule:evenodd;stroke:#000000;stroke-width:2.0px;stroke-linecap:butt;stroke-linejoin:miter;stroke-opacity:1\"/>\n",
       "<path class=\"bond-11 atom-11 atom-12\" d=\"M 422.6,427.0 L 394.7,429.1\" style=\"fill:none;fill-rule:evenodd;stroke:#000000;stroke-width:2.0px;stroke-linecap:butt;stroke-linejoin:miter;stroke-opacity:1\"/>\n",
       "<path class=\"bond-12 atom-12 atom-13\" d=\"M 394.7,429.1 L 382.5,454.4\" style=\"fill:none;fill-rule:evenodd;stroke:#000000;stroke-width:2.0px;stroke-linecap:butt;stroke-linejoin:miter;stroke-opacity:1\"/>\n",
       "<path class=\"bond-12 atom-12 atom-13\" d=\"M 397.4,433.1 L 387.4,454.0\" style=\"fill:none;fill-rule:evenodd;stroke:#000000;stroke-width:2.0px;stroke-linecap:butt;stroke-linejoin:miter;stroke-opacity:1\"/>\n",
       "<path class=\"bond-13 atom-13 atom-14\" d=\"M 382.5,454.4 L 398.3,477.5\" style=\"fill:none;fill-rule:evenodd;stroke:#000000;stroke-width:2.0px;stroke-linecap:butt;stroke-linejoin:miter;stroke-opacity:1\"/>\n",
       "<path class=\"bond-14 atom-14 atom-15\" d=\"M 398.3,477.5 L 426.3,475.4\" style=\"fill:none;fill-rule:evenodd;stroke:#000000;stroke-width:2.0px;stroke-linecap:butt;stroke-linejoin:miter;stroke-opacity:1\"/>\n",
       "<path class=\"bond-14 atom-14 atom-15\" d=\"M 400.4,473.1 L 423.6,471.4\" style=\"fill:none;fill-rule:evenodd;stroke:#000000;stroke-width:2.0px;stroke-linecap:butt;stroke-linejoin:miter;stroke-opacity:1\"/>\n",
       "<path class=\"bond-15 atom-15 atom-16\" d=\"M 426.3,475.4 L 432.5,484.5\" style=\"fill:none;fill-rule:evenodd;stroke:#000000;stroke-width:2.0px;stroke-linecap:butt;stroke-linejoin:miter;stroke-opacity:1\"/>\n",
       "<path class=\"bond-15 atom-15 atom-16\" d=\"M 432.5,484.5 L 438.8,493.7\" style=\"fill:none;fill-rule:evenodd;stroke:#7F4C19;stroke-width:2.0px;stroke-linecap:butt;stroke-linejoin:miter;stroke-opacity:1\"/>\n",
       "<path class=\"bond-16 atom-13 atom-17\" d=\"M 382.5,454.4 L 370.9,452.8\" style=\"fill:none;fill-rule:evenodd;stroke:#000000;stroke-width:2.0px;stroke-linecap:butt;stroke-linejoin:miter;stroke-opacity:1\"/>\n",
       "<path class=\"bond-16 atom-13 atom-17\" d=\"M 370.9,452.8 L 359.3,451.2\" style=\"fill:none;fill-rule:evenodd;stroke:#FF0000;stroke-width:2.0px;stroke-linecap:butt;stroke-linejoin:miter;stroke-opacity:1\"/>\n",
       "<path class=\"bond-17 atom-17 atom-18\" d=\"M 353.9,445.7 L 351.8,434.4\" style=\"fill:none;fill-rule:evenodd;stroke:#FF0000;stroke-width:2.0px;stroke-linecap:butt;stroke-linejoin:miter;stroke-opacity:1\"/>\n",
       "<path class=\"bond-17 atom-17 atom-18\" d=\"M 351.8,434.4 L 349.7,423.0\" style=\"fill:none;fill-rule:evenodd;stroke:#000000;stroke-width:2.0px;stroke-linecap:butt;stroke-linejoin:miter;stroke-opacity:1\"/>\n",
       "<path class=\"bond-18 atom-18 atom-19\" d=\"M 349.7,423.0 L 359.8,417.6\" style=\"fill:none;fill-rule:evenodd;stroke:#000000;stroke-width:2.0px;stroke-linecap:butt;stroke-linejoin:miter;stroke-opacity:1\"/>\n",
       "<path class=\"bond-18 atom-18 atom-19\" d=\"M 359.8,417.6 L 369.8,412.2\" style=\"fill:none;fill-rule:evenodd;stroke:#FF0000;stroke-width:2.0px;stroke-linecap:butt;stroke-linejoin:miter;stroke-opacity:1\"/>\n",
       "<path class=\"bond-19 atom-6 atom-1\" d=\"M 496.7,441.0 L 501.6,430.8\" style=\"fill:none;fill-rule:evenodd;stroke:#0000FF;stroke-width:2.0px;stroke-linecap:butt;stroke-linejoin:miter;stroke-opacity:1\"/>\n",
       "<path class=\"bond-19 atom-6 atom-1\" d=\"M 501.6,430.8 L 506.5,420.6\" style=\"fill:none;fill-rule:evenodd;stroke:#000000;stroke-width:2.0px;stroke-linecap:butt;stroke-linejoin:miter;stroke-opacity:1\"/>\n",
       "<path class=\"bond-20 atom-15 atom-10\" d=\"M 426.3,475.4 L 438.4,450.1\" style=\"fill:none;fill-rule:evenodd;stroke:#000000;stroke-width:2.0px;stroke-linecap:butt;stroke-linejoin:miter;stroke-opacity:1\"/>\n",
       "<path class=\"bond-21 atom-19 atom-12\" d=\"M 379.0,414.1 L 386.8,421.6\" style=\"fill:none;fill-rule:evenodd;stroke:#FF0000;stroke-width:2.0px;stroke-linecap:butt;stroke-linejoin:miter;stroke-opacity:1\"/>\n",
       "<path class=\"bond-21 atom-19 atom-12\" d=\"M 386.8,421.6 L 394.7,429.1\" style=\"fill:none;fill-rule:evenodd;stroke:#000000;stroke-width:2.0px;stroke-linecap:butt;stroke-linejoin:miter;stroke-opacity:1\"/>\n",
       "<path d=\"M 533.1,418.6 L 534.5,418.5 L 535.3,419.7\" style=\"fill:none;stroke:#000000;stroke-width:2.0px;stroke-linecap:butt;stroke-linejoin:miter;stroke-miterlimit:10;stroke-opacity:1;\"/>\n",
       "<path d=\"M 549.5,440.5 L 550.3,441.7 L 549.7,442.9\" style=\"fill:none;stroke:#000000;stroke-width:2.0px;stroke-linecap:butt;stroke-linejoin:miter;stroke-miterlimit:10;stroke-opacity:1;\"/>\n",
       "<path d=\"M 538.7,465.7 L 538.1,466.9 L 536.7,467.0\" style=\"fill:none;stroke:#000000;stroke-width:2.0px;stroke-linecap:butt;stroke-linejoin:miter;stroke-miterlimit:10;stroke-opacity:1;\"/>\n",
       "<path d=\"M 511.6,468.9 L 510.2,469.1 L 509.9,468.6\" style=\"fill:none;stroke:#000000;stroke-width:2.0px;stroke-linecap:butt;stroke-linejoin:miter;stroke-miterlimit:10;stroke-opacity:1;\"/>\n",
       "<path d=\"M 423.4,428.1 L 422.6,427.0 L 421.2,427.1\" style=\"fill:none;stroke:#000000;stroke-width:2.0px;stroke-linecap:butt;stroke-linejoin:miter;stroke-miterlimit:10;stroke-opacity:1;\"/>\n",
       "<path d=\"M 397.6,476.4 L 398.3,477.5 L 399.7,477.4\" style=\"fill:none;stroke:#000000;stroke-width:2.0px;stroke-linecap:butt;stroke-linejoin:miter;stroke-miterlimit:10;stroke-opacity:1;\"/>\n",
       "<path d=\"M 349.8,423.6 L 349.7,423.0 L 350.2,422.8\" style=\"fill:none;stroke:#000000;stroke-width:2.0px;stroke-linecap:butt;stroke-linejoin:miter;stroke-miterlimit:10;stroke-opacity:1;\"/>\n",
       "<path class=\"atom-6\" d=\"M 492.6 441.9 L 495.2 446.1 Q 495.5 446.6, 495.9 447.3 Q 496.3 448.1, 496.3 448.1 L 496.3 441.9 L 497.4 441.9 L 497.4 449.9 L 496.3 449.9 L 493.5 445.3 Q 493.2 444.7, 492.8 444.1 Q 492.5 443.5, 492.4 443.3 L 492.4 449.9 L 491.4 449.9 L 491.4 441.9 L 492.6 441.9 \" fill=\"#0000FF\"/>\n",
       "<path class=\"atom-7\" d=\"M 464.2 450.7 Q 464.3 450.8, 464.6 450.9 Q 465.0 451.1, 465.4 451.2 Q 465.8 451.3, 466.2 451.3 Q 467.0 451.3, 467.4 450.9 Q 467.8 450.5, 467.8 449.9 Q 467.8 449.5, 467.6 449.2 Q 467.4 448.9, 467.1 448.8 Q 466.7 448.6, 466.2 448.5 Q 465.5 448.3, 465.0 448.1 Q 464.6 447.9, 464.3 447.4 Q 464.0 447.0, 464.0 446.3 Q 464.0 445.3, 464.7 444.7 Q 465.4 444.1, 466.7 444.1 Q 467.7 444.1, 468.7 444.5 L 468.4 445.4 Q 467.5 445.0, 466.8 445.0 Q 466.0 445.0, 465.6 445.3 Q 465.1 445.6, 465.1 446.2 Q 465.1 446.6, 465.4 446.8 Q 465.6 447.1, 465.9 447.2 Q 466.2 447.4, 466.8 447.6 Q 467.5 447.8, 467.9 448.0 Q 468.3 448.2, 468.6 448.7 Q 469.0 449.1, 469.0 449.9 Q 469.0 451.0, 468.2 451.6 Q 467.5 452.2, 466.3 452.2 Q 465.6 452.2, 465.0 452.0 Q 464.5 451.9, 463.9 451.6 L 464.2 450.7 \" fill=\"#CCCC00\"/>\n",
       "<path class=\"atom-8\" d=\"M 464.9 476.0 Q 464.9 474.1, 465.8 473.0 Q 466.8 472.0, 468.5 472.0 Q 470.3 472.0, 471.2 473.0 Q 472.2 474.1, 472.2 476.0 Q 472.2 477.9, 471.2 479.0 Q 470.3 480.1, 468.5 480.1 Q 466.8 480.1, 465.8 479.0 Q 464.9 477.9, 464.9 476.0 M 468.5 479.2 Q 469.7 479.2, 470.4 478.4 Q 471.0 477.6, 471.0 476.0 Q 471.0 474.4, 470.4 473.6 Q 469.7 472.9, 468.5 472.9 Q 467.3 472.9, 466.6 473.6 Q 466.0 474.4, 466.0 476.0 Q 466.0 477.6, 466.6 478.4 Q 467.3 479.2, 468.5 479.2 \" fill=\"#FF0000\"/>\n",
       "<path class=\"atom-9\" d=\"M 460.6 420.1 Q 460.6 418.2, 461.6 417.1 Q 462.5 416.0, 464.3 416.0 Q 466.1 416.0, 467.0 417.1 Q 467.9 418.2, 467.9 420.1 Q 467.9 422.0, 467.0 423.1 Q 466.0 424.2, 464.3 424.2 Q 462.5 424.2, 461.6 423.1 Q 460.6 422.0, 460.6 420.1 M 464.3 423.3 Q 465.5 423.3, 466.2 422.5 Q 466.8 421.7, 466.8 420.1 Q 466.8 418.5, 466.2 417.7 Q 465.5 416.9, 464.3 416.9 Q 463.1 416.9, 462.4 417.7 Q 461.8 418.5, 461.8 420.1 Q 461.8 421.7, 462.4 422.5 Q 463.1 423.3, 464.3 423.3 \" fill=\"#FF0000\"/>\n",
       "<path class=\"atom-16\" d=\"M 443.3 498.3 Q 444.0 498.6, 444.4 499.0 Q 444.8 499.5, 444.8 500.2 Q 444.8 501.3, 444.1 501.9 Q 443.4 502.5, 442.1 502.5 L 439.4 502.5 L 439.4 494.6 L 441.8 494.6 Q 443.1 494.6, 443.8 495.1 Q 444.5 495.7, 444.5 496.7 Q 444.5 497.9, 443.3 498.3 M 440.5 495.5 L 440.5 498.0 L 441.8 498.0 Q 442.5 498.0, 442.9 497.7 Q 443.4 497.3, 443.4 496.7 Q 443.4 495.5, 441.8 495.5 L 440.5 495.5 M 442.1 501.6 Q 442.9 501.6, 443.3 501.3 Q 443.7 500.9, 443.7 500.2 Q 443.7 499.5, 443.2 499.2 Q 442.8 498.9, 441.9 498.9 L 440.5 498.9 L 440.5 501.6 L 442.1 501.6 \" fill=\"#7F4C19\"/>\n",
       "<path class=\"atom-16\" d=\"M 446.6 496.8 L 446.7 497.6 Q 447.3 496.7, 448.3 496.7 Q 448.6 496.7, 449.1 496.8 L 448.9 497.7 Q 448.4 497.6, 448.1 497.6 Q 447.7 497.6, 447.4 497.8 Q 447.1 498.0, 446.8 498.4 L 446.8 502.5 L 445.8 502.5 L 445.8 496.8 L 446.6 496.8 \" fill=\"#7F4C19\"/>\n",
       "<path class=\"atom-17\" d=\"M 351.1 450.6 Q 351.1 448.7, 352.0 447.7 Q 353.0 446.6, 354.8 446.6 Q 356.5 446.6, 357.5 447.7 Q 358.4 448.7, 358.4 450.6 Q 358.4 452.6, 357.4 453.7 Q 356.5 454.8, 354.8 454.8 Q 353.0 454.8, 352.0 453.7 Q 351.1 452.6, 351.1 450.6 M 354.8 453.9 Q 356.0 453.9, 356.6 453.0 Q 357.3 452.2, 357.3 450.6 Q 357.3 449.1, 356.6 448.3 Q 356.0 447.5, 354.8 447.5 Q 353.5 447.5, 352.9 448.3 Q 352.2 449.1, 352.2 450.6 Q 352.2 452.2, 352.9 453.0 Q 353.5 453.9, 354.8 453.9 \" fill=\"#FF0000\"/>\n",
       "<path class=\"atom-19\" d=\"M 370.8 409.8 Q 370.8 407.8, 371.7 406.8 Q 372.6 405.7, 374.4 405.7 Q 376.2 405.7, 377.1 406.8 Q 378.0 407.8, 378.0 409.8 Q 378.0 411.7, 377.1 412.8 Q 376.1 413.9, 374.4 413.9 Q 372.7 413.9, 371.7 412.8 Q 370.8 411.7, 370.8 409.8 M 374.4 413.0 Q 375.6 413.0, 376.3 412.2 Q 376.9 411.3, 376.9 409.8 Q 376.9 408.2, 376.3 407.4 Q 375.6 406.6, 374.4 406.6 Q 373.2 406.6, 372.5 407.4 Q 371.9 408.2, 371.9 409.8 Q 371.9 411.4, 372.5 412.2 Q 373.2 413.0, 374.4 413.0 \" fill=\"#FF0000\"/>\n",
       "<path class=\"bond-0 atom-0 atom-1\" d=\"M 771.4,400.9 L 744.1,407.0\" style=\"fill:none;fill-rule:evenodd;stroke:#000000;stroke-width:2.0px;stroke-linecap:butt;stroke-linejoin:miter;stroke-opacity:1\"/>\n",
       "<path class=\"bond-1 atom-1 atom-2\" d=\"M 744.1,407.0 L 725.1,386.4\" style=\"fill:none;fill-rule:evenodd;stroke:#000000;stroke-width:2.0px;stroke-linecap:butt;stroke-linejoin:miter;stroke-opacity:1\"/>\n",
       "<path class=\"bond-2 atom-1 atom-3\" d=\"M 744.1,407.0 L 740.6,418.0\" style=\"fill:none;fill-rule:evenodd;stroke:#000000;stroke-width:2.0px;stroke-linecap:butt;stroke-linejoin:miter;stroke-opacity:1\"/>\n",
       "<path class=\"bond-2 atom-1 atom-3\" d=\"M 740.6,418.0 L 737.2,428.9\" style=\"fill:none;fill-rule:evenodd;stroke:#CCCC00;stroke-width:2.0px;stroke-linecap:butt;stroke-linejoin:miter;stroke-opacity:1\"/>\n",
       "<path class=\"bond-3 atom-3 atom-4\" d=\"M 732.2,434.6 L 720.3,437.2\" style=\"fill:none;fill-rule:evenodd;stroke:#CCCC00;stroke-width:2.0px;stroke-linecap:butt;stroke-linejoin:miter;stroke-opacity:1\"/>\n",
       "<path class=\"bond-3 atom-3 atom-4\" d=\"M 720.3,437.2 L 708.3,439.9\" style=\"fill:none;fill-rule:evenodd;stroke:#000000;stroke-width:2.0px;stroke-linecap:butt;stroke-linejoin:miter;stroke-opacity:1\"/>\n",
       "<path class=\"bond-4 atom-4 atom-5\" d=\"M 708.3,439.9 L 699.8,432.3\" style=\"fill:none;fill-rule:evenodd;stroke:#000000;stroke-width:2.0px;stroke-linecap:butt;stroke-linejoin:miter;stroke-opacity:1\"/>\n",
       "<path class=\"bond-4 atom-4 atom-5\" d=\"M 699.8,432.3 L 691.2,424.8\" style=\"fill:none;fill-rule:evenodd;stroke:#0000FF;stroke-width:2.0px;stroke-linecap:butt;stroke-linejoin:miter;stroke-opacity:1\"/>\n",
       "<path class=\"bond-4 atom-4 atom-5\" d=\"M 703.2,441.0 L 695.8,434.5\" style=\"fill:none;fill-rule:evenodd;stroke:#000000;stroke-width:2.0px;stroke-linecap:butt;stroke-linejoin:miter;stroke-opacity:1\"/>\n",
       "<path class=\"bond-4 atom-4 atom-5\" d=\"M 695.8,434.5 L 688.4,427.9\" style=\"fill:none;fill-rule:evenodd;stroke:#0000FF;stroke-width:2.0px;stroke-linecap:butt;stroke-linejoin:miter;stroke-opacity:1\"/>\n",
       "<path class=\"bond-5 atom-5 atom-6\" d=\"M 683.4,423.6 L 673.2,429.6\" style=\"fill:none;fill-rule:evenodd;stroke:#0000FF;stroke-width:2.0px;stroke-linecap:butt;stroke-linejoin:miter;stroke-opacity:1\"/>\n",
       "<path class=\"bond-5 atom-5 atom-6\" d=\"M 673.2,429.6 L 663.1,435.6\" style=\"fill:none;fill-rule:evenodd;stroke:#000000;stroke-width:2.0px;stroke-linecap:butt;stroke-linejoin:miter;stroke-opacity:1\"/>\n",
       "<path class=\"bond-6 atom-6 atom-7\" d=\"M 663.1,435.6 L 669.2,462.9\" style=\"fill:none;fill-rule:evenodd;stroke:#000000;stroke-width:2.0px;stroke-linecap:butt;stroke-linejoin:miter;stroke-opacity:1\"/>\n",
       "<path class=\"bond-6 atom-6 atom-7\" d=\"M 667.9,437.6 L 672.7,459.0\" style=\"fill:none;fill-rule:evenodd;stroke:#000000;stroke-width:2.0px;stroke-linecap:butt;stroke-linejoin:miter;stroke-opacity:1\"/>\n",
       "<path class=\"bond-7 atom-7 atom-8\" d=\"M 669.2,462.9 L 681.2,464.1\" style=\"fill:none;fill-rule:evenodd;stroke:#000000;stroke-width:2.0px;stroke-linecap:butt;stroke-linejoin:miter;stroke-opacity:1\"/>\n",
       "<path class=\"bond-7 atom-7 atom-8\" d=\"M 681.2,464.1 L 693.2,465.2\" style=\"fill:none;fill-rule:evenodd;stroke:#0000FF;stroke-width:2.0px;stroke-linecap:butt;stroke-linejoin:miter;stroke-opacity:1\"/>\n",
       "<path class=\"bond-8 atom-8 atom-9\" d=\"M 700.0,470.5 L 705.7,480.1\" style=\"fill:none;fill-rule:evenodd;stroke:#0000FF;stroke-width:2.0px;stroke-linecap:butt;stroke-linejoin:miter;stroke-opacity:1\"/>\n",
       "<path class=\"bond-8 atom-8 atom-9\" d=\"M 705.7,480.1 L 711.4,489.7\" style=\"fill:none;fill-rule:evenodd;stroke:#000000;stroke-width:2.0px;stroke-linecap:butt;stroke-linejoin:miter;stroke-opacity:1\"/>\n",
       "<path class=\"bond-9 atom-9 atom-10\" d=\"M 711.4,489.7 L 739.4,489.5\" style=\"fill:none;fill-rule:evenodd;stroke:#000000;stroke-width:2.0px;stroke-linecap:butt;stroke-linejoin:miter;stroke-opacity:1\"/>\n",
       "<path class=\"bond-10 atom-10 atom-11\" d=\"M 739.4,489.5 L 753.7,513.6\" style=\"fill:none;fill-rule:evenodd;stroke:#000000;stroke-width:2.0px;stroke-linecap:butt;stroke-linejoin:miter;stroke-opacity:1\"/>\n",
       "<path class=\"bond-10 atom-10 atom-11\" d=\"M 744.3,489.4 L 756.1,509.4\" style=\"fill:none;fill-rule:evenodd;stroke:#000000;stroke-width:2.0px;stroke-linecap:butt;stroke-linejoin:miter;stroke-opacity:1\"/>\n",
       "<path class=\"bond-11 atom-11 atom-12\" d=\"M 753.7,513.6 L 781.7,513.3\" style=\"fill:none;fill-rule:evenodd;stroke:#000000;stroke-width:2.0px;stroke-linecap:butt;stroke-linejoin:miter;stroke-opacity:1\"/>\n",
       "<path class=\"bond-12 atom-12 atom-13\" d=\"M 781.7,513.3 L 795.5,488.9\" style=\"fill:none;fill-rule:evenodd;stroke:#000000;stroke-width:2.0px;stroke-linecap:butt;stroke-linejoin:miter;stroke-opacity:1\"/>\n",
       "<path class=\"bond-12 atom-12 atom-13\" d=\"M 779.3,509.2 L 790.6,489.0\" style=\"fill:none;fill-rule:evenodd;stroke:#000000;stroke-width:2.0px;stroke-linecap:butt;stroke-linejoin:miter;stroke-opacity:1\"/>\n",
       "<path class=\"bond-13 atom-13 atom-14\" d=\"M 795.5,488.9 L 781.3,464.8\" style=\"fill:none;fill-rule:evenodd;stroke:#000000;stroke-width:2.0px;stroke-linecap:butt;stroke-linejoin:miter;stroke-opacity:1\"/>\n",
       "<path class=\"bond-14 atom-14 atom-15\" d=\"M 781.3,464.8 L 795.0,440.4\" style=\"fill:none;fill-rule:evenodd;stroke:#000000;stroke-width:2.0px;stroke-linecap:butt;stroke-linejoin:miter;stroke-opacity:1\"/>\n",
       "<path class=\"bond-15 atom-15 atom-16\" d=\"M 797.5,440.4 L 791.5,430.3\" style=\"fill:none;fill-rule:evenodd;stroke:#000000;stroke-width:2.0px;stroke-linecap:butt;stroke-linejoin:miter;stroke-opacity:1\"/>\n",
       "<path class=\"bond-15 atom-15 atom-16\" d=\"M 791.5,430.3 L 785.6,420.2\" style=\"fill:none;fill-rule:evenodd;stroke:#FF0000;stroke-width:2.0px;stroke-linecap:butt;stroke-linejoin:miter;stroke-opacity:1\"/>\n",
       "<path class=\"bond-15 atom-15 atom-16\" d=\"M 793.8,442.5 L 787.9,432.4\" style=\"fill:none;fill-rule:evenodd;stroke:#000000;stroke-width:2.0px;stroke-linecap:butt;stroke-linejoin:miter;stroke-opacity:1\"/>\n",
       "<path class=\"bond-15 atom-15 atom-16\" d=\"M 787.9,432.4 L 782.0,422.4\" style=\"fill:none;fill-rule:evenodd;stroke:#FF0000;stroke-width:2.0px;stroke-linecap:butt;stroke-linejoin:miter;stroke-opacity:1\"/>\n",
       "<path class=\"bond-16 atom-15 atom-17\" d=\"M 795.0,440.4 L 807.1,440.3\" style=\"fill:none;fill-rule:evenodd;stroke:#000000;stroke-width:2.0px;stroke-linecap:butt;stroke-linejoin:miter;stroke-opacity:1\"/>\n",
       "<path class=\"bond-16 atom-15 atom-17\" d=\"M 807.1,440.3 L 819.1,440.1\" style=\"fill:none;fill-rule:evenodd;stroke:#0000FF;stroke-width:2.0px;stroke-linecap:butt;stroke-linejoin:miter;stroke-opacity:1\"/>\n",
       "<path class=\"bond-17 atom-17 atom-18\" d=\"M 825.8,435.2 L 831.3,425.4\" style=\"fill:none;fill-rule:evenodd;stroke:#0000FF;stroke-width:2.0px;stroke-linecap:butt;stroke-linejoin:miter;stroke-opacity:1\"/>\n",
       "<path class=\"bond-17 atom-17 atom-18\" d=\"M 831.3,425.4 L 836.9,415.7\" style=\"fill:none;fill-rule:evenodd;stroke:#000000;stroke-width:2.0px;stroke-linecap:butt;stroke-linejoin:miter;stroke-opacity:1\"/>\n",
       "<path class=\"bond-18 atom-14 atom-19\" d=\"M 781.3,464.8 L 753.2,465.1\" style=\"fill:none;fill-rule:evenodd;stroke:#000000;stroke-width:2.0px;stroke-linecap:butt;stroke-linejoin:miter;stroke-opacity:1\"/>\n",
       "<path class=\"bond-18 atom-14 atom-19\" d=\"M 778.9,469.0 L 755.7,469.2\" style=\"fill:none;fill-rule:evenodd;stroke:#000000;stroke-width:2.0px;stroke-linecap:butt;stroke-linejoin:miter;stroke-opacity:1\"/>\n",
       "<path class=\"bond-19 atom-8 atom-4\" d=\"M 699.3,460.7 L 703.8,450.3\" style=\"fill:none;fill-rule:evenodd;stroke:#0000FF;stroke-width:2.0px;stroke-linecap:butt;stroke-linejoin:miter;stroke-opacity:1\"/>\n",
       "<path class=\"bond-19 atom-8 atom-4\" d=\"M 703.8,450.3 L 708.3,439.9\" style=\"fill:none;fill-rule:evenodd;stroke:#000000;stroke-width:2.0px;stroke-linecap:butt;stroke-linejoin:miter;stroke-opacity:1\"/>\n",
       "<path class=\"bond-20 atom-19 atom-10\" d=\"M 753.2,465.1 L 739.4,489.5\" style=\"fill:none;fill-rule:evenodd;stroke:#000000;stroke-width:2.0px;stroke-linecap:butt;stroke-linejoin:miter;stroke-opacity:1\"/>\n",
       "<path d=\"M 663.7,435.3 L 663.1,435.6 L 663.5,436.9\" style=\"fill:none;stroke:#000000;stroke-width:2.0px;stroke-linecap:butt;stroke-linejoin:miter;stroke-miterlimit:10;stroke-opacity:1;\"/>\n",
       "<path d=\"M 668.9,461.6 L 669.2,462.9 L 669.8,463.0\" style=\"fill:none;stroke:#000000;stroke-width:2.0px;stroke-linecap:butt;stroke-linejoin:miter;stroke-miterlimit:10;stroke-opacity:1;\"/>\n",
       "<path d=\"M 711.1,489.3 L 711.4,489.7 L 712.8,489.7\" style=\"fill:none;stroke:#000000;stroke-width:2.0px;stroke-linecap:butt;stroke-linejoin:miter;stroke-miterlimit:10;stroke-opacity:1;\"/>\n",
       "<path d=\"M 753.0,512.4 L 753.7,513.6 L 755.1,513.6\" style=\"fill:none;stroke:#000000;stroke-width:2.0px;stroke-linecap:butt;stroke-linejoin:miter;stroke-miterlimit:10;stroke-opacity:1;\"/>\n",
       "<path d=\"M 780.3,513.4 L 781.7,513.3 L 782.4,512.1\" style=\"fill:none;stroke:#000000;stroke-width:2.0px;stroke-linecap:butt;stroke-linejoin:miter;stroke-miterlimit:10;stroke-opacity:1;\"/>\n",
       "<path d=\"M 794.8,490.2 L 795.5,488.9 L 794.8,487.7\" style=\"fill:none;stroke:#000000;stroke-width:2.0px;stroke-linecap:butt;stroke-linejoin:miter;stroke-miterlimit:10;stroke-opacity:1;\"/>\n",
       "<path d=\"M 794.3,441.6 L 795.0,440.4 L 795.6,440.4\" style=\"fill:none;stroke:#000000;stroke-width:2.0px;stroke-linecap:butt;stroke-linejoin:miter;stroke-miterlimit:10;stroke-opacity:1;\"/>\n",
       "<path d=\"M 754.6,465.0 L 753.2,465.1 L 752.5,466.3\" style=\"fill:none;stroke:#000000;stroke-width:2.0px;stroke-linecap:butt;stroke-linejoin:miter;stroke-miterlimit:10;stroke-opacity:1;\"/>\n",
       "<path class=\"atom-3\" d=\"M 733.4 436.5 Q 733.5 436.5, 733.9 436.7 Q 734.3 436.9, 734.7 437.0 Q 735.1 437.0, 735.5 437.0 Q 736.2 437.0, 736.7 436.7 Q 737.1 436.3, 737.1 435.7 Q 737.1 435.2, 736.9 435.0 Q 736.7 434.7, 736.3 434.6 Q 736.0 434.4, 735.4 434.2 Q 734.7 434.0, 734.3 433.8 Q 733.9 433.6, 733.6 433.2 Q 733.3 432.8, 733.3 432.1 Q 733.3 431.1, 734.0 430.4 Q 734.6 429.8, 736.0 429.8 Q 736.9 429.8, 738.0 430.3 L 737.7 431.1 Q 736.7 430.7, 736.0 430.7 Q 735.3 430.7, 734.8 431.1 Q 734.4 431.4, 734.4 431.9 Q 734.4 432.3, 734.6 432.6 Q 734.9 432.9, 735.2 433.0 Q 735.5 433.2, 736.0 433.3 Q 736.7 433.5, 737.2 433.8 Q 737.6 434.0, 737.9 434.5 Q 738.2 434.9, 738.2 435.7 Q 738.2 436.8, 737.5 437.4 Q 736.7 438.0, 735.5 438.0 Q 734.8 438.0, 734.3 437.8 Q 733.8 437.7, 733.1 437.4 L 733.4 436.5 \" fill=\"#CCCC00\"/>\n",
       "<path class=\"atom-5\" d=\"M 685.5 417.3 L 688.1 421.6 Q 688.4 422.0, 688.8 422.7 Q 689.2 423.5, 689.2 423.5 L 689.2 417.3 L 690.3 417.3 L 690.3 425.3 L 689.2 425.3 L 686.4 420.7 Q 686.1 420.2, 685.7 419.5 Q 685.4 418.9, 685.3 418.7 L 685.3 425.3 L 684.3 425.3 L 684.3 417.3 L 685.5 417.3 \" fill=\"#0000FF\"/>\n",
       "<path class=\"atom-8\" d=\"M 695.4 461.6 L 698.0 465.8 Q 698.3 466.2, 698.7 467.0 Q 699.1 467.8, 699.1 467.8 L 699.1 461.6 L 700.2 461.6 L 700.2 469.6 L 699.1 469.6 L 696.3 465.0 Q 696.0 464.4, 695.6 463.8 Q 695.3 463.2, 695.2 463.0 L 695.2 469.6 L 694.1 469.6 L 694.1 461.6 L 695.4 461.6 \" fill=\"#0000FF\"/>\n",
       "<path class=\"atom-16\" d=\"M 777.1 416.3 Q 777.1 414.3, 778.1 413.3 Q 779.0 412.2, 780.8 412.2 Q 782.5 412.2, 783.5 413.3 Q 784.4 414.3, 784.4 416.3 Q 784.4 418.2, 783.5 419.3 Q 782.5 420.4, 780.8 420.4 Q 779.0 420.4, 778.1 419.3 Q 777.1 418.2, 777.1 416.3 M 780.8 419.5 Q 782.0 419.5, 782.6 418.7 Q 783.3 417.8, 783.3 416.3 Q 783.3 414.7, 782.6 413.9 Q 782.0 413.1, 780.8 413.1 Q 779.6 413.1, 778.9 413.9 Q 778.3 414.7, 778.3 416.3 Q 778.3 417.9, 778.9 418.7 Q 779.6 419.5, 780.8 419.5 \" fill=\"#FF0000\"/>\n",
       "<path class=\"atom-17\" d=\"M 821.3 436.1 L 823.9 440.3 Q 824.2 440.8, 824.6 441.5 Q 825.0 442.3, 825.0 442.3 L 825.0 436.1 L 826.1 436.1 L 826.1 444.1 L 825.0 444.1 L 822.2 439.5 Q 821.9 438.9, 821.5 438.3 Q 821.2 437.7, 821.1 437.5 L 821.1 444.1 L 820.1 444.1 L 820.1 436.1 L 821.3 436.1 \" fill=\"#0000FF\"/>\n",
       "<path class=\"atom-17\" d=\"M 827.6 436.1 L 828.7 436.1 L 828.7 439.5 L 832.8 439.5 L 832.8 436.1 L 833.8 436.1 L 833.8 444.1 L 832.8 444.1 L 832.8 440.4 L 828.7 440.4 L 828.7 444.1 L 827.6 444.1 L 827.6 436.1 \" fill=\"#0000FF\"/>\n",
       "<path class=\"bond-0 atom-0 atom-1\" d=\"M 1008.1,433.6 L 1005.2,445.2\" style=\"fill:none;fill-rule:evenodd;stroke:#FF0000;stroke-width:2.0px;stroke-linecap:butt;stroke-linejoin:miter;stroke-opacity:1\"/>\n",
       "<path class=\"bond-0 atom-0 atom-1\" d=\"M 1005.2,445.2 L 1002.2,456.9\" style=\"fill:none;fill-rule:evenodd;stroke:#000000;stroke-width:2.0px;stroke-linecap:butt;stroke-linejoin:miter;stroke-opacity:1\"/>\n",
       "<path class=\"bond-0 atom-0 atom-1\" d=\"M 1004.0,432.5 L 1001.1,444.2\" style=\"fill:none;fill-rule:evenodd;stroke:#FF0000;stroke-width:2.0px;stroke-linecap:butt;stroke-linejoin:miter;stroke-opacity:1\"/>\n",
       "<path class=\"bond-0 atom-0 atom-1\" d=\"M 1001.1,444.2 L 998.2,455.8\" style=\"fill:none;fill-rule:evenodd;stroke:#000000;stroke-width:2.0px;stroke-linecap:butt;stroke-linejoin:miter;stroke-opacity:1\"/>\n",
       "<path class=\"bond-1 atom-1 atom-2\" d=\"M 1000.5,455.2 L 1020.6,474.7\" style=\"fill:none;fill-rule:evenodd;stroke:#000000;stroke-width:2.0px;stroke-linecap:butt;stroke-linejoin:miter;stroke-opacity:1\"/>\n",
       "<path class=\"bond-2 atom-2 atom-3\" d=\"M 1020.6,474.7 L 1047.6,467.0\" style=\"fill:none;fill-rule:evenodd;stroke:#000000;stroke-width:2.0px;stroke-linecap:butt;stroke-linejoin:miter;stroke-opacity:1\"/>\n",
       "<path class=\"bond-3 atom-3 atom-4\" d=\"M 1047.6,467.0 L 1067.8,486.5\" style=\"fill:none;fill-rule:evenodd;stroke:#000000;stroke-width:2.0px;stroke-linecap:butt;stroke-linejoin:miter;stroke-opacity:1\"/>\n",
       "<path class=\"bond-3 atom-3 atom-4\" d=\"M 1052.3,465.6 L 1068.9,481.7\" style=\"fill:none;fill-rule:evenodd;stroke:#000000;stroke-width:2.0px;stroke-linecap:butt;stroke-linejoin:miter;stroke-opacity:1\"/>\n",
       "<path class=\"bond-4 atom-4 atom-5\" d=\"M 1067.8,486.5 L 1094.7,478.8\" style=\"fill:none;fill-rule:evenodd;stroke:#000000;stroke-width:2.0px;stroke-linecap:butt;stroke-linejoin:miter;stroke-opacity:1\"/>\n",
       "<path class=\"bond-5 atom-5 atom-6\" d=\"M 1094.7,478.8 L 1101.5,451.6\" style=\"fill:none;fill-rule:evenodd;stroke:#000000;stroke-width:2.0px;stroke-linecap:butt;stroke-linejoin:miter;stroke-opacity:1\"/>\n",
       "<path class=\"bond-5 atom-5 atom-6\" d=\"M 1091.2,475.4 L 1096.8,452.9\" style=\"fill:none;fill-rule:evenodd;stroke:#000000;stroke-width:2.0px;stroke-linecap:butt;stroke-linejoin:miter;stroke-opacity:1\"/>\n",
       "<path class=\"bond-6 atom-6 atom-7\" d=\"M 1101.5,451.6 L 1128.5,443.9\" style=\"fill:none;fill-rule:evenodd;stroke:#000000;stroke-width:2.0px;stroke-linecap:butt;stroke-linejoin:miter;stroke-opacity:1\"/>\n",
       "<path class=\"bond-7 atom-7 atom-8\" d=\"M 1128.5,443.9 L 1132.4,433.1\" style=\"fill:none;fill-rule:evenodd;stroke:#000000;stroke-width:2.0px;stroke-linecap:butt;stroke-linejoin:miter;stroke-opacity:1\"/>\n",
       "<path class=\"bond-7 atom-7 atom-8\" d=\"M 1132.4,433.1 L 1136.3,422.4\" style=\"fill:none;fill-rule:evenodd;stroke:#0000FF;stroke-width:2.0px;stroke-linecap:butt;stroke-linejoin:miter;stroke-opacity:1\"/>\n",
       "<path class=\"bond-7 atom-7 atom-8\" d=\"M 1133.5,442.4 L 1136.9,433.1\" style=\"fill:none;fill-rule:evenodd;stroke:#000000;stroke-width:2.0px;stroke-linecap:butt;stroke-linejoin:miter;stroke-opacity:1\"/>\n",
       "<path class=\"bond-7 atom-7 atom-8\" d=\"M 1136.9,433.1 L 1140.2,423.9\" style=\"fill:none;fill-rule:evenodd;stroke:#0000FF;stroke-width:2.0px;stroke-linecap:butt;stroke-linejoin:miter;stroke-opacity:1\"/>\n",
       "<path class=\"bond-8 atom-8 atom-9\" d=\"M 1142.0,417.7 L 1154.1,418.1\" style=\"fill:none;fill-rule:evenodd;stroke:#0000FF;stroke-width:2.0px;stroke-linecap:butt;stroke-linejoin:miter;stroke-opacity:1\"/>\n",
       "<path class=\"bond-8 atom-8 atom-9\" d=\"M 1154.1,418.1 L 1166.1,418.5\" style=\"fill:none;fill-rule:evenodd;stroke:#000000;stroke-width:2.0px;stroke-linecap:butt;stroke-linejoin:miter;stroke-opacity:1\"/>\n",
       "<path class=\"bond-9 atom-9 atom-10\" d=\"M 1166.1,418.5 L 1173.8,445.5\" style=\"fill:none;fill-rule:evenodd;stroke:#000000;stroke-width:2.0px;stroke-linecap:butt;stroke-linejoin:miter;stroke-opacity:1\"/>\n",
       "<path class=\"bond-9 atom-9 atom-10\" d=\"M 1162.9,422.6 L 1168.9,443.7\" style=\"fill:none;fill-rule:evenodd;stroke:#000000;stroke-width:2.0px;stroke-linecap:butt;stroke-linejoin:miter;stroke-opacity:1\"/>\n",
       "<path class=\"bond-10 atom-10 atom-11\" d=\"M 1173.8,445.5 L 1163.9,452.1\" style=\"fill:none;fill-rule:evenodd;stroke:#000000;stroke-width:2.0px;stroke-linecap:butt;stroke-linejoin:miter;stroke-opacity:1\"/>\n",
       "<path class=\"bond-10 atom-10 atom-11\" d=\"M 1163.9,452.1 L 1154.0,458.8\" style=\"fill:none;fill-rule:evenodd;stroke:#CCCC00;stroke-width:2.0px;stroke-linecap:butt;stroke-linejoin:miter;stroke-opacity:1\"/>\n",
       "<path class=\"bond-11 atom-6 atom-12\" d=\"M 1101.5,451.6 L 1081.4,432.1\" style=\"fill:none;fill-rule:evenodd;stroke:#000000;stroke-width:2.0px;stroke-linecap:butt;stroke-linejoin:miter;stroke-opacity:1\"/>\n",
       "<path class=\"bond-12 atom-12 atom-13\" d=\"M 1081.4,432.1 L 1054.4,439.8\" style=\"fill:none;fill-rule:evenodd;stroke:#000000;stroke-width:2.0px;stroke-linecap:butt;stroke-linejoin:miter;stroke-opacity:1\"/>\n",
       "<path class=\"bond-12 atom-12 atom-13\" d=\"M 1080.2,436.8 L 1057.9,443.1\" style=\"fill:none;fill-rule:evenodd;stroke:#000000;stroke-width:2.0px;stroke-linecap:butt;stroke-linejoin:miter;stroke-opacity:1\"/>\n",
       "<path class=\"bond-13 atom-1 atom-14\" d=\"M 1000.5,455.2 L 989.0,458.5\" style=\"fill:none;fill-rule:evenodd;stroke:#000000;stroke-width:2.0px;stroke-linecap:butt;stroke-linejoin:miter;stroke-opacity:1\"/>\n",
       "<path class=\"bond-13 atom-1 atom-14\" d=\"M 989.0,458.5 L 977.5,461.8\" style=\"fill:none;fill-rule:evenodd;stroke:#0000FF;stroke-width:2.0px;stroke-linecap:butt;stroke-linejoin:miter;stroke-opacity:1\"/>\n",
       "<path class=\"bond-14 atom-14 atom-15\" d=\"M 969.6,459.1 L 961.5,451.2\" style=\"fill:none;fill-rule:evenodd;stroke:#0000FF;stroke-width:2.0px;stroke-linecap:butt;stroke-linejoin:miter;stroke-opacity:1\"/>\n",
       "<path class=\"bond-14 atom-14 atom-15\" d=\"M 961.5,451.2 L 953.4,443.4\" style=\"fill:none;fill-rule:evenodd;stroke:#000000;stroke-width:2.0px;stroke-linecap:butt;stroke-linejoin:miter;stroke-opacity:1\"/>\n",
       "<path class=\"bond-15 atom-15 atom-16\" d=\"M 953.4,443.4 L 926.2,436.6\" style=\"fill:none;fill-rule:evenodd;stroke:#000000;stroke-width:2.0px;stroke-linecap:butt;stroke-linejoin:miter;stroke-opacity:1\"/>\n",
       "<path class=\"bond-16 atom-16 atom-17\" d=\"M 926.2,436.6 L 945.7,416.4\" style=\"fill:none;fill-rule:evenodd;stroke:#000000;stroke-width:2.0px;stroke-linecap:butt;stroke-linejoin:miter;stroke-opacity:1\"/>\n",
       "<path class=\"bond-17 atom-13 atom-3\" d=\"M 1054.4,439.8 L 1047.6,467.0\" style=\"fill:none;fill-rule:evenodd;stroke:#000000;stroke-width:2.0px;stroke-linecap:butt;stroke-linejoin:miter;stroke-opacity:1\"/>\n",
       "<path class=\"bond-18 atom-17 atom-15\" d=\"M 945.7,416.4 L 953.4,443.4\" style=\"fill:none;fill-rule:evenodd;stroke:#000000;stroke-width:2.0px;stroke-linecap:butt;stroke-linejoin:miter;stroke-opacity:1\"/>\n",
       "<path class=\"bond-19 atom-11 atom-7\" d=\"M 1147.1,458.4 L 1137.8,451.1\" style=\"fill:none;fill-rule:evenodd;stroke:#CCCC00;stroke-width:2.0px;stroke-linecap:butt;stroke-linejoin:miter;stroke-opacity:1\"/>\n",
       "<path class=\"bond-19 atom-11 atom-7\" d=\"M 1137.8,451.1 L 1128.5,443.9\" style=\"fill:none;fill-rule:evenodd;stroke:#000000;stroke-width:2.0px;stroke-linecap:butt;stroke-linejoin:miter;stroke-opacity:1\"/>\n",
       "<path d=\"M 1001.5,456.1 L 1000.5,455.2 L 999.9,455.3\" style=\"fill:none;stroke:#000000;stroke-width:2.0px;stroke-linecap:butt;stroke-linejoin:miter;stroke-miterlimit:10;stroke-opacity:1;\"/>\n",
       "<path d=\"M 1019.6,473.7 L 1020.6,474.7 L 1022.0,474.3\" style=\"fill:none;stroke:#000000;stroke-width:2.0px;stroke-linecap:butt;stroke-linejoin:miter;stroke-miterlimit:10;stroke-opacity:1;\"/>\n",
       "<path d=\"M 1066.7,485.5 L 1067.8,486.5 L 1069.1,486.1\" style=\"fill:none;stroke:#000000;stroke-width:2.0px;stroke-linecap:butt;stroke-linejoin:miter;stroke-miterlimit:10;stroke-opacity:1;\"/>\n",
       "<path d=\"M 1093.4,479.1 L 1094.7,478.8 L 1095.1,477.4\" style=\"fill:none;stroke:#000000;stroke-width:2.0px;stroke-linecap:butt;stroke-linejoin:miter;stroke-miterlimit:10;stroke-opacity:1;\"/>\n",
       "<path d=\"M 1165.5,418.5 L 1166.1,418.5 L 1166.5,419.9\" style=\"fill:none;stroke:#000000;stroke-width:2.0px;stroke-linecap:butt;stroke-linejoin:miter;stroke-miterlimit:10;stroke-opacity:1;\"/>\n",
       "<path d=\"M 1173.4,444.1 L 1173.8,445.5 L 1173.3,445.8\" style=\"fill:none;stroke:#000000;stroke-width:2.0px;stroke-linecap:butt;stroke-linejoin:miter;stroke-miterlimit:10;stroke-opacity:1;\"/>\n",
       "<path d=\"M 1082.4,433.0 L 1081.4,432.1 L 1080.0,432.4\" style=\"fill:none;stroke:#000000;stroke-width:2.0px;stroke-linecap:butt;stroke-linejoin:miter;stroke-miterlimit:10;stroke-opacity:1;\"/>\n",
       "<path d=\"M 1055.8,439.4 L 1054.4,439.8 L 1054.1,441.1\" style=\"fill:none;stroke:#000000;stroke-width:2.0px;stroke-linecap:butt;stroke-linejoin:miter;stroke-miterlimit:10;stroke-opacity:1;\"/>\n",
       "<path d=\"M 927.6,436.9 L 926.2,436.6 L 927.2,435.6\" style=\"fill:none;stroke:#000000;stroke-width:2.0px;stroke-linecap:butt;stroke-linejoin:miter;stroke-miterlimit:10;stroke-opacity:1;\"/>\n",
       "<path d=\"M 944.7,417.4 L 945.7,416.4 L 946.1,417.8\" style=\"fill:none;stroke:#000000;stroke-width:2.0px;stroke-linecap:butt;stroke-linejoin:miter;stroke-miterlimit:10;stroke-opacity:1;\"/>\n",
       "<path class=\"atom-0\" d=\"M 1003.7 428.0 Q 1003.7 426.1, 1004.6 425.0 Q 1005.5 424.0, 1007.3 424.0 Q 1009.1 424.0, 1010.0 425.0 Q 1010.9 426.1, 1010.9 428.0 Q 1010.9 429.9, 1010.0 431.0 Q 1009.0 432.1, 1007.3 432.1 Q 1005.6 432.1, 1004.6 431.0 Q 1003.7 429.9, 1003.7 428.0 M 1007.3 431.2 Q 1008.5 431.2, 1009.2 430.4 Q 1009.8 429.6, 1009.8 428.0 Q 1009.8 426.4, 1009.2 425.7 Q 1008.5 424.9, 1007.3 424.9 Q 1006.1 424.9, 1005.4 425.6 Q 1004.8 426.4, 1004.8 428.0 Q 1004.8 429.6, 1005.4 430.4 Q 1006.1 431.2, 1007.3 431.2 \" fill=\"#FF0000\"/>\n",
       "<path class=\"atom-8\" d=\"M 1136.3 413.5 L 1138.9 417.7 Q 1139.2 418.2, 1139.6 418.9 Q 1140.0 419.7, 1140.0 419.7 L 1140.0 413.5 L 1141.1 413.5 L 1141.1 421.5 L 1140.0 421.5 L 1137.2 416.9 Q 1136.9 416.3, 1136.5 415.7 Q 1136.2 415.1, 1136.1 414.9 L 1136.1 421.5 L 1135.1 421.5 L 1135.1 413.5 L 1136.3 413.5 \" fill=\"#0000FF\"/>\n",
       "<path class=\"atom-11\" d=\"M 1148.3 463.9 Q 1148.4 463.9, 1148.8 464.0 Q 1149.1 464.2, 1149.5 464.3 Q 1150.0 464.4, 1150.4 464.4 Q 1151.1 464.4, 1151.6 464.0 Q 1152.0 463.7, 1152.0 463.0 Q 1152.0 462.6, 1151.8 462.3 Q 1151.6 462.0, 1151.2 461.9 Q 1150.9 461.8, 1150.3 461.6 Q 1149.6 461.4, 1149.2 461.2 Q 1148.8 461.0, 1148.5 460.5 Q 1148.2 460.1, 1148.2 459.4 Q 1148.2 458.4, 1148.8 457.8 Q 1149.5 457.2, 1150.9 457.2 Q 1151.8 457.2, 1152.8 457.6 L 1152.6 458.5 Q 1151.6 458.1, 1150.9 458.1 Q 1150.1 458.1, 1149.7 458.4 Q 1149.3 458.7, 1149.3 459.3 Q 1149.3 459.7, 1149.5 460.0 Q 1149.7 460.2, 1150.0 460.4 Q 1150.4 460.5, 1150.9 460.7 Q 1151.6 460.9, 1152.1 461.1 Q 1152.5 461.3, 1152.8 461.8 Q 1153.1 462.3, 1153.1 463.0 Q 1153.1 464.1, 1152.4 464.7 Q 1151.6 465.3, 1150.4 465.3 Q 1149.7 465.3, 1149.2 465.1 Q 1148.6 465.0, 1148.0 464.7 L 1148.3 463.9 \" fill=\"#CCCC00\"/>\n",
       "<path class=\"atom-14\" d=\"M 971.8 458.9 L 974.4 463.1 Q 974.6 463.5, 975.1 464.3 Q 975.5 465.0, 975.5 465.1 L 975.5 458.9 L 976.6 458.9 L 976.6 466.8 L 975.5 466.8 L 972.7 462.3 Q 972.3 461.7, 972.0 461.1 Q 971.7 460.5, 971.6 460.3 L 971.6 466.8 L 970.5 466.8 L 970.5 458.9 L 971.8 458.9 \" fill=\"#0000FF\"/>\n",
       "<path class=\"atom-14\" d=\"M 970.4 467.6 L 971.5 467.6 L 971.5 471.0 L 975.6 471.0 L 975.6 467.6 L 976.6 467.6 L 976.6 475.6 L 975.6 475.6 L 975.6 471.9 L 971.5 471.9 L 971.5 475.6 L 970.4 475.6 L 970.4 467.6 \" fill=\"#0000FF\"/>\n",
       "<path class=\"bond-0 atom-0 atom-1\" d=\"M 45.5,706.7 L 51.7,715.7\" style=\"fill:none;fill-rule:evenodd;stroke:#FF0000;stroke-width:2.0px;stroke-linecap:butt;stroke-linejoin:miter;stroke-opacity:1\"/>\n",
       "<path class=\"bond-0 atom-0 atom-1\" d=\"M 51.7,715.7 L 57.9,724.7\" style=\"fill:none;fill-rule:evenodd;stroke:#000000;stroke-width:2.0px;stroke-linecap:butt;stroke-linejoin:miter;stroke-opacity:1\"/>\n",
       "<path class=\"bond-1 atom-1 atom-2\" d=\"M 57.9,724.7 L 85.9,722.6\" style=\"fill:none;fill-rule:evenodd;stroke:#000000;stroke-width:2.0px;stroke-linecap:butt;stroke-linejoin:miter;stroke-opacity:1\"/>\n",
       "<path class=\"bond-2 atom-2 atom-3\" d=\"M 85.9,722.6 L 92.1,731.8\" style=\"fill:none;fill-rule:evenodd;stroke:#000000;stroke-width:2.0px;stroke-linecap:butt;stroke-linejoin:miter;stroke-opacity:1\"/>\n",
       "<path class=\"bond-2 atom-2 atom-3\" d=\"M 92.1,731.8 L 98.3,740.9\" style=\"fill:none;fill-rule:evenodd;stroke:#0000FF;stroke-width:2.0px;stroke-linecap:butt;stroke-linejoin:miter;stroke-opacity:1\"/>\n",
       "<path class=\"bond-3 atom-3 atom-4\" d=\"M 105.6,745.5 L 117.6,744.6\" style=\"fill:none;fill-rule:evenodd;stroke:#0000FF;stroke-width:2.0px;stroke-linecap:butt;stroke-linejoin:miter;stroke-opacity:1\"/>\n",
       "<path class=\"bond-3 atom-3 atom-4\" d=\"M 117.6,744.6 L 129.6,743.7\" style=\"fill:none;fill-rule:evenodd;stroke:#000000;stroke-width:2.0px;stroke-linecap:butt;stroke-linejoin:miter;stroke-opacity:1\"/>\n",
       "<path class=\"bond-4 atom-4 atom-5\" d=\"M 129.6,743.7 L 141.8,718.4\" style=\"fill:none;fill-rule:evenodd;stroke:#000000;stroke-width:2.0px;stroke-linecap:butt;stroke-linejoin:miter;stroke-opacity:1\"/>\n",
       "<path class=\"bond-4 atom-4 atom-5\" d=\"M 134.4,743.3 L 144.5,722.5\" style=\"fill:none;fill-rule:evenodd;stroke:#000000;stroke-width:2.0px;stroke-linecap:butt;stroke-linejoin:miter;stroke-opacity:1\"/>\n",
       "<path class=\"bond-5 atom-5 atom-6\" d=\"M 141.8,718.4 L 169.7,716.3\" style=\"fill:none;fill-rule:evenodd;stroke:#000000;stroke-width:2.0px;stroke-linecap:butt;stroke-linejoin:miter;stroke-opacity:1\"/>\n",
       "<path class=\"bond-6 atom-6 atom-7\" d=\"M 169.7,716.3 L 185.5,739.5\" style=\"fill:none;fill-rule:evenodd;stroke:#000000;stroke-width:2.0px;stroke-linecap:butt;stroke-linejoin:miter;stroke-opacity:1\"/>\n",
       "<path class=\"bond-6 atom-6 atom-7\" d=\"M 167.6,720.7 L 180.7,739.9\" style=\"fill:none;fill-rule:evenodd;stroke:#000000;stroke-width:2.0px;stroke-linecap:butt;stroke-linejoin:miter;stroke-opacity:1\"/>\n",
       "<path class=\"bond-7 atom-7 atom-8\" d=\"M 185.5,739.5 L 213.5,737.4\" style=\"fill:none;fill-rule:evenodd;stroke:#000000;stroke-width:2.0px;stroke-linecap:butt;stroke-linejoin:miter;stroke-opacity:1\"/>\n",
       "<path class=\"bond-8 atom-8 atom-9\" d=\"M 213.5,737.4 L 219.7,746.5\" style=\"fill:none;fill-rule:evenodd;stroke:#000000;stroke-width:2.0px;stroke-linecap:butt;stroke-linejoin:miter;stroke-opacity:1\"/>\n",
       "<path class=\"bond-8 atom-8 atom-9\" d=\"M 219.7,746.5 L 225.9,755.7\" style=\"fill:none;fill-rule:evenodd;stroke:#0000FF;stroke-width:2.0px;stroke-linecap:butt;stroke-linejoin:miter;stroke-opacity:1\"/>\n",
       "<path class=\"bond-8 atom-8 atom-9\" d=\"M 218.3,737.0 L 223.9,745.2\" style=\"fill:none;fill-rule:evenodd;stroke:#000000;stroke-width:2.0px;stroke-linecap:butt;stroke-linejoin:miter;stroke-opacity:1\"/>\n",
       "<path class=\"bond-8 atom-8 atom-9\" d=\"M 223.9,745.2 L 229.4,753.3\" style=\"fill:none;fill-rule:evenodd;stroke:#0000FF;stroke-width:2.0px;stroke-linecap:butt;stroke-linejoin:miter;stroke-opacity:1\"/>\n",
       "<path class=\"bond-9 atom-9 atom-10\" d=\"M 233.2,760.3 L 245.2,759.4\" style=\"fill:none;fill-rule:evenodd;stroke:#0000FF;stroke-width:2.0px;stroke-linecap:butt;stroke-linejoin:miter;stroke-opacity:1\"/>\n",
       "<path class=\"bond-9 atom-9 atom-10\" d=\"M 245.2,759.4 L 257.2,758.4\" style=\"fill:none;fill-rule:evenodd;stroke:#000000;stroke-width:2.0px;stroke-linecap:butt;stroke-linejoin:miter;stroke-opacity:1\"/>\n",
       "<path class=\"bond-10 atom-10 atom-11\" d=\"M 257.2,758.4 L 269.4,733.2\" style=\"fill:none;fill-rule:evenodd;stroke:#000000;stroke-width:2.0px;stroke-linecap:butt;stroke-linejoin:miter;stroke-opacity:1\"/>\n",
       "<path class=\"bond-10 atom-10 atom-11\" d=\"M 254.5,754.4 L 264.6,733.6\" style=\"fill:none;fill-rule:evenodd;stroke:#000000;stroke-width:2.0px;stroke-linecap:butt;stroke-linejoin:miter;stroke-opacity:1\"/>\n",
       "<path class=\"bond-11 atom-11 atom-12\" d=\"M 269.4,733.2 L 253.6,710.0\" style=\"fill:none;fill-rule:evenodd;stroke:#000000;stroke-width:2.0px;stroke-linecap:butt;stroke-linejoin:miter;stroke-opacity:1\"/>\n",
       "<path class=\"bond-12 atom-12 atom-13\" d=\"M 253.6,710.0 L 225.6,712.1\" style=\"fill:none;fill-rule:evenodd;stroke:#000000;stroke-width:2.0px;stroke-linecap:butt;stroke-linejoin:miter;stroke-opacity:1\"/>\n",
       "<path class=\"bond-12 atom-12 atom-13\" d=\"M 251.5,714.4 L 228.4,716.1\" style=\"fill:none;fill-rule:evenodd;stroke:#000000;stroke-width:2.0px;stroke-linecap:butt;stroke-linejoin:miter;stroke-opacity:1\"/>\n",
       "<path class=\"bond-13 atom-13 atom-14\" d=\"M 225.6,712.1 L 218.5,701.6\" style=\"fill:none;fill-rule:evenodd;stroke:#000000;stroke-width:2.0px;stroke-linecap:butt;stroke-linejoin:miter;stroke-opacity:1\"/>\n",
       "<path class=\"bond-13 atom-13 atom-14\" d=\"M 218.5,701.6 L 211.3,691.1\" style=\"fill:none;fill-rule:evenodd;stroke:#00CC00;stroke-width:2.0px;stroke-linecap:butt;stroke-linejoin:miter;stroke-opacity:1\"/>\n",
       "<path class=\"bond-14 atom-7 atom-15\" d=\"M 185.5,739.5 L 173.4,764.8\" style=\"fill:none;fill-rule:evenodd;stroke:#000000;stroke-width:2.0px;stroke-linecap:butt;stroke-linejoin:miter;stroke-opacity:1\"/>\n",
       "<path class=\"bond-15 atom-15 atom-16\" d=\"M 173.4,764.8 L 145.4,766.9\" style=\"fill:none;fill-rule:evenodd;stroke:#000000;stroke-width:2.0px;stroke-linecap:butt;stroke-linejoin:miter;stroke-opacity:1\"/>\n",
       "<path class=\"bond-15 atom-15 atom-16\" d=\"M 170.6,760.7 L 147.5,762.5\" style=\"fill:none;fill-rule:evenodd;stroke:#000000;stroke-width:2.0px;stroke-linecap:butt;stroke-linejoin:miter;stroke-opacity:1\"/>\n",
       "<path class=\"bond-16 atom-16 atom-17\" d=\"M 145.4,766.9 L 140.5,777.0\" style=\"fill:none;fill-rule:evenodd;stroke:#000000;stroke-width:2.0px;stroke-linecap:butt;stroke-linejoin:miter;stroke-opacity:1\"/>\n",
       "<path class=\"bond-16 atom-16 atom-17\" d=\"M 140.5,777.0 L 135.6,787.2\" style=\"fill:none;fill-rule:evenodd;stroke:#FF0000;stroke-width:2.0px;stroke-linecap:butt;stroke-linejoin:miter;stroke-opacity:1\"/>\n",
       "<path class=\"bond-17 atom-17 atom-18\" d=\"M 136.7,797.2 L 142.9,806.2\" style=\"fill:none;fill-rule:evenodd;stroke:#FF0000;stroke-width:2.0px;stroke-linecap:butt;stroke-linejoin:miter;stroke-opacity:1\"/>\n",
       "<path class=\"bond-17 atom-17 atom-18\" d=\"M 142.9,806.2 L 149.1,815.3\" style=\"fill:none;fill-rule:evenodd;stroke:#000000;stroke-width:2.0px;stroke-linecap:butt;stroke-linejoin:miter;stroke-opacity:1\"/>\n",
       "<path class=\"bond-18 atom-16 atom-4\" d=\"M 145.4,766.9 L 129.6,743.7\" style=\"fill:none;fill-rule:evenodd;stroke:#000000;stroke-width:2.0px;stroke-linecap:butt;stroke-linejoin:miter;stroke-opacity:1\"/>\n",
       "<path class=\"bond-19 atom-13 atom-8\" d=\"M 225.6,712.1 L 213.5,737.4\" style=\"fill:none;fill-rule:evenodd;stroke:#000000;stroke-width:2.0px;stroke-linecap:butt;stroke-linejoin:miter;stroke-opacity:1\"/>\n",
       "<path d=\"M 57.6,724.3 L 57.9,724.7 L 59.3,724.6\" style=\"fill:none;stroke:#000000;stroke-width:2.0px;stroke-linecap:butt;stroke-linejoin:miter;stroke-miterlimit:10;stroke-opacity:1;\"/>\n",
       "<path d=\"M 84.5,722.8 L 85.9,722.6 L 86.2,723.1\" style=\"fill:none;stroke:#000000;stroke-width:2.0px;stroke-linecap:butt;stroke-linejoin:miter;stroke-miterlimit:10;stroke-opacity:1;\"/>\n",
       "<path d=\"M 141.2,719.7 L 141.8,718.4 L 143.2,718.3\" style=\"fill:none;stroke:#000000;stroke-width:2.0px;stroke-linecap:butt;stroke-linejoin:miter;stroke-miterlimit:10;stroke-opacity:1;\"/>\n",
       "<path d=\"M 168.3,716.4 L 169.7,716.3 L 170.5,717.5\" style=\"fill:none;stroke:#000000;stroke-width:2.0px;stroke-linecap:butt;stroke-linejoin:miter;stroke-miterlimit:10;stroke-opacity:1;\"/>\n",
       "<path d=\"M 256.6,758.5 L 257.2,758.4 L 257.8,757.2\" style=\"fill:none;stroke:#000000;stroke-width:2.0px;stroke-linecap:butt;stroke-linejoin:miter;stroke-miterlimit:10;stroke-opacity:1;\"/>\n",
       "<path d=\"M 268.8,734.4 L 269.4,733.2 L 268.6,732.0\" style=\"fill:none;stroke:#000000;stroke-width:2.0px;stroke-linecap:butt;stroke-linejoin:miter;stroke-miterlimit:10;stroke-opacity:1;\"/>\n",
       "<path d=\"M 254.4,711.2 L 253.6,710.0 L 252.2,710.1\" style=\"fill:none;stroke:#000000;stroke-width:2.0px;stroke-linecap:butt;stroke-linejoin:miter;stroke-miterlimit:10;stroke-opacity:1;\"/>\n",
       "<path d=\"M 174.0,763.5 L 173.4,764.8 L 172.0,764.9\" style=\"fill:none;stroke:#000000;stroke-width:2.0px;stroke-linecap:butt;stroke-linejoin:miter;stroke-miterlimit:10;stroke-opacity:1;\"/>\n",
       "<path class=\"atom-0\" d=\"M 30.6 697.7 L 31.7 697.7 L 31.7 701.0 L 35.7 701.0 L 35.7 697.7 L 36.8 697.7 L 36.8 705.6 L 35.7 705.6 L 35.7 701.9 L 31.7 701.9 L 31.7 705.6 L 30.6 705.6 L 30.6 697.7 \" fill=\"#FF0000\"/>\n",
       "<path class=\"atom-0\" d=\"M 38.4 701.6 Q 38.4 699.7, 39.4 698.6 Q 40.3 697.6, 42.1 697.6 Q 43.9 697.6, 44.8 698.6 Q 45.7 699.7, 45.7 701.6 Q 45.7 703.5, 44.8 704.6 Q 43.8 705.7, 42.1 705.7 Q 40.3 705.7, 39.4 704.6 Q 38.4 703.6, 38.4 701.6 M 42.1 704.8 Q 43.3 704.8, 44.0 704.0 Q 44.6 703.2, 44.6 701.6 Q 44.6 700.1, 44.0 699.3 Q 43.3 698.5, 42.1 698.5 Q 40.9 698.5, 40.2 699.3 Q 39.6 700.0, 39.6 701.6 Q 39.6 703.2, 40.2 704.0 Q 40.9 704.8, 42.1 704.8 \" fill=\"#FF0000\"/>\n",
       "<path class=\"atom-3\" d=\"M 90.9 741.8 L 91.9 741.8 L 91.9 745.2 L 96.0 745.2 L 96.0 741.8 L 97.1 741.8 L 97.1 749.8 L 96.0 749.8 L 96.0 746.1 L 91.9 746.1 L 91.9 749.8 L 90.9 749.8 L 90.9 741.8 \" fill=\"#0000FF\"/>\n",
       "<path class=\"atom-3\" d=\"M 99.9 741.8 L 102.5 746.0 Q 102.8 746.5, 103.2 747.2 Q 103.6 748.0, 103.6 748.0 L 103.6 741.8 L 104.7 741.8 L 104.7 749.8 L 103.6 749.8 L 100.8 745.2 Q 100.5 744.6, 100.1 744.0 Q 99.8 743.4, 99.7 743.2 L 99.7 749.8 L 98.6 749.8 L 98.6 741.8 L 99.9 741.8 \" fill=\"#0000FF\"/>\n",
       "<path class=\"atom-9\" d=\"M 227.5 756.6 L 230.1 760.8 Q 230.4 761.2, 230.8 762.0 Q 231.2 762.7, 231.2 762.8 L 231.2 756.6 L 232.3 756.6 L 232.3 764.5 L 231.2 764.5 L 228.4 759.9 Q 228.1 759.4, 227.7 758.8 Q 227.4 758.2, 227.3 758.0 L 227.3 764.5 L 226.3 764.5 L 226.3 756.6 L 227.5 756.6 \" fill=\"#0000FF\"/>\n",
       "<path class=\"atom-14\" d=\"M 202.4 689.2 Q 202.4 687.3, 203.3 686.2 Q 204.2 685.2, 206.0 685.2 Q 207.6 685.2, 208.5 686.4 L 207.8 687.0 Q 207.1 686.1, 206.0 686.1 Q 204.8 686.1, 204.2 686.9 Q 203.5 687.7, 203.5 689.2 Q 203.5 690.8, 204.2 691.6 Q 204.8 692.4, 206.1 692.4 Q 207.0 692.4, 208.0 691.9 L 208.3 692.7 Q 207.9 693.0, 207.3 693.2 Q 206.7 693.3, 206.0 693.3 Q 204.2 693.3, 203.3 692.3 Q 202.4 691.2, 202.4 689.2 \" fill=\"#00CC00\"/>\n",
       "<path class=\"atom-14\" d=\"M 209.3 684.7 L 210.4 684.7 L 210.4 693.2 L 209.3 693.2 L 209.3 684.7 \" fill=\"#00CC00\"/>\n",
       "<path class=\"atom-17\" d=\"M 129.6 792.1 Q 129.6 790.2, 130.5 789.2 Q 131.5 788.1, 133.3 788.1 Q 135.0 788.1, 136.0 789.2 Q 136.9 790.2, 136.9 792.1 Q 136.9 794.1, 135.9 795.2 Q 135.0 796.3, 133.3 796.3 Q 131.5 796.3, 130.5 795.2 Q 129.6 794.1, 129.6 792.1 M 133.3 795.4 Q 134.5 795.4, 135.1 794.6 Q 135.8 793.7, 135.8 792.1 Q 135.8 790.6, 135.1 789.8 Q 134.5 789.0, 133.3 789.0 Q 132.0 789.0, 131.4 789.8 Q 130.7 790.6, 130.7 792.1 Q 130.7 793.8, 131.4 794.6 Q 132.0 795.4, 133.3 795.4 \" fill=\"#FF0000\"/>\n",
       "</svg>"
      ],
      "text/plain": [
       "<IPython.core.display.SVG object>"
      ]
     },
     "execution_count": 28,
     "metadata": {},
     "output_type": "execute_result"
    }
   ],
   "source": [
    "generated_smi = trained_model.multinomial_generation_batched(total=10, batch_size=10)\n",
    "generated_smi = [i for i in generated_smi if i != None]\n",
    "dm.to_image(generated_smi)"
   ]
  }
 ],
 "metadata": {
  "kernelspec": {
   "display_name": "saturn (Python 3)",
   "language": "python",
   "name": "python3"
  },
  "language_info": {
   "codemirror_mode": {
    "name": "ipython",
    "version": 3
   },
   "file_extension": ".py",
   "mimetype": "text/x-python",
   "name": "python",
   "nbconvert_exporter": "python",
   "pygments_lexer": "ipython3",
   "version": "3.12.9"
  }
 },
 "nbformat": 4,
 "nbformat_minor": 5
}
